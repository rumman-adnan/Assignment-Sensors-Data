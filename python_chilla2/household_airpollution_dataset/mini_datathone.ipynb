{
 "cells": [
  {
   "cell_type": "code",
   "execution_count": 1,
   "metadata": {},
   "outputs": [],
   "source": [
    "import numpy as np\n",
    "import seaborn as sns\n",
    "import pandas as pd\n",
    "import matplotlib.pyplot as plt\n"
   ]
  },
  {
   "cell_type": "code",
   "execution_count": 4,
   "metadata": {},
   "outputs": [],
   "source": [
    "# read the data\n",
    "df = pd.read_csv('deaths-from-indoor-air-pollution-by-age.csv')"
   ]
  },
  {
   "cell_type": "code",
   "execution_count": 5,
   "metadata": {},
   "outputs": [
    {
     "data": {
      "text/plain": [
       "<bound method NDFrame.head of            Entity Code  Year  \\\n",
       "0     Afghanistan  AFG  1990   \n",
       "1     Afghanistan  AFG  1991   \n",
       "2     Afghanistan  AFG  1992   \n",
       "3     Afghanistan  AFG  1993   \n",
       "4     Afghanistan  AFG  1994   \n",
       "...           ...  ...   ...   \n",
       "6835     Zimbabwe  ZWE  2015   \n",
       "6836     Zimbabwe  ZWE  2016   \n",
       "6837     Zimbabwe  ZWE  2017   \n",
       "6838     Zimbabwe  ZWE  2018   \n",
       "6839     Zimbabwe  ZWE  2019   \n",
       "\n",
       "      Deaths - Cause: All causes - Risk: Household air pollution from solid fuels - Sex: Both - Age: Under 5 (Number)  \\\n",
       "0                                                 14388                                                                 \n",
       "1                                                 15136                                                                 \n",
       "2                                                 17305                                                                 \n",
       "3                                                 19747                                                                 \n",
       "4                                                 21116                                                                 \n",
       "...                                                 ...                                                                 \n",
       "6835                                               3556                                                                 \n",
       "6836                                               3447                                                                 \n",
       "6837                                               3320                                                                 \n",
       "6838                                               3170                                                                 \n",
       "6839                                               3062                                                                 \n",
       "\n",
       "      Deaths - Cause: All causes - Risk: Household air pollution from solid fuels - Sex: Both - Age: 5-14 years (Number)  \\\n",
       "0                                                   288                                                                    \n",
       "1                                                   311                                                                    \n",
       "2                                                   356                                                                    \n",
       "3                                                   391                                                                    \n",
       "4                                                   405                                                                    \n",
       "...                                                 ...                                                                    \n",
       "6835                                                 65                                                                    \n",
       "6836                                                 69                                                                    \n",
       "6837                                                 70                                                                    \n",
       "6838                                                 70                                                                    \n",
       "6839                                                 66                                                                    \n",
       "\n",
       "      Deaths - Cause: All causes - Risk: Household air pollution from solid fuels - Sex: Both - Age: 70+ years (Number)  \\\n",
       "0                                                  7621                                                                   \n",
       "1                                                  7708                                                                   \n",
       "2                                                  7826                                                                   \n",
       "3                                                  8013                                                                   \n",
       "4                                                  8227                                                                   \n",
       "...                                                 ...                                                                   \n",
       "6835                                               2796                                                                   \n",
       "6836                                               2805                                                                   \n",
       "6837                                               2808                                                                   \n",
       "6838                                               2809                                                                   \n",
       "6839                                               2811                                                                   \n",
       "\n",
       "      Deaths - Cause: All causes - Risk: Household air pollution from solid fuels - Sex: Both - Age: 15-49 years (Number)  \\\n",
       "0                                                  2584                                                                     \n",
       "1                                                  2664                                                                     \n",
       "2                                                  2846                                                                     \n",
       "3                                                  3024                                                                     \n",
       "4                                                  3158                                                                     \n",
       "...                                                 ...                                                                     \n",
       "6835                                                984                                                                     \n",
       "6836                                                997                                                                     \n",
       "6837                                               1003                                                                     \n",
       "6838                                               1005                                                                     \n",
       "6839                                               1011                                                                     \n",
       "\n",
       "      Deaths - Cause: All causes - Risk: Household air pollution from solid fuels - Sex: Both - Age: 50-69 years (Number)  \n",
       "0                                                  9491                                                                    \n",
       "1                                                  9572                                                                    \n",
       "2                                                  9732                                                                    \n",
       "3                                                  9979                                                                    \n",
       "4                                                 10247                                                                    \n",
       "...                                                 ...                                                                    \n",
       "6835                                               3033                                                                    \n",
       "6836                                               3047                                                                    \n",
       "6837                                               3057                                                                    \n",
       "6838                                               3059                                                                    \n",
       "6839                                               3069                                                                    \n",
       "\n",
       "[6840 rows x 8 columns]>"
      ]
     },
     "execution_count": 5,
     "metadata": {},
     "output_type": "execute_result"
    }
   ],
   "source": [
    "df.head"
   ]
  },
  {
   "cell_type": "code",
   "execution_count": null,
   "metadata": {},
   "outputs": [],
   "source": []
  },
  {
   "cell_type": "code",
   "execution_count": null,
   "metadata": {},
   "outputs": [],
   "source": []
  },
  {
   "cell_type": "code",
   "execution_count": null,
   "metadata": {},
   "outputs": [],
   "source": []
  },
  {
   "cell_type": "code",
   "execution_count": null,
   "metadata": {},
   "outputs": [],
   "source": []
  },
  {
   "cell_type": "markdown",
   "metadata": {},
   "source": []
  }
 ],
 "metadata": {
  "kernelspec": {
   "display_name": "Python 3.10.6 64-bit (windows store)",
   "language": "python",
   "name": "python3"
  },
  "language_info": {
   "codemirror_mode": {
    "name": "ipython",
    "version": 3
   },
   "file_extension": ".py",
   "mimetype": "text/x-python",
   "name": "python",
   "nbconvert_exporter": "python",
   "pygments_lexer": "ipython3",
   "version": "3.10.6"
  },
  "orig_nbformat": 4,
  "vscode": {
   "interpreter": {
    "hash": "b1d19c08c163913efebb1b2f5cc346864d85551cf62eeb6ed1ec53a6678f2dc2"
   }
  }
 },
 "nbformat": 4,
 "nbformat_minor": 2
}
