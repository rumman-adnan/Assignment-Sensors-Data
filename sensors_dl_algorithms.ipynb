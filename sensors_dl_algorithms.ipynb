{
  "nbformat": 4,
  "nbformat_minor": 0,
  "metadata": {
    "colab": {
      "provenance": [],
      "gpuType": "T4",
      "mount_file_id": "1co9L0f3cl6TV8YCyCmOdDjJmMEJKqMuR",
      "authorship_tag": "ABX9TyPtE00+VzX1zFQmwfcDGXF7",
      "include_colab_link": true
    },
    "kernelspec": {
      "name": "python3",
      "display_name": "Python 3"
    },
    "language_info": {
      "name": "python"
    },
    "accelerator": "GPU"
  },
  "cells": [
    {
      "cell_type": "markdown",
      "metadata": {
        "id": "view-in-github",
        "colab_type": "text"
      },
      "source": [
        "<a href=\"https://colab.research.google.com/github/rumman-adnan/Assignment-Sensors-Data/blob/main/sensors_dl_algorithms.ipynb\" target=\"_parent\"><img src=\"https://colab.research.google.com/assets/colab-badge.svg\" alt=\"Open In Colab\"/></a>"
      ]
    },
    {
      "cell_type": "code",
      "execution_count": 1,
      "metadata": {
        "id": "4aRQ04_85VmB",
        "colab": {
          "base_uri": "https://localhost:8080/"
        },
        "outputId": "929efd20-a067-4501-9996-606830dddc89"
      },
      "outputs": [
        {
          "output_type": "stream",
          "name": "stdout",
          "text": [
            "Mounted at /content/drive\n"
          ]
        }
      ],
      "source": [
        "from google.colab import drive\n",
        "drive.mount('/content/drive')"
      ]
    },
    {
      "cell_type": "code",
      "source": [],
      "metadata": {
        "colab": {
          "base_uri": "https://localhost:8080/"
        },
        "id": "TuUnVL_h8AFI",
        "outputId": "0454640d-8768-47cd-baa7-a6c4fb55d540"
      },
      "execution_count": 3,
      "outputs": [
        {
          "output_type": "stream",
          "name": "stdout",
          "text": [
            "Mounted at /content/drive\n"
          ]
        }
      ]
    },
    {
      "cell_type": "code",
      "source": [
        "import pandas as pd\n",
        "import numpy as np\n",
        "import matplotlib as mpl\n",
        "import seaborn as sns\n",
        "import tensorflow as tf\n",
        "from sklearn.preprocessing import MinMaxScaler\n",
        "from sklearn.preprocessing import StandardScaler\n",
        "from sklearn.model_selection import train_test_split\n",
        "from sklearn.metrics import mean_squared_error\n",
        "from sklearn.metrics import mean_absolute_error\n",
        "from sklearn.metrics import r2_score\n",
        "\n"
      ],
      "metadata": {
        "id": "dzEGkJVu9NvQ"
      },
      "execution_count": 3,
      "outputs": []
    },
    {
      "cell_type": "code",
      "source": [
        "# read data\n",
        "# currently dont use this\n",
        "train_data = pd.read_csv('/content/drive/MyDrive/Python work/sim_data/CSV data/training_data.csv')\n",
        "test_data = pd.read_csv('/content/drive/MyDrive/Python work/sim_data/CSV data/testing_data.csv')\n",
        "print(train_data.shape)\n",
        "print(test_data.shape)\n"
      ],
      "metadata": {
        "id": "7GZWki5XERCm",
        "colab": {
          "base_uri": "https://localhost:8080/"
        },
        "outputId": "fb5c99b0-e9c0-4c26-83f9-e2f892bf8869"
      },
      "execution_count": 5,
      "outputs": [
        {
          "output_type": "stream",
          "name": "stdout",
          "text": [
            "(20000, 1002)\n",
            "(10000, 1002)\n"
          ]
        }
      ]
    },
    {
      "cell_type": "code",
      "source": [
        "train_data = np.load('/content/drive/MyDrive/Python work/sim_data/simu_20000_0.1_90_140_train.npy')\n",
        "test_data = np.load('/content/drive/MyDrive/Python work/sim_data/simu_10000_0.1_141_178_test.npy')\n",
        "\n",
        "print(\"The shape of trained data is: \",train_data.shape)\n",
        "print(\"The shape of tested data is: \",test_data.shape)"
      ],
      "metadata": {
        "colab": {
          "base_uri": "https://localhost:8080/"
        },
        "id": "Oy_WJs1Ujo2u",
        "outputId": "d99ce220-be0b-4ece-99c9-c6cfddd0debd"
      },
      "execution_count": 7,
      "outputs": [
        {
          "output_type": "stream",
          "name": "stdout",
          "text": [
            "The shape of trained data is:  (20000, 1006)\n",
            "The shape of tested data is:  (10000, 1006)\n"
          ]
        }
      ]
    },
    {
      "cell_type": "code",
      "source": [
        "# Extract features and target variables from the training dataset\n",
        "train_sensor_data = train_data[:, :1000]\n",
        "train_ID = train_data[:, 1000]\n",
        "train_time = train_data[:, 1001]\n",
        "train_H = train_data[:, 1002]\n",
        "train_R = train_data[:, 1003]\n",
        "train_S = train_data[:, 1004]\n",
        "train_D = train_data[:, 1005]\n",
        "\n",
        "# Extract features and target variables from the test dataset\n",
        "test_sensor_data = test_data[:, :1000]\n",
        "test_ID = test_data[:, 1000]\n",
        "test_time = test_data[:, 1001]\n",
        "test_H = test_data[:, 1002]\n",
        "test_R = test_data[:, 1003]\n",
        "test_S = test_data[:, 1004]\n",
        "test_D = test_data[:, 1005]\n",
        "\n",
        "# Display the shape of the extracted arrays to confirm extraction\n",
        "train_sensor_data.shape, train_S.shape, train_D.shape, test_sensor_data.shape, test_S.shape, test_D.shape\n"
      ],
      "metadata": {
        "colab": {
          "base_uri": "https://localhost:8080/"
        },
        "id": "VBKNuOQQiSn9",
        "outputId": "d8b2398f-879a-4ee4-d784-2ed2f951d342"
      },
      "execution_count": 8,
      "outputs": [
        {
          "output_type": "execute_result",
          "data": {
            "text/plain": [
              "((20000, 1000), (20000,), (20000,), (10000, 1000), (10000,), (10000,))"
            ]
          },
          "metadata": {},
          "execution_count": 8
        }
      ]
    },
    {
      "cell_type": "code",
      "source": [
        "from sklearn.preprocessing import StandardScaler\n",
        "\n",
        "# Reshape the data to fit the input requirements of a 1D CNN model\n",
        "# The shape should be (num_samples, num_time_steps, num_features)\n",
        "train_sensor_data_cnn = train_sensor_data.reshape(train_sensor_data.shape[0], train_sensor_data.shape[1], 1)\n",
        "test_sensor_data_cnn = test_sensor_data.reshape(test_sensor_data.shape[0], test_sensor_data.shape[1], 1)\n",
        "\n",
        "# Normalize the features\n",
        "scaler = StandardScaler()\n",
        "train_sensor_data_cnn = scaler.fit_transform(train_sensor_data_cnn.reshape(-1, 1)).reshape(train_sensor_data_cnn.shape)\n",
        "test_sensor_data_cnn = scaler.transform(test_sensor_data_cnn.reshape(-1, 1)).reshape(test_sensor_data_cnn.shape)\n",
        "\n",
        "# Show the shape of the reshaped and normalized data\n",
        "train_sensor_data_cnn.shape, test_sensor_data_cnn.shape\n"
      ],
      "metadata": {
        "colab": {
          "base_uri": "https://localhost:8080/"
        },
        "id": "GMveGehGkEM9",
        "outputId": "4e98cb36-ba50-4b66-a1c7-126996a17cbc"
      },
      "execution_count": 9,
      "outputs": [
        {
          "output_type": "execute_result",
          "data": {
            "text/plain": [
              "((20000, 1000, 1), (10000, 1000, 1))"
            ]
          },
          "metadata": {},
          "execution_count": 9
        }
      ]
    },
    {
      "cell_type": "code",
      "source": [
        "from tensorflow.keras.models import Sequential\n",
        "from tensorflow.keras.layers import Conv1D, MaxPooling1D, Flatten, Dense, Dropout\n",
        "from tensorflow.keras.optimizers import Adam\n",
        "\n",
        "# Define the CNN model architecture\n",
        "def build_cnn_model(input_shape):\n",
        "    model = Sequential()\n",
        "\n",
        "    # Convolutional layers\n",
        "    model.add(Conv1D(filters=128, kernel_size=5, activation='relu', input_shape=input_shape))\n",
        "    model.add(MaxPooling1D(pool_size=2))\n",
        "    model.add(Conv1D(filters=256, kernel_size=5, activation='relu'))\n",
        "    model.add(MaxPooling1D(pool_size=2))\n",
        "    model.add(Flatten())\n",
        "\n",
        "    # Fully connected layers\n",
        "    model.add(Dense(128, activation='relu'))\n",
        "    model.add(Dropout(0.4))\n",
        "    model.add(Dense(64, activation='relu'))\n",
        "    model.add(Dense(2))  # Two output nodes to predict both systolic and diastolic BP\n",
        "\n",
        "    # Compile the model\n",
        "    model.compile(optimizer=Adam(), loss='mse')\n",
        "\n",
        "    return model\n",
        "\n",
        "# Build the CNN model\n",
        "cnn_model = build_cnn_model((train_sensor_data_cnn.shape[1], 1))\n",
        "\n",
        "# Display the model architecture\n",
        "cnn_model.summary()\n"
      ],
      "metadata": {
        "colab": {
          "base_uri": "https://localhost:8080/"
        },
        "id": "zyCTkncEkLE9",
        "outputId": "24245708-894b-471a-cfeb-c14b413df42d"
      },
      "execution_count": 14,
      "outputs": [
        {
          "output_type": "stream",
          "name": "stdout",
          "text": [
            "Model: \"sequential_2\"\n",
            "_________________________________________________________________\n",
            " Layer (type)                Output Shape              Param #   \n",
            "=================================================================\n",
            " conv1d_4 (Conv1D)           (None, 996, 128)          768       \n",
            "                                                                 \n",
            " max_pooling1d_4 (MaxPooling  (None, 498, 128)         0         \n",
            " 1D)                                                             \n",
            "                                                                 \n",
            " conv1d_5 (Conv1D)           (None, 494, 256)          164096    \n",
            "                                                                 \n",
            " max_pooling1d_5 (MaxPooling  (None, 247, 256)         0         \n",
            " 1D)                                                             \n",
            "                                                                 \n",
            " flatten_2 (Flatten)         (None, 63232)             0         \n",
            "                                                                 \n",
            " dense_6 (Dense)             (None, 128)               8093824   \n",
            "                                                                 \n",
            " dropout_2 (Dropout)         (None, 128)               0         \n",
            "                                                                 \n",
            " dense_7 (Dense)             (None, 64)                8256      \n",
            "                                                                 \n",
            " dense_8 (Dense)             (None, 2)                 130       \n",
            "                                                                 \n",
            "=================================================================\n",
            "Total params: 8,267,074\n",
            "Trainable params: 8,267,074\n",
            "Non-trainable params: 0\n",
            "_________________________________________________________________\n"
          ]
        }
      ]
    },
    {
      "cell_type": "code",
      "source": [
        "from sklearn.metrics import mean_absolute_error\n",
        "\n",
        "# Make predictions on the test set\n",
        "predictions = cnn_model.predict(test_sensor_data_cnn)\n",
        "\n",
        "# Separate the predictions for systolic and diastolic BP\n",
        "pred_S, pred_D = predictions[:, 0], predictions[:, 1]\n",
        "\n",
        "# Compute the MAE for systolic and diastolic BP\n",
        "mae_S = mean_absolute_error(test_S, pred_S)\n",
        "mae_D = mean_absolute_error(test_D, pred_D)\n",
        "\n",
        "print(f\"Mean Absolute Error for Systolic BP: {mae_S}\")\n",
        "print(f\"Mean Absolute Error for Diastolic BP: {mae_D}\")\n"
      ],
      "metadata": {
        "colab": {
          "base_uri": "https://localhost:8080/"
        },
        "id": "4DEE0_OlkrYd",
        "outputId": "a631c55f-f72b-4a01-ff08-ddc8227d6b26"
      },
      "execution_count": 15,
      "outputs": [
        {
          "output_type": "stream",
          "name": "stdout",
          "text": [
            "313/313 [==============================] - 2s 5ms/step\n",
            "Mean Absolute Error for Systolic BP: 159.4602992392715\n",
            "Mean Absolute Error for Diastolic BP: 79.91103181238296\n"
          ]
        }
      ]
    },
    {
      "cell_type": "code",
      "source": [],
      "metadata": {
        "id": "JiTclsf9kfCO"
      },
      "execution_count": null,
      "outputs": []
    },
    {
      "cell_type": "markdown",
      "source": [
        "*Apply LSTM*"
      ],
      "metadata": {
        "id": "jBxIt6aIEDaw"
      }
    },
    {
      "cell_type": "code",
      "source": [],
      "metadata": {
        "id": "MGZjvYdflHjQ"
      },
      "execution_count": null,
      "outputs": []
    }
  ]
}