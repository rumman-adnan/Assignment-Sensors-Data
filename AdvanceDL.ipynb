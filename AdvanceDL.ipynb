{
  "nbformat": 4,
  "nbformat_minor": 0,
  "metadata": {
    "colab": {
      "provenance": [],
      "authorship_tag": "ABX9TyNzCT73YCaz0c7uWp4xLvFz",
      "include_colab_link": true
    },
    "kernelspec": {
      "name": "python3",
      "display_name": "Python 3"
    },
    "language_info": {
      "name": "python"
    }
  },
  "cells": [
    {
      "cell_type": "markdown",
      "metadata": {
        "id": "view-in-github",
        "colab_type": "text"
      },
      "source": [
        "<a href=\"https://colab.research.google.com/github/rumman-adnan/Assignment-Sensors-Data/blob/main/AdvanceDL.ipynb\" target=\"_parent\"><img src=\"https://colab.research.google.com/assets/colab-badge.svg\" alt=\"Open In Colab\"/></a>"
      ]
    },
    {
      "cell_type": "code",
      "execution_count": null,
      "metadata": {
        "colab": {
          "base_uri": "https://localhost:8080/"
        },
        "id": "lFLA8kcJo1gt",
        "outputId": "a9237288-fe8e-4a64-96a4-7770bcb3fa28"
      },
      "outputs": [
        {
          "output_type": "stream",
          "name": "stdout",
          "text": [
            "Mounted at /content/drive\n"
          ]
        }
      ],
      "source": [
        "from google.colab import drive\n",
        "drive.mount('/content/drive')"
      ]
    },
    {
      "cell_type": "code",
      "source": [
        "import numpy as np\n",
        "from sklearn.preprocessing import StandardScaler\n",
        "# Load the training and test data\n",
        "train_path = '/content/drive/MyDrive/Python work/sim_data/simu_20000_0.1_90_140_train.npy'\n",
        "test_path = '/content/drive/MyDrive/Python work/sim_data/simu_10000_0.1_141_178_test.npy'\n",
        "train_data = np.load(train_path)\n",
        "test_data = np.load(test_path)\n",
        "\n",
        "# Extract the sensor data and the target variables (S and D)\n",
        "X_train = train_data[:, :1000]\n",
        "y_train = train_data[:, -2:]\n",
        "X_test = test_data[:, :1000]\n",
        "y_test = test_data[:, -2:]\n",
        "\n",
        "# Scale the sensor data (features)\n",
        "scaler = StandardScaler()\n",
        "X_train_scaled = scaler.fit_transform(X_train)\n",
        "X_test_scaled = scaler.transform(X_test)\n"
      ],
      "metadata": {
        "id": "PXnxp8LyrQ5e"
      },
      "execution_count": null,
      "outputs": []
    },
    {
      "cell_type": "code",
      "source": [
        "X_train_mean = np.mean(X_train, axis = 1)\n",
        "X_train_mean = np.reshape(X_train_mean, (-1,1))\n",
        "X_train_std = np.std(X_train, axis = 1)\n",
        "X_train_std = np.reshape(X_train_std, (-1,1))\n",
        "X_train = (X_train - X_train_mean)/X_train_std\n",
        "\n",
        "X_test_mean = np.mean(X_test, axis = 1)\n",
        "X_test_mean = np.reshape(X_test_mean, (-1,1))\n",
        "X_test_std = np.std(X_test, axis = 1)\n",
        "X_test_std = np.reshape(X_test_std, (-1,1))\n",
        "X_test = (X_test - X_test_mean)/X_test_std"
      ],
      "metadata": {
        "id": "QRoknLsE804U"
      },
      "execution_count": null,
      "outputs": []
    },
    {
      "cell_type": "markdown",
      "source": [
        "### Inception Time model"
      ],
      "metadata": {
        "id": "jiEB2chn_Imt"
      }
    },
    {
      "cell_type": "code",
      "source": [
        "import tensorflow as tf\n",
        "from sklearn.preprocessing import StandardScaler\n",
        "from tensorflow.keras.models import Model\n",
        "from tensorflow.keras.layers import Input, Dense, concatenate, Dropout\n",
        "from tensorflow.keras.layers import Conv1D, MaxPooling1D, GlobalAveragePooling1D\n",
        "from tensorflow.keras.callbacks import EarlyStopping\n",
        "\n",
        "# Reshape for Conv1D\n",
        "X_train_scaled = X_train_scaled.reshape(X_train_scaled.shape[0], X_train_scaled.shape[1], 1)\n",
        "X_test_scaled = X_test_scaled.reshape(X_test_scaled.shape[0], X_test_scaled.shape[1], 1)\n",
        "\n",
        "# Inception module\n",
        "def inception_module(input_tensor, filters):\n",
        "    conv_1x1 = Conv1D(filters=filters, kernel_size=1, activation='relu')(input_tensor)\n",
        "    conv_5x5 = Conv1D(filters=filters, kernel_size=5, padding='same', activation='relu')(input_tensor)\n",
        "    conv_10x10 = Conv1D(filters=filters, kernel_size=10, padding='same', activation='relu')(input_tensor)\n",
        "    max_pool = MaxPooling1D(pool_size=3, strides=1, padding='same')(input_tensor)\n",
        "    max_pool = Conv1D(filters=filters, kernel_size=1, activation='relu')(max_pool)\n",
        "    inception = concatenate([conv_1x1, conv_5x5, conv_10x10, max_pool], axis=-1)\n",
        "    return inception\n",
        "\n",
        "# Build InceptionTime model\n",
        "def build_inception_time(input_shape, num_output):\n",
        "    input_layer = Input(shape=input_shape)\n",
        "    x = inception_module(input_layer, 32)\n",
        "    x = inception_module(x, 64)\n",
        "    x = inception_module(x, 128)\n",
        "    x = GlobalAveragePooling1D()(x)\n",
        "    x = Dense(128, activation='relu')(x)\n",
        "    x = Dropout(0.5)(x)\n",
        "    x = Dense(64, activation='relu')(x)\n",
        "    output_layer = Dense(num_output)(x)\n",
        "    model = Model(inputs=input_layer, outputs=output_layer)\n",
        "    return model\n",
        "\n",
        "# Create the model\n",
        "input_shape = (X_train_scaled.shape[1], 1)\n",
        "num_output = y_train.shape[1]\n",
        "model = build_inception_time(input_shape, num_output)\n",
        "\n",
        "# Compile the model\n",
        "model.compile(optimizer='adam', loss='mean_absolute_error', metrics=['mean_absolute_error'])\n",
        "\n",
        "# Early stopping\n",
        "early_stopping = EarlyStopping(monitor='val_loss', patience=10, restore_best_weights=True)\n",
        "\n",
        "# Train the model\n",
        "history = model.fit(X_train_scaled, y_train, epochs=20, batch_size=32, validation_split=0.2, callbacks=[early_stopping])\n",
        "\n",
        "# # Evaluate the model\n",
        "# loss, mae = model.evaluate(X_test_scaled, y_test)\n",
        "# print(f'Mean Absolute Error on Test Data: {mae}')\n",
        "# Evaluate the model\n",
        "y_predicted = model.predict(X_test_scaled)\n",
        "\n",
        "# Calculate Mean Absolute Error between y_test and y_predicted\n",
        "mae = np.mean(np.abs(y_test - y_predicted))\n",
        "\n",
        "print(f'Mean Absolute Error on Test Data: {mae}')\n"
      ],
      "metadata": {
        "colab": {
          "base_uri": "https://localhost:8080/"
        },
        "id": "mZSEtmvurcgX",
        "outputId": "ef270545-d15a-4790-ec41-eb00261ce2ec"
      },
      "execution_count": null,
      "outputs": [
        {
          "output_type": "stream",
          "name": "stdout",
          "text": [
            "Epoch 1/20\n",
            "500/500 [==============================] - 36s 59ms/step - loss: 18.6869 - mean_absolute_error: 18.6869 - val_loss: 21.2178 - val_mean_absolute_error: 21.2178\n",
            "Epoch 2/20\n",
            "500/500 [==============================] - 30s 59ms/step - loss: 13.8880 - mean_absolute_error: 13.8880 - val_loss: 34.0906 - val_mean_absolute_error: 34.0906\n",
            "Epoch 3/20\n",
            "500/500 [==============================] - 30s 60ms/step - loss: 12.2645 - mean_absolute_error: 12.2645 - val_loss: 46.4770 - val_mean_absolute_error: 46.4770\n",
            "Epoch 4/20\n",
            "500/500 [==============================] - 30s 60ms/step - loss: 11.1924 - mean_absolute_error: 11.1924 - val_loss: 46.5492 - val_mean_absolute_error: 46.5492\n",
            "Epoch 5/20\n",
            "500/500 [==============================] - 30s 60ms/step - loss: 10.6523 - mean_absolute_error: 10.6523 - val_loss: 49.7262 - val_mean_absolute_error: 49.7262\n",
            "Epoch 6/20\n",
            "500/500 [==============================] - 30s 59ms/step - loss: 10.3474 - mean_absolute_error: 10.3474 - val_loss: 46.3695 - val_mean_absolute_error: 46.3695\n",
            "Epoch 7/20\n",
            "500/500 [==============================] - 30s 59ms/step - loss: 9.9071 - mean_absolute_error: 9.9071 - val_loss: 48.5601 - val_mean_absolute_error: 48.5601\n",
            "Epoch 8/20\n",
            "500/500 [==============================] - 31s 62ms/step - loss: 9.5774 - mean_absolute_error: 9.5774 - val_loss: 45.6427 - val_mean_absolute_error: 45.6427\n",
            "Epoch 9/20\n",
            "500/500 [==============================] - 30s 59ms/step - loss: 9.4160 - mean_absolute_error: 9.4160 - val_loss: 50.0876 - val_mean_absolute_error: 50.0876\n",
            "Epoch 10/20\n",
            "500/500 [==============================] - 30s 60ms/step - loss: 8.9813 - mean_absolute_error: 8.9813 - val_loss: 46.9179 - val_mean_absolute_error: 46.9179\n",
            "Epoch 11/20\n",
            "500/500 [==============================] - 31s 62ms/step - loss: 8.9073 - mean_absolute_error: 8.9073 - val_loss: 48.2824 - val_mean_absolute_error: 48.2824\n",
            "313/313 [==============================] - 6s 18ms/step\n",
            "Mean Absolute Error on Test Data: 37.506670748519895\n"
          ]
        }
      ]
    },
    {
      "cell_type": "code",
      "source": [
        "from sklearn.metrics import mean_absolute_error\n",
        "# Make predictions on the test set\n",
        "predictions = model.predict(X_test_scaled)\n",
        "\n",
        "# Separate the Systolic and Diastolic predictions\n",
        "predictions_S = predictions[:, 0]\n",
        "predictions_D = predictions[:, 1]\n",
        "\n",
        "# Calculate MAE for both Systolic and Diastolic\n",
        "mae_S = mean_absolute_error(y_test[:, 0], predictions_S)\n",
        "mae_D = mean_absolute_error(y_test[:, 1], predictions_D)\n",
        "\n",
        "print(f\"Inception Time Model - Test MAE Systolic: {mae_S}, Diastolic: {mae_D}\")\n",
        "\n",
        "# Save the best model\n",
        "# fcn_plus_model.save(\"best_fcn_plus_model.h5\")"
      ],
      "metadata": {
        "colab": {
          "base_uri": "https://localhost:8080/"
        },
        "id": "y4NlyJeptnrh",
        "outputId": "f1a00063-f856-4e9c-8f07-a175d70c8f74"
      },
      "execution_count": null,
      "outputs": [
        {
          "output_type": "stream",
          "name": "stdout",
          "text": [
            "313/313 [==============================] - 6s 18ms/step\n",
            "Inception Time Model - Test MAE Systolic: 61.16771869125366, Diastolic: 13.845622805786133\n"
          ]
        }
      ]
    },
    {
      "cell_type": "markdown",
      "source": [
        "### TabTransformer Model"
      ],
      "metadata": {
        "id": "6LaCPYmg_EPy"
      }
    },
    {
      "cell_type": "code",
      "source": [
        "\n",
        "X_train_scaled = X_train_scaled.reshape(X_train_scaled.shape[0], X_train_scaled.shape[1], 1)\n",
        "X_test_scaled = X_test_scaled.reshape(X_test_scaled.shape[0], X_test_scaled.shape[1], 1)\n",
        "\n",
        "# Build TabTransformer model\n",
        "def build_tab_transformer(input_shape, num_output):\n",
        "    input_layer = Input(shape=input_shape)\n",
        "    x = Embedding(input_dim=10000, output_dim=64)(input_layer)\n",
        "    x = LayerNormalization(epsilon=1e-6)(x)\n",
        "    transformer_out = MultiHeadAttention(num_heads=4, key_dim=64)(x, x)\n",
        "    x = LayerNormalization(epsilon=1e-6)(x + transformer_out)\n",
        "    x = tf.keras.layers.Reshape((-1, 64))(x)  # Reshape the output to be 3D\n",
        "    x = GlobalAveragePooling1D()(x)\n",
        "    x = Dense(128, activation='relu')(x)\n",
        "    x = Dropout(0.5)(x)\n",
        "    x = Dense(64, activation='relu')(x)\n",
        "    output_layer = Dense(num_output)(x)\n",
        "    model = Model(inputs=input_layer, outputs=output_layer)\n",
        "    return model\n",
        "\n",
        "# Create and compile the model\n",
        "input_shape = (X_train_scaled.shape[1], 1)\n",
        "num_output = y_train.shape[1]\n",
        "model = build_tab_transformer(input_shape, num_output)\n",
        "model.compile(optimizer='adam', loss='mean_absolute_error', metrics=['mean_absolute_error'])\n",
        "\n",
        "# Initialize variables for early stopping\n",
        "best_mae_systolic = float('inf')\n",
        "best_mae_diastolic = float('inf')\n",
        "best_loss = float('inf')\n",
        "patience = 10\n",
        "counter = 0\n",
        "\n",
        "# Custom training loop with early stopping\n",
        "for epoch in range(1, 101):\n",
        "    print(f\"Epoch {epoch}\")\n",
        "    model.fit(X_train_scaled, y_train, batch_size=32, verbose=0)\n",
        "    y_predicted = model.predict(X_test_scaled)\n",
        "    loss = np.mean((y_test - y_predicted)**2)\n",
        "    mae_systolic = np.mean(np.abs(y_test[:, 0] - y_predicted[:, 0]))\n",
        "    mae_diastolic = np.mean(np.abs(y_test[:, 1] - y_predicted[:, 1]))\n",
        "    print(f\"Loss: {loss}, MAE Systolic: {mae_systolic}, MAE Diastolic: {mae_diastolic}\")\n",
        "\n",
        "    if mae_systolic < best_mae_systolic and mae_diastolic < best_mae_diastolic:\n",
        "        best_mae_systolic = mae_systolic\n",
        "        best_mae_diastolic = mae_diastolic\n",
        "        best_loss = loss\n",
        "        counter = 0\n",
        "    else:\n",
        "        counter += 1\n",
        "\n",
        "    if counter >= patience:\n",
        "        print(\"Early stopping due to lack of improvement.\")\n",
        "        break\n"
      ],
      "metadata": {
        "colab": {
          "base_uri": "https://localhost:8080/",
          "height": 738
        },
        "id": "9_w7Cp1dyyH7",
        "outputId": "0b3c0d34-48fb-4949-9e34-e627d4f660db"
      },
      "execution_count": null,
      "outputs": [
        {
          "output_type": "stream",
          "name": "stdout",
          "text": [
            "Epoch 1\n",
            "313/313 [==============================] - 14s 44ms/step\n",
            "Loss: 933.1206082129501, MAE Systolic: 39.9994120803833, MAE Diastolic: 10.690308982849121\n",
            "Epoch 2\n",
            "313/313 [==============================] - 14s 45ms/step\n",
            "Loss: 931.9349685156535, MAE Systolic: 39.889457096099854, MAE Diastolic: 10.77537036972046\n",
            "Epoch 3\n",
            "313/313 [==============================] - 14s 45ms/step\n",
            "Loss: 1124.1249933541312, MAE Systolic: 44.74415615539551, MAE Diastolic: 10.261187128448487\n",
            "Epoch 4\n",
            "313/313 [==============================] - 14s 45ms/step\n",
            "Loss: 1340.05868069504, MAE Systolic: 49.288928936767576, MAE Diastolic: 10.30135111618042\n",
            "Epoch 5\n",
            "313/313 [==============================] - 14s 45ms/step\n",
            "Loss: 1381.8263191841083, MAE Systolic: 50.08697132949829, MAE Diastolic: 10.367178357696533\n",
            "Epoch 6\n",
            "313/313 [==============================] - 14s 45ms/step\n",
            "Loss: 1409.897291146018, MAE Systolic: 50.175243676757816, MAE Diastolic: 11.17180807762146\n",
            "Epoch 7\n"
          ]
        },
        {
          "output_type": "error",
          "ename": "KeyboardInterrupt",
          "evalue": "ignored",
          "traceback": [
            "\u001b[0;31m---------------------------------------------------------------------------\u001b[0m",
            "\u001b[0;31mKeyboardInterrupt\u001b[0m                         Traceback (most recent call last)",
            "\u001b[0;32m<ipython-input-14-8414ebd54701>\u001b[0m in \u001b[0;36m<cell line: 34>\u001b[0;34m()\u001b[0m\n\u001b[1;32m     34\u001b[0m \u001b[0;32mfor\u001b[0m \u001b[0mepoch\u001b[0m \u001b[0;32min\u001b[0m \u001b[0mrange\u001b[0m\u001b[0;34m(\u001b[0m\u001b[0;36m1\u001b[0m\u001b[0;34m,\u001b[0m \u001b[0;36m30\u001b[0m\u001b[0;34m)\u001b[0m\u001b[0;34m:\u001b[0m\u001b[0;34m\u001b[0m\u001b[0;34m\u001b[0m\u001b[0m\n\u001b[1;32m     35\u001b[0m     \u001b[0mprint\u001b[0m\u001b[0;34m(\u001b[0m\u001b[0;34mf\"Epoch {epoch}\"\u001b[0m\u001b[0;34m)\u001b[0m\u001b[0;34m\u001b[0m\u001b[0;34m\u001b[0m\u001b[0m\n\u001b[0;32m---> 36\u001b[0;31m     \u001b[0mmodel\u001b[0m\u001b[0;34m.\u001b[0m\u001b[0mfit\u001b[0m\u001b[0;34m(\u001b[0m\u001b[0mX_train_scaled\u001b[0m\u001b[0;34m,\u001b[0m \u001b[0my_train\u001b[0m\u001b[0;34m,\u001b[0m \u001b[0mbatch_size\u001b[0m\u001b[0;34m=\u001b[0m\u001b[0;36m32\u001b[0m\u001b[0;34m,\u001b[0m \u001b[0mverbose\u001b[0m\u001b[0;34m=\u001b[0m\u001b[0;36m0\u001b[0m\u001b[0;34m)\u001b[0m\u001b[0;34m\u001b[0m\u001b[0;34m\u001b[0m\u001b[0m\n\u001b[0m\u001b[1;32m     37\u001b[0m     \u001b[0my_predicted\u001b[0m \u001b[0;34m=\u001b[0m \u001b[0mmodel\u001b[0m\u001b[0;34m.\u001b[0m\u001b[0mpredict\u001b[0m\u001b[0;34m(\u001b[0m\u001b[0mX_test_scaled\u001b[0m\u001b[0;34m)\u001b[0m\u001b[0;34m\u001b[0m\u001b[0;34m\u001b[0m\u001b[0m\n\u001b[1;32m     38\u001b[0m     \u001b[0mloss\u001b[0m \u001b[0;34m=\u001b[0m \u001b[0mnp\u001b[0m\u001b[0;34m.\u001b[0m\u001b[0mmean\u001b[0m\u001b[0;34m(\u001b[0m\u001b[0;34m(\u001b[0m\u001b[0my_test\u001b[0m \u001b[0;34m-\u001b[0m \u001b[0my_predicted\u001b[0m\u001b[0;34m)\u001b[0m\u001b[0;34m**\u001b[0m\u001b[0;36m2\u001b[0m\u001b[0;34m)\u001b[0m\u001b[0;34m\u001b[0m\u001b[0;34m\u001b[0m\u001b[0m\n",
            "\u001b[0;32m/usr/local/lib/python3.10/dist-packages/keras/utils/traceback_utils.py\u001b[0m in \u001b[0;36merror_handler\u001b[0;34m(*args, **kwargs)\u001b[0m\n\u001b[1;32m     63\u001b[0m         \u001b[0mfiltered_tb\u001b[0m \u001b[0;34m=\u001b[0m \u001b[0;32mNone\u001b[0m\u001b[0;34m\u001b[0m\u001b[0;34m\u001b[0m\u001b[0m\n\u001b[1;32m     64\u001b[0m         \u001b[0;32mtry\u001b[0m\u001b[0;34m:\u001b[0m\u001b[0;34m\u001b[0m\u001b[0;34m\u001b[0m\u001b[0m\n\u001b[0;32m---> 65\u001b[0;31m             \u001b[0;32mreturn\u001b[0m \u001b[0mfn\u001b[0m\u001b[0;34m(\u001b[0m\u001b[0;34m*\u001b[0m\u001b[0margs\u001b[0m\u001b[0;34m,\u001b[0m \u001b[0;34m**\u001b[0m\u001b[0mkwargs\u001b[0m\u001b[0;34m)\u001b[0m\u001b[0;34m\u001b[0m\u001b[0;34m\u001b[0m\u001b[0m\n\u001b[0m\u001b[1;32m     66\u001b[0m         \u001b[0;32mexcept\u001b[0m \u001b[0mException\u001b[0m \u001b[0;32mas\u001b[0m \u001b[0me\u001b[0m\u001b[0;34m:\u001b[0m\u001b[0;34m\u001b[0m\u001b[0;34m\u001b[0m\u001b[0m\n\u001b[1;32m     67\u001b[0m             \u001b[0mfiltered_tb\u001b[0m \u001b[0;34m=\u001b[0m \u001b[0m_process_traceback_frames\u001b[0m\u001b[0;34m(\u001b[0m\u001b[0me\u001b[0m\u001b[0;34m.\u001b[0m\u001b[0m__traceback__\u001b[0m\u001b[0;34m)\u001b[0m\u001b[0;34m\u001b[0m\u001b[0;34m\u001b[0m\u001b[0m\n",
            "\u001b[0;32m/usr/local/lib/python3.10/dist-packages/keras/engine/training.py\u001b[0m in \u001b[0;36mfit\u001b[0;34m(self, x, y, batch_size, epochs, verbose, callbacks, validation_split, validation_data, shuffle, class_weight, sample_weight, initial_epoch, steps_per_epoch, validation_steps, validation_batch_size, validation_freq, max_queue_size, workers, use_multiprocessing)\u001b[0m\n\u001b[1;32m   1683\u001b[0m                         ):\n\u001b[1;32m   1684\u001b[0m                             \u001b[0mcallbacks\u001b[0m\u001b[0;34m.\u001b[0m\u001b[0mon_train_batch_begin\u001b[0m\u001b[0;34m(\u001b[0m\u001b[0mstep\u001b[0m\u001b[0;34m)\u001b[0m\u001b[0;34m\u001b[0m\u001b[0;34m\u001b[0m\u001b[0m\n\u001b[0;32m-> 1685\u001b[0;31m                             \u001b[0mtmp_logs\u001b[0m \u001b[0;34m=\u001b[0m \u001b[0mself\u001b[0m\u001b[0;34m.\u001b[0m\u001b[0mtrain_function\u001b[0m\u001b[0;34m(\u001b[0m\u001b[0miterator\u001b[0m\u001b[0;34m)\u001b[0m\u001b[0;34m\u001b[0m\u001b[0;34m\u001b[0m\u001b[0m\n\u001b[0m\u001b[1;32m   1686\u001b[0m                             \u001b[0;32mif\u001b[0m \u001b[0mdata_handler\u001b[0m\u001b[0;34m.\u001b[0m\u001b[0mshould_sync\u001b[0m\u001b[0;34m:\u001b[0m\u001b[0;34m\u001b[0m\u001b[0;34m\u001b[0m\u001b[0m\n\u001b[1;32m   1687\u001b[0m                                 \u001b[0mcontext\u001b[0m\u001b[0;34m.\u001b[0m\u001b[0masync_wait\u001b[0m\u001b[0;34m(\u001b[0m\u001b[0;34m)\u001b[0m\u001b[0;34m\u001b[0m\u001b[0;34m\u001b[0m\u001b[0m\n",
            "\u001b[0;32m/usr/local/lib/python3.10/dist-packages/tensorflow/python/util/traceback_utils.py\u001b[0m in \u001b[0;36merror_handler\u001b[0;34m(*args, **kwargs)\u001b[0m\n\u001b[1;32m    148\u001b[0m     \u001b[0mfiltered_tb\u001b[0m \u001b[0;34m=\u001b[0m \u001b[0;32mNone\u001b[0m\u001b[0;34m\u001b[0m\u001b[0;34m\u001b[0m\u001b[0m\n\u001b[1;32m    149\u001b[0m     \u001b[0;32mtry\u001b[0m\u001b[0;34m:\u001b[0m\u001b[0;34m\u001b[0m\u001b[0;34m\u001b[0m\u001b[0m\n\u001b[0;32m--> 150\u001b[0;31m       \u001b[0;32mreturn\u001b[0m \u001b[0mfn\u001b[0m\u001b[0;34m(\u001b[0m\u001b[0;34m*\u001b[0m\u001b[0margs\u001b[0m\u001b[0;34m,\u001b[0m \u001b[0;34m**\u001b[0m\u001b[0mkwargs\u001b[0m\u001b[0;34m)\u001b[0m\u001b[0;34m\u001b[0m\u001b[0;34m\u001b[0m\u001b[0m\n\u001b[0m\u001b[1;32m    151\u001b[0m     \u001b[0;32mexcept\u001b[0m \u001b[0mException\u001b[0m \u001b[0;32mas\u001b[0m \u001b[0me\u001b[0m\u001b[0;34m:\u001b[0m\u001b[0;34m\u001b[0m\u001b[0;34m\u001b[0m\u001b[0m\n\u001b[1;32m    152\u001b[0m       \u001b[0mfiltered_tb\u001b[0m \u001b[0;34m=\u001b[0m \u001b[0m_process_traceback_frames\u001b[0m\u001b[0;34m(\u001b[0m\u001b[0me\u001b[0m\u001b[0;34m.\u001b[0m\u001b[0m__traceback__\u001b[0m\u001b[0;34m)\u001b[0m\u001b[0;34m\u001b[0m\u001b[0;34m\u001b[0m\u001b[0m\n",
            "\u001b[0;32m/usr/local/lib/python3.10/dist-packages/tensorflow/python/eager/polymorphic_function/polymorphic_function.py\u001b[0m in \u001b[0;36m__call__\u001b[0;34m(self, *args, **kwds)\u001b[0m\n\u001b[1;32m    892\u001b[0m \u001b[0;34m\u001b[0m\u001b[0m\n\u001b[1;32m    893\u001b[0m       \u001b[0;32mwith\u001b[0m \u001b[0mOptionalXlaContext\u001b[0m\u001b[0;34m(\u001b[0m\u001b[0mself\u001b[0m\u001b[0;34m.\u001b[0m\u001b[0m_jit_compile\u001b[0m\u001b[0;34m)\u001b[0m\u001b[0;34m:\u001b[0m\u001b[0;34m\u001b[0m\u001b[0;34m\u001b[0m\u001b[0m\n\u001b[0;32m--> 894\u001b[0;31m         \u001b[0mresult\u001b[0m \u001b[0;34m=\u001b[0m \u001b[0mself\u001b[0m\u001b[0;34m.\u001b[0m\u001b[0m_call\u001b[0m\u001b[0;34m(\u001b[0m\u001b[0;34m*\u001b[0m\u001b[0margs\u001b[0m\u001b[0;34m,\u001b[0m \u001b[0;34m**\u001b[0m\u001b[0mkwds\u001b[0m\u001b[0;34m)\u001b[0m\u001b[0;34m\u001b[0m\u001b[0;34m\u001b[0m\u001b[0m\n\u001b[0m\u001b[1;32m    895\u001b[0m \u001b[0;34m\u001b[0m\u001b[0m\n\u001b[1;32m    896\u001b[0m       \u001b[0mnew_tracing_count\u001b[0m \u001b[0;34m=\u001b[0m \u001b[0mself\u001b[0m\u001b[0;34m.\u001b[0m\u001b[0mexperimental_get_tracing_count\u001b[0m\u001b[0;34m(\u001b[0m\u001b[0;34m)\u001b[0m\u001b[0;34m\u001b[0m\u001b[0;34m\u001b[0m\u001b[0m\n",
            "\u001b[0;32m/usr/local/lib/python3.10/dist-packages/tensorflow/python/eager/polymorphic_function/polymorphic_function.py\u001b[0m in \u001b[0;36m_call\u001b[0;34m(self, *args, **kwds)\u001b[0m\n\u001b[1;32m    924\u001b[0m       \u001b[0;31m# In this case we have created variables on the first call, so we run the\u001b[0m\u001b[0;34m\u001b[0m\u001b[0;34m\u001b[0m\u001b[0m\n\u001b[1;32m    925\u001b[0m       \u001b[0;31m# defunned version which is guaranteed to never create variables.\u001b[0m\u001b[0;34m\u001b[0m\u001b[0;34m\u001b[0m\u001b[0m\n\u001b[0;32m--> 926\u001b[0;31m       \u001b[0;32mreturn\u001b[0m \u001b[0mself\u001b[0m\u001b[0;34m.\u001b[0m\u001b[0m_no_variable_creation_fn\u001b[0m\u001b[0;34m(\u001b[0m\u001b[0;34m*\u001b[0m\u001b[0margs\u001b[0m\u001b[0;34m,\u001b[0m \u001b[0;34m**\u001b[0m\u001b[0mkwds\u001b[0m\u001b[0;34m)\u001b[0m  \u001b[0;31m# pylint: disable=not-callable\u001b[0m\u001b[0;34m\u001b[0m\u001b[0;34m\u001b[0m\u001b[0m\n\u001b[0m\u001b[1;32m    927\u001b[0m     \u001b[0;32melif\u001b[0m \u001b[0mself\u001b[0m\u001b[0;34m.\u001b[0m\u001b[0m_variable_creation_fn\u001b[0m \u001b[0;32mis\u001b[0m \u001b[0;32mnot\u001b[0m \u001b[0;32mNone\u001b[0m\u001b[0;34m:\u001b[0m\u001b[0;34m\u001b[0m\u001b[0;34m\u001b[0m\u001b[0m\n\u001b[1;32m    928\u001b[0m       \u001b[0;31m# Release the lock early so that multiple threads can perform the call\u001b[0m\u001b[0;34m\u001b[0m\u001b[0;34m\u001b[0m\u001b[0m\n",
            "\u001b[0;32m/usr/local/lib/python3.10/dist-packages/tensorflow/python/eager/polymorphic_function/tracing_compiler.py\u001b[0m in \u001b[0;36m__call__\u001b[0;34m(self, *args, **kwargs)\u001b[0m\n\u001b[1;32m    141\u001b[0m       (concrete_function,\n\u001b[1;32m    142\u001b[0m        filtered_flat_args) = self._maybe_define_function(args, kwargs)\n\u001b[0;32m--> 143\u001b[0;31m     return concrete_function._call_flat(\n\u001b[0m\u001b[1;32m    144\u001b[0m         filtered_flat_args, captured_inputs=concrete_function.captured_inputs)  # pylint: disable=protected-access\n\u001b[1;32m    145\u001b[0m \u001b[0;34m\u001b[0m\u001b[0m\n",
            "\u001b[0;32m/usr/local/lib/python3.10/dist-packages/tensorflow/python/eager/polymorphic_function/monomorphic_function.py\u001b[0m in \u001b[0;36m_call_flat\u001b[0;34m(self, args, captured_inputs, cancellation_manager)\u001b[0m\n\u001b[1;32m   1755\u001b[0m         and executing_eagerly):\n\u001b[1;32m   1756\u001b[0m       \u001b[0;31m# No tape is watching; skip to running the function.\u001b[0m\u001b[0;34m\u001b[0m\u001b[0;34m\u001b[0m\u001b[0m\n\u001b[0;32m-> 1757\u001b[0;31m       return self._build_call_outputs(self._inference_function.call(\n\u001b[0m\u001b[1;32m   1758\u001b[0m           ctx, args, cancellation_manager=cancellation_manager))\n\u001b[1;32m   1759\u001b[0m     forward_backward = self._select_forward_and_backward_functions(\n",
            "\u001b[0;32m/usr/local/lib/python3.10/dist-packages/tensorflow/python/eager/polymorphic_function/monomorphic_function.py\u001b[0m in \u001b[0;36mcall\u001b[0;34m(self, ctx, args, cancellation_manager)\u001b[0m\n\u001b[1;32m    379\u001b[0m       \u001b[0;32mwith\u001b[0m \u001b[0m_InterpolateFunctionError\u001b[0m\u001b[0;34m(\u001b[0m\u001b[0mself\u001b[0m\u001b[0;34m)\u001b[0m\u001b[0;34m:\u001b[0m\u001b[0;34m\u001b[0m\u001b[0;34m\u001b[0m\u001b[0m\n\u001b[1;32m    380\u001b[0m         \u001b[0;32mif\u001b[0m \u001b[0mcancellation_manager\u001b[0m \u001b[0;32mis\u001b[0m \u001b[0;32mNone\u001b[0m\u001b[0;34m:\u001b[0m\u001b[0;34m\u001b[0m\u001b[0;34m\u001b[0m\u001b[0m\n\u001b[0;32m--> 381\u001b[0;31m           outputs = execute.execute(\n\u001b[0m\u001b[1;32m    382\u001b[0m               \u001b[0mstr\u001b[0m\u001b[0;34m(\u001b[0m\u001b[0mself\u001b[0m\u001b[0;34m.\u001b[0m\u001b[0msignature\u001b[0m\u001b[0;34m.\u001b[0m\u001b[0mname\u001b[0m\u001b[0;34m)\u001b[0m\u001b[0;34m,\u001b[0m\u001b[0;34m\u001b[0m\u001b[0;34m\u001b[0m\u001b[0m\n\u001b[1;32m    383\u001b[0m               \u001b[0mnum_outputs\u001b[0m\u001b[0;34m=\u001b[0m\u001b[0mself\u001b[0m\u001b[0;34m.\u001b[0m\u001b[0m_num_outputs\u001b[0m\u001b[0;34m,\u001b[0m\u001b[0;34m\u001b[0m\u001b[0;34m\u001b[0m\u001b[0m\n",
            "\u001b[0;32m/usr/local/lib/python3.10/dist-packages/tensorflow/python/eager/execute.py\u001b[0m in \u001b[0;36mquick_execute\u001b[0;34m(op_name, num_outputs, inputs, attrs, ctx, name)\u001b[0m\n\u001b[1;32m     50\u001b[0m   \u001b[0;32mtry\u001b[0m\u001b[0;34m:\u001b[0m\u001b[0;34m\u001b[0m\u001b[0;34m\u001b[0m\u001b[0m\n\u001b[1;32m     51\u001b[0m     \u001b[0mctx\u001b[0m\u001b[0;34m.\u001b[0m\u001b[0mensure_initialized\u001b[0m\u001b[0;34m(\u001b[0m\u001b[0;34m)\u001b[0m\u001b[0;34m\u001b[0m\u001b[0;34m\u001b[0m\u001b[0m\n\u001b[0;32m---> 52\u001b[0;31m     tensors = pywrap_tfe.TFE_Py_Execute(ctx._handle, device_name, op_name,\n\u001b[0m\u001b[1;32m     53\u001b[0m                                         inputs, attrs, num_outputs)\n\u001b[1;32m     54\u001b[0m   \u001b[0;32mexcept\u001b[0m \u001b[0mcore\u001b[0m\u001b[0;34m.\u001b[0m\u001b[0m_NotOkStatusException\u001b[0m \u001b[0;32mas\u001b[0m \u001b[0me\u001b[0m\u001b[0;34m:\u001b[0m\u001b[0;34m\u001b[0m\u001b[0;34m\u001b[0m\u001b[0m\n",
            "\u001b[0;31mKeyboardInterrupt\u001b[0m: "
          ]
        }
      ]
    },
    {
      "cell_type": "code",
      "source": [
        "# Initialize variables to keep track of best MAE and loss\n",
        "best_mae_systolic = float('inf')\n",
        "best_mae_diastolic = float('inf')\n",
        "best_loss = float('inf')\n",
        "patience = 10  # Number of epochs to wait for improvement\n",
        "counter = 0  # Counter to keep track of non-improvement epochs\n",
        "\n",
        "for epoch in range(1, 101):  # Train for up to 100 epochs\n",
        "    print(f\"Epoch {epoch}\")\n",
        "\n",
        "    # Train the model for one epoch\n",
        "    model.fit(X_train_scaled, y_train, batch_size=32, verbose=0)\n",
        "\n",
        "    # Get the predicted values\n",
        "    y_predicted = model.predict(X_test_scaled)\n",
        "\n",
        "    # Calculate the loss and MAE between y_test and y_predicted\n",
        "    loss = np.mean((y_test - y_predicted)**2)\n",
        "    mae_systolic = np.mean(np.abs(y_test[:, 0] - y_predicted[:, 0]))\n",
        "    mae_diastolic = np.mean(np.abs(y_test[:, 1] - y_predicted[:, 1]))\n",
        "\n",
        "    print(f\"Loss: {loss}, MAE Systolic: {mae_systolic}, MAE Diastolic: {mae_diastolic}\")\n",
        "\n",
        "    # Check for improvement\n",
        "    if mae_systolic < best_mae_systolic and mae_diastolic < best_mae_diastolic:\n",
        "        best_mae_systolic = mae_systolic\n",
        "        best_mae_diastolic = mae_diastolic\n",
        "        best_loss = loss\n",
        "        counter = 0  # Reset counter\n",
        "    else:\n",
        "        counter += 1  # Increment counter\n",
        "\n",
        "    # If MAE hasn't improved for 'patience' epochs, stop training\n",
        "    if counter >= patience:\n",
        "        print(\"Early stopping due to lack of improvement\")\n",
        "        break\n"
      ],
      "metadata": {
        "id": "cSvNP1gQw0lQ"
      },
      "execution_count": null,
      "outputs": []
    },
    {
      "cell_type": "markdown",
      "source": [
        "### TCN Model"
      ],
      "metadata": {
        "id": "yzRGUnoE7geB"
      }
    },
    {
      "cell_type": "code",
      "source": [
        "pip install keras-tcn\n"
      ],
      "metadata": {
        "colab": {
          "base_uri": "https://localhost:8080/"
        },
        "id": "vt4uNnPN9TYQ",
        "outputId": "17ea763e-0625-423f-a6ee-2fa45907377d"
      },
      "execution_count": null,
      "outputs": [
        {
          "output_type": "stream",
          "name": "stdout",
          "text": [
            "Collecting keras-tcn\n",
            "  Downloading keras_tcn-3.5.0-py3-none-any.whl (13 kB)\n",
            "Requirement already satisfied: numpy in /usr/local/lib/python3.10/dist-packages (from keras-tcn) (1.23.5)\n",
            "Requirement already satisfied: tensorflow in /usr/local/lib/python3.10/dist-packages (from keras-tcn) (2.12.0)\n",
            "Collecting tensorflow-addons (from keras-tcn)\n",
            "  Downloading tensorflow_addons-0.21.0-cp310-cp310-manylinux_2_17_x86_64.manylinux2014_x86_64.whl (612 kB)\n",
            "\u001b[2K     \u001b[90m━━━━━━━━━━━━━━━━━━━━━━━━━━━━━━━━━━━━━━━\u001b[0m \u001b[32m612.1/612.1 kB\u001b[0m \u001b[31m7.0 MB/s\u001b[0m eta \u001b[36m0:00:00\u001b[0m\n",
            "\u001b[?25hRequirement already satisfied: absl-py>=1.0.0 in /usr/local/lib/python3.10/dist-packages (from tensorflow->keras-tcn) (1.4.0)\n",
            "Requirement already satisfied: astunparse>=1.6.0 in /usr/local/lib/python3.10/dist-packages (from tensorflow->keras-tcn) (1.6.3)\n",
            "Requirement already satisfied: flatbuffers>=2.0 in /usr/local/lib/python3.10/dist-packages (from tensorflow->keras-tcn) (23.5.26)\n",
            "Requirement already satisfied: gast<=0.4.0,>=0.2.1 in /usr/local/lib/python3.10/dist-packages (from tensorflow->keras-tcn) (0.4.0)\n",
            "Requirement already satisfied: google-pasta>=0.1.1 in /usr/local/lib/python3.10/dist-packages (from tensorflow->keras-tcn) (0.2.0)\n",
            "Requirement already satisfied: grpcio<2.0,>=1.24.3 in /usr/local/lib/python3.10/dist-packages (from tensorflow->keras-tcn) (1.57.0)\n",
            "Requirement already satisfied: h5py>=2.9.0 in /usr/local/lib/python3.10/dist-packages (from tensorflow->keras-tcn) (3.9.0)\n",
            "Requirement already satisfied: jax>=0.3.15 in /usr/local/lib/python3.10/dist-packages (from tensorflow->keras-tcn) (0.4.14)\n",
            "Requirement already satisfied: keras<2.13,>=2.12.0 in /usr/local/lib/python3.10/dist-packages (from tensorflow->keras-tcn) (2.12.0)\n",
            "Requirement already satisfied: libclang>=13.0.0 in /usr/local/lib/python3.10/dist-packages (from tensorflow->keras-tcn) (16.0.6)\n",
            "Requirement already satisfied: opt-einsum>=2.3.2 in /usr/local/lib/python3.10/dist-packages (from tensorflow->keras-tcn) (3.3.0)\n",
            "Requirement already satisfied: packaging in /usr/local/lib/python3.10/dist-packages (from tensorflow->keras-tcn) (23.1)\n",
            "Requirement already satisfied: protobuf!=4.21.0,!=4.21.1,!=4.21.2,!=4.21.3,!=4.21.4,!=4.21.5,<5.0.0dev,>=3.20.3 in /usr/local/lib/python3.10/dist-packages (from tensorflow->keras-tcn) (3.20.3)\n",
            "Requirement already satisfied: setuptools in /usr/local/lib/python3.10/dist-packages (from tensorflow->keras-tcn) (67.7.2)\n",
            "Requirement already satisfied: six>=1.12.0 in /usr/local/lib/python3.10/dist-packages (from tensorflow->keras-tcn) (1.16.0)\n",
            "Requirement already satisfied: tensorboard<2.13,>=2.12 in /usr/local/lib/python3.10/dist-packages (from tensorflow->keras-tcn) (2.12.3)\n",
            "Requirement already satisfied: tensorflow-estimator<2.13,>=2.12.0 in /usr/local/lib/python3.10/dist-packages (from tensorflow->keras-tcn) (2.12.0)\n",
            "Requirement already satisfied: termcolor>=1.1.0 in /usr/local/lib/python3.10/dist-packages (from tensorflow->keras-tcn) (2.3.0)\n",
            "Requirement already satisfied: typing-extensions>=3.6.6 in /usr/local/lib/python3.10/dist-packages (from tensorflow->keras-tcn) (4.7.1)\n",
            "Requirement already satisfied: wrapt<1.15,>=1.11.0 in /usr/local/lib/python3.10/dist-packages (from tensorflow->keras-tcn) (1.14.1)\n",
            "Requirement already satisfied: tensorflow-io-gcs-filesystem>=0.23.1 in /usr/local/lib/python3.10/dist-packages (from tensorflow->keras-tcn) (0.33.0)\n",
            "Collecting typeguard<3.0.0,>=2.7 (from tensorflow-addons->keras-tcn)\n",
            "  Downloading typeguard-2.13.3-py3-none-any.whl (17 kB)\n",
            "Requirement already satisfied: wheel<1.0,>=0.23.0 in /usr/local/lib/python3.10/dist-packages (from astunparse>=1.6.0->tensorflow->keras-tcn) (0.41.2)\n",
            "Requirement already satisfied: ml-dtypes>=0.2.0 in /usr/local/lib/python3.10/dist-packages (from jax>=0.3.15->tensorflow->keras-tcn) (0.2.0)\n",
            "Requirement already satisfied: scipy>=1.7 in /usr/local/lib/python3.10/dist-packages (from jax>=0.3.15->tensorflow->keras-tcn) (1.10.1)\n",
            "Requirement already satisfied: google-auth<3,>=1.6.3 in /usr/local/lib/python3.10/dist-packages (from tensorboard<2.13,>=2.12->tensorflow->keras-tcn) (2.17.3)\n",
            "Requirement already satisfied: google-auth-oauthlib<1.1,>=0.5 in /usr/local/lib/python3.10/dist-packages (from tensorboard<2.13,>=2.12->tensorflow->keras-tcn) (1.0.0)\n",
            "Requirement already satisfied: markdown>=2.6.8 in /usr/local/lib/python3.10/dist-packages (from tensorboard<2.13,>=2.12->tensorflow->keras-tcn) (3.4.4)\n",
            "Requirement already satisfied: requests<3,>=2.21.0 in /usr/local/lib/python3.10/dist-packages (from tensorboard<2.13,>=2.12->tensorflow->keras-tcn) (2.31.0)\n",
            "Requirement already satisfied: tensorboard-data-server<0.8.0,>=0.7.0 in /usr/local/lib/python3.10/dist-packages (from tensorboard<2.13,>=2.12->tensorflow->keras-tcn) (0.7.1)\n",
            "Requirement already satisfied: werkzeug>=1.0.1 in /usr/local/lib/python3.10/dist-packages (from tensorboard<2.13,>=2.12->tensorflow->keras-tcn) (2.3.7)\n",
            "Requirement already satisfied: cachetools<6.0,>=2.0.0 in /usr/local/lib/python3.10/dist-packages (from google-auth<3,>=1.6.3->tensorboard<2.13,>=2.12->tensorflow->keras-tcn) (5.3.1)\n",
            "Requirement already satisfied: pyasn1-modules>=0.2.1 in /usr/local/lib/python3.10/dist-packages (from google-auth<3,>=1.6.3->tensorboard<2.13,>=2.12->tensorflow->keras-tcn) (0.3.0)\n",
            "Requirement already satisfied: rsa<5,>=3.1.4 in /usr/local/lib/python3.10/dist-packages (from google-auth<3,>=1.6.3->tensorboard<2.13,>=2.12->tensorflow->keras-tcn) (4.9)\n",
            "Requirement already satisfied: requests-oauthlib>=0.7.0 in /usr/local/lib/python3.10/dist-packages (from google-auth-oauthlib<1.1,>=0.5->tensorboard<2.13,>=2.12->tensorflow->keras-tcn) (1.3.1)\n",
            "Requirement already satisfied: charset-normalizer<4,>=2 in /usr/local/lib/python3.10/dist-packages (from requests<3,>=2.21.0->tensorboard<2.13,>=2.12->tensorflow->keras-tcn) (3.2.0)\n",
            "Requirement already satisfied: idna<4,>=2.5 in /usr/local/lib/python3.10/dist-packages (from requests<3,>=2.21.0->tensorboard<2.13,>=2.12->tensorflow->keras-tcn) (3.4)\n",
            "Requirement already satisfied: urllib3<3,>=1.21.1 in /usr/local/lib/python3.10/dist-packages (from requests<3,>=2.21.0->tensorboard<2.13,>=2.12->tensorflow->keras-tcn) (2.0.4)\n",
            "Requirement already satisfied: certifi>=2017.4.17 in /usr/local/lib/python3.10/dist-packages (from requests<3,>=2.21.0->tensorboard<2.13,>=2.12->tensorflow->keras-tcn) (2023.7.22)\n",
            "Requirement already satisfied: MarkupSafe>=2.1.1 in /usr/local/lib/python3.10/dist-packages (from werkzeug>=1.0.1->tensorboard<2.13,>=2.12->tensorflow->keras-tcn) (2.1.3)\n",
            "Requirement already satisfied: pyasn1<0.6.0,>=0.4.6 in /usr/local/lib/python3.10/dist-packages (from pyasn1-modules>=0.2.1->google-auth<3,>=1.6.3->tensorboard<2.13,>=2.12->tensorflow->keras-tcn) (0.5.0)\n",
            "Requirement already satisfied: oauthlib>=3.0.0 in /usr/local/lib/python3.10/dist-packages (from requests-oauthlib>=0.7.0->google-auth-oauthlib<1.1,>=0.5->tensorboard<2.13,>=2.12->tensorflow->keras-tcn) (3.2.2)\n",
            "Installing collected packages: typeguard, tensorflow-addons, keras-tcn\n",
            "Successfully installed keras-tcn-3.5.0 tensorflow-addons-0.21.0 typeguard-2.13.3\n"
          ]
        }
      ]
    },
    {
      "cell_type": "code",
      "source": [
        "import numpy as np\n",
        "import tensorflow as tf\n",
        "from sklearn.preprocessing import StandardScaler\n",
        "from tensorflow.keras.layers import Input, Dense\n",
        "from tensorflow.keras.models import Model\n",
        "\n",
        "from sklearn.metrics import mean_absolute_error\n",
        "from tcn import TCN\n",
        "\n",
        "# X_train, X_test, y_train, y_test\n",
        "\n",
        "# # 1. Load and scale features (sensor data), not output parameters\n",
        "# train_data = np.load('simu_20000_0.1_90_140_train.npy')\n",
        "# test_data = np.load('simu_10000_0.1_141_178_test.npy')\n",
        "\n",
        "# X_train = train_data[:, :1000]\n",
        "# y_train = train_data[:, -2:]\n",
        "# X_test = test_data[:, :1000]\n",
        "# y_test = test_data[:, -2:]\n",
        "\n",
        "# scaler = StandardScaler()\n",
        "# X_train_scaled = scaler.fit_transform(X_train)\n",
        "# X_test_scaled = scaler.transform(X_test)\n",
        "\n",
        "# Reshape for TCN\n",
        "X_train_scaled = X_train_scaled.reshape(X_train.shape[0], X_train.shape[1], 1)\n",
        "X_test_scaled = X_test_scaled.reshape(X_test.shape[0], X_test.shape[1], 1)\n",
        "\n",
        "# 2. Build the model using TCN\n",
        "input_shape = (X_train_scaled.shape[1], 1)\n",
        "\n",
        "inputs = Input(shape=input_shape)\n",
        "x = TCN(nb_filters=64, kernel_size=6, dilations=[1, 2, 4, 8])(inputs)\n",
        "x = Dense(128, activation='relu')(x)\n",
        "x = Dense(64, activation='relu')(x)\n",
        "outputs = Dense(2)(x)  # 2 outputs (S and D)\n",
        "\n",
        "TCN_model = Model(inputs=inputs, outputs=outputs)\n",
        "\n",
        "# 3. Compile the model\n",
        "TCN_model.compile(optimizer='adam', loss='mean_absolute_error', metrics=['mean_absolute_error'])\n",
        "\n",
        "# 4. Train the model for 50 epochs with batch size 32\n",
        "# TCN_model.fit(X_train_scaled, y_train, epochs=80, batch_size=32, validation_split=0.2, Shuffle=False)\n",
        "TCN_model.fit(X_train_scaled, y_train, epochs=80, batch_size=32, validation_split=0.2, shuffle=False)\n",
        "\n",
        "\n",
        "# 5. Evaluate the model\n",
        "loss, mae = TCN_model.evaluate(X_test_scaled, y_test, batch_size=32)\n",
        "print(f'Test Loss After 150 Epochs: {loss}, Test MAE After 150 Epochs: {mae}')\n",
        "\n",
        "# y_pred_systolic = model.predict(X_test_sys) #.squeeze()\n",
        "# # mae_systolic = MeanAbsoluteError()\n",
        "# mae_value = mean_absolute_error(y_test_sys, y_pred_systolic)\n",
        "\n",
        "# print(f'MAE between y_pred_systolic and y_test_systolic After 150 Epochs: {mae_value}')\n",
        "\n",
        "\n",
        "# Make predictions on the test set\n",
        "predictions = TCN_model.predict(X_test_scaled)\n",
        "\n",
        "# Separate the Systolic and Diastolic predictions\n",
        "predictions_S = predictions[:, 0]\n",
        "predictions_D = predictions[:, 1]\n",
        "\n",
        "# Calculate MAE for both Systolic and Diastolic\n",
        "mae_S = mean_absolute_error(y_test[:, 0], predictions_S)\n",
        "mae_D = mean_absolute_error(y_test[:, 1], predictions_D)\n",
        "\n",
        "print(f\"TCN Model - Test MAE Systolic: {mae_S}, Diastolic: {mae_D}\")\n",
        "\n",
        "\n"
      ],
      "metadata": {
        "colab": {
          "base_uri": "https://localhost:8080/"
        },
        "id": "rwf4Erl_7gIS",
        "outputId": "5ea619cf-bacb-4db5-f47d-575a22102df1"
      },
      "execution_count": null,
      "outputs": [
        {
          "output_type": "stream",
          "name": "stdout",
          "text": [
            "Epoch 1/80\n",
            "500/500 [==============================] - 8s 8ms/step - loss: 14.5316 - mean_absolute_error: 14.5316 - val_loss: 10.9926 - val_mean_absolute_error: 10.9926\n",
            "Epoch 2/80\n",
            "500/500 [==============================] - 3s 7ms/step - loss: 8.7842 - mean_absolute_error: 8.7842 - val_loss: 7.5681 - val_mean_absolute_error: 7.5681\n",
            "Epoch 3/80\n",
            "500/500 [==============================] - 3s 7ms/step - loss: 7.2836 - mean_absolute_error: 7.2836 - val_loss: 6.2774 - val_mean_absolute_error: 6.2774\n",
            "Epoch 4/80\n",
            "500/500 [==============================] - 3s 7ms/step - loss: 6.6424 - mean_absolute_error: 6.6424 - val_loss: 6.4812 - val_mean_absolute_error: 6.4812\n",
            "Epoch 5/80\n",
            "500/500 [==============================] - 3s 7ms/step - loss: 6.3095 - mean_absolute_error: 6.3095 - val_loss: 5.2650 - val_mean_absolute_error: 5.2650\n",
            "Epoch 6/80\n",
            "500/500 [==============================] - 3s 7ms/step - loss: 5.4766 - mean_absolute_error: 5.4766 - val_loss: 7.6745 - val_mean_absolute_error: 7.6745\n",
            "Epoch 7/80\n",
            "500/500 [==============================] - 4s 7ms/step - loss: 5.4114 - mean_absolute_error: 5.4114 - val_loss: 6.1888 - val_mean_absolute_error: 6.1888\n",
            "Epoch 8/80\n",
            "500/500 [==============================] - 3s 7ms/step - loss: 4.9475 - mean_absolute_error: 4.9475 - val_loss: 5.7293 - val_mean_absolute_error: 5.7293\n",
            "Epoch 9/80\n",
            "500/500 [==============================] - 3s 7ms/step - loss: 4.8158 - mean_absolute_error: 4.8158 - val_loss: 4.2154 - val_mean_absolute_error: 4.2154\n",
            "Epoch 10/80\n",
            "500/500 [==============================] - 4s 7ms/step - loss: 4.6773 - mean_absolute_error: 4.6773 - val_loss: 4.9108 - val_mean_absolute_error: 4.9108\n",
            "Epoch 11/80\n",
            "500/500 [==============================] - 3s 7ms/step - loss: 4.7256 - mean_absolute_error: 4.7256 - val_loss: 4.1856 - val_mean_absolute_error: 4.1856\n",
            "Epoch 12/80\n",
            "500/500 [==============================] - 3s 7ms/step - loss: 4.3796 - mean_absolute_error: 4.3796 - val_loss: 4.6947 - val_mean_absolute_error: 4.6947\n",
            "Epoch 13/80\n",
            "500/500 [==============================] - 3s 7ms/step - loss: 4.0195 - mean_absolute_error: 4.0195 - val_loss: 3.8874 - val_mean_absolute_error: 3.8874\n",
            "Epoch 14/80\n",
            "500/500 [==============================] - 4s 7ms/step - loss: 3.8881 - mean_absolute_error: 3.8881 - val_loss: 5.6792 - val_mean_absolute_error: 5.6792\n",
            "Epoch 15/80\n",
            "500/500 [==============================] - 3s 7ms/step - loss: 3.9614 - mean_absolute_error: 3.9614 - val_loss: 4.4706 - val_mean_absolute_error: 4.4706\n",
            "Epoch 16/80\n",
            "500/500 [==============================] - 3s 7ms/step - loss: 4.0306 - mean_absolute_error: 4.0306 - val_loss: 3.7007 - val_mean_absolute_error: 3.7007\n",
            "Epoch 17/80\n",
            "500/500 [==============================] - 3s 7ms/step - loss: 3.7879 - mean_absolute_error: 3.7879 - val_loss: 3.7578 - val_mean_absolute_error: 3.7578\n",
            "Epoch 18/80\n",
            "500/500 [==============================] - 4s 7ms/step - loss: 3.8075 - mean_absolute_error: 3.8075 - val_loss: 3.6212 - val_mean_absolute_error: 3.6212\n",
            "Epoch 19/80\n",
            "500/500 [==============================] - 4s 7ms/step - loss: 3.5676 - mean_absolute_error: 3.5676 - val_loss: 3.6371 - val_mean_absolute_error: 3.6371\n",
            "Epoch 20/80\n",
            "500/500 [==============================] - 3s 7ms/step - loss: 3.4310 - mean_absolute_error: 3.4310 - val_loss: 3.2369 - val_mean_absolute_error: 3.2369\n",
            "Epoch 21/80\n",
            "500/500 [==============================] - 4s 7ms/step - loss: 3.6592 - mean_absolute_error: 3.6592 - val_loss: 4.8922 - val_mean_absolute_error: 4.8922\n",
            "Epoch 22/80\n",
            "500/500 [==============================] - 3s 7ms/step - loss: 3.6002 - mean_absolute_error: 3.6002 - val_loss: 3.4731 - val_mean_absolute_error: 3.4731\n",
            "Epoch 23/80\n",
            "500/500 [==============================] - 3s 7ms/step - loss: 3.3736 - mean_absolute_error: 3.3736 - val_loss: 3.7120 - val_mean_absolute_error: 3.7120\n",
            "Epoch 24/80\n",
            "500/500 [==============================] - 3s 7ms/step - loss: 3.3272 - mean_absolute_error: 3.3272 - val_loss: 3.9664 - val_mean_absolute_error: 3.9664\n",
            "Epoch 25/80\n",
            "500/500 [==============================] - 4s 7ms/step - loss: 3.1637 - mean_absolute_error: 3.1637 - val_loss: 3.1237 - val_mean_absolute_error: 3.1237\n",
            "Epoch 26/80\n",
            "500/500 [==============================] - 3s 7ms/step - loss: 3.1291 - mean_absolute_error: 3.1291 - val_loss: 3.3110 - val_mean_absolute_error: 3.3110\n",
            "Epoch 27/80\n",
            "500/500 [==============================] - 3s 7ms/step - loss: 3.0393 - mean_absolute_error: 3.0393 - val_loss: 3.6718 - val_mean_absolute_error: 3.6718\n",
            "Epoch 28/80\n",
            "500/500 [==============================] - 4s 7ms/step - loss: 3.0304 - mean_absolute_error: 3.0304 - val_loss: 3.0702 - val_mean_absolute_error: 3.0702\n",
            "Epoch 29/80\n",
            "500/500 [==============================] - 3s 7ms/step - loss: 3.0128 - mean_absolute_error: 3.0128 - val_loss: 2.9501 - val_mean_absolute_error: 2.9501\n",
            "Epoch 30/80\n",
            "500/500 [==============================] - 3s 7ms/step - loss: 2.9760 - mean_absolute_error: 2.9760 - val_loss: 3.5725 - val_mean_absolute_error: 3.5725\n",
            "Epoch 31/80\n",
            "500/500 [==============================] - 3s 7ms/step - loss: 2.8674 - mean_absolute_error: 2.8674 - val_loss: 3.9405 - val_mean_absolute_error: 3.9405\n",
            "Epoch 32/80\n",
            "500/500 [==============================] - 3s 7ms/step - loss: 2.8701 - mean_absolute_error: 2.8701 - val_loss: 2.8873 - val_mean_absolute_error: 2.8873\n",
            "Epoch 33/80\n",
            "500/500 [==============================] - 3s 7ms/step - loss: 2.8269 - mean_absolute_error: 2.8269 - val_loss: 3.7716 - val_mean_absolute_error: 3.7716\n",
            "Epoch 34/80\n",
            "500/500 [==============================] - 3s 7ms/step - loss: 2.8907 - mean_absolute_error: 2.8907 - val_loss: 3.3422 - val_mean_absolute_error: 3.3422\n",
            "Epoch 35/80\n",
            "500/500 [==============================] - 3s 7ms/step - loss: 3.0484 - mean_absolute_error: 3.0484 - val_loss: 3.5067 - val_mean_absolute_error: 3.5067\n",
            "Epoch 36/80\n",
            "500/500 [==============================] - 4s 7ms/step - loss: 2.7563 - mean_absolute_error: 2.7563 - val_loss: 4.0241 - val_mean_absolute_error: 4.0241\n",
            "Epoch 37/80\n",
            "500/500 [==============================] - 4s 7ms/step - loss: 2.7158 - mean_absolute_error: 2.7158 - val_loss: 3.7997 - val_mean_absolute_error: 3.7997\n",
            "Epoch 38/80\n",
            "500/500 [==============================] - 4s 7ms/step - loss: 2.6706 - mean_absolute_error: 2.6706 - val_loss: 3.3763 - val_mean_absolute_error: 3.3763\n",
            "Epoch 39/80\n",
            "500/500 [==============================] - 4s 7ms/step - loss: 2.7999 - mean_absolute_error: 2.7999 - val_loss: 3.7051 - val_mean_absolute_error: 3.7051\n",
            "Epoch 40/80\n",
            "500/500 [==============================] - 3s 7ms/step - loss: 2.6170 - mean_absolute_error: 2.6170 - val_loss: 3.5855 - val_mean_absolute_error: 3.5855\n",
            "Epoch 41/80\n",
            "500/500 [==============================] - 3s 7ms/step - loss: 2.7345 - mean_absolute_error: 2.7345 - val_loss: 3.4365 - val_mean_absolute_error: 3.4365\n",
            "Epoch 42/80\n",
            "500/500 [==============================] - 3s 7ms/step - loss: 2.8796 - mean_absolute_error: 2.8796 - val_loss: 3.2064 - val_mean_absolute_error: 3.2064\n",
            "Epoch 43/80\n",
            "500/500 [==============================] - 4s 7ms/step - loss: 2.6952 - mean_absolute_error: 2.6952 - val_loss: 2.8762 - val_mean_absolute_error: 2.8762\n",
            "Epoch 44/80\n",
            "500/500 [==============================] - 3s 7ms/step - loss: 2.5055 - mean_absolute_error: 2.5055 - val_loss: 2.8852 - val_mean_absolute_error: 2.8852\n",
            "Epoch 45/80\n",
            "500/500 [==============================] - 3s 7ms/step - loss: 2.4722 - mean_absolute_error: 2.4722 - val_loss: 3.2842 - val_mean_absolute_error: 3.2842\n",
            "Epoch 46/80\n",
            "500/500 [==============================] - 4s 7ms/step - loss: 2.7035 - mean_absolute_error: 2.7035 - val_loss: 3.2494 - val_mean_absolute_error: 3.2494\n",
            "Epoch 47/80\n",
            "500/500 [==============================] - 3s 7ms/step - loss: 2.6433 - mean_absolute_error: 2.6433 - val_loss: 2.9793 - val_mean_absolute_error: 2.9793\n",
            "Epoch 48/80\n",
            "500/500 [==============================] - 3s 7ms/step - loss: 2.5559 - mean_absolute_error: 2.5559 - val_loss: 2.9659 - val_mean_absolute_error: 2.9659\n",
            "Epoch 49/80\n",
            "500/500 [==============================] - 3s 7ms/step - loss: 2.5557 - mean_absolute_error: 2.5557 - val_loss: 3.0161 - val_mean_absolute_error: 3.0161\n",
            "Epoch 50/80\n",
            "500/500 [==============================] - 4s 7ms/step - loss: 2.4287 - mean_absolute_error: 2.4287 - val_loss: 2.8872 - val_mean_absolute_error: 2.8872\n",
            "Epoch 51/80\n",
            "500/500 [==============================] - 3s 7ms/step - loss: 2.6150 - mean_absolute_error: 2.6150 - val_loss: 2.8472 - val_mean_absolute_error: 2.8472\n",
            "Epoch 52/80\n",
            "500/500 [==============================] - 3s 7ms/step - loss: 2.3860 - mean_absolute_error: 2.3860 - val_loss: 3.6611 - val_mean_absolute_error: 3.6611\n",
            "Epoch 53/80\n",
            "500/500 [==============================] - 3s 7ms/step - loss: 2.4670 - mean_absolute_error: 2.4670 - val_loss: 3.0498 - val_mean_absolute_error: 3.0498\n",
            "Epoch 54/80\n",
            "500/500 [==============================] - 3s 7ms/step - loss: 2.3828 - mean_absolute_error: 2.3828 - val_loss: 2.8723 - val_mean_absolute_error: 2.8723\n",
            "Epoch 55/80\n",
            "500/500 [==============================] - 3s 7ms/step - loss: 2.4454 - mean_absolute_error: 2.4454 - val_loss: 3.7055 - val_mean_absolute_error: 3.7055\n",
            "Epoch 56/80\n",
            "500/500 [==============================] - 3s 7ms/step - loss: 2.5015 - mean_absolute_error: 2.5015 - val_loss: 2.7797 - val_mean_absolute_error: 2.7797\n",
            "Epoch 57/80\n",
            "500/500 [==============================] - 4s 7ms/step - loss: 2.6276 - mean_absolute_error: 2.6276 - val_loss: 2.8891 - val_mean_absolute_error: 2.8891\n",
            "Epoch 58/80\n",
            "500/500 [==============================] - 3s 7ms/step - loss: 2.2583 - mean_absolute_error: 2.2583 - val_loss: 3.4329 - val_mean_absolute_error: 3.4329\n",
            "Epoch 59/80\n",
            "500/500 [==============================] - 3s 7ms/step - loss: 2.2871 - mean_absolute_error: 2.2871 - val_loss: 2.7947 - val_mean_absolute_error: 2.7947\n",
            "Epoch 60/80\n",
            "500/500 [==============================] - 3s 7ms/step - loss: 2.3390 - mean_absolute_error: 2.3390 - val_loss: 3.3905 - val_mean_absolute_error: 3.3905\n",
            "Epoch 61/80\n",
            "500/500 [==============================] - 4s 7ms/step - loss: 2.3274 - mean_absolute_error: 2.3274 - val_loss: 2.8980 - val_mean_absolute_error: 2.8980\n",
            "Epoch 62/80\n",
            "500/500 [==============================] - 3s 7ms/step - loss: 2.4023 - mean_absolute_error: 2.4023 - val_loss: 2.7545 - val_mean_absolute_error: 2.7545\n",
            "Epoch 63/80\n",
            "500/500 [==============================] - 3s 7ms/step - loss: 2.4632 - mean_absolute_error: 2.4632 - val_loss: 2.9995 - val_mean_absolute_error: 2.9995\n",
            "Epoch 64/80\n",
            "500/500 [==============================] - 4s 7ms/step - loss: 2.3394 - mean_absolute_error: 2.3394 - val_loss: 3.1998 - val_mean_absolute_error: 3.1998\n",
            "Epoch 65/80\n",
            "500/500 [==============================] - 3s 7ms/step - loss: 2.3889 - mean_absolute_error: 2.3889 - val_loss: 3.1036 - val_mean_absolute_error: 3.1036\n",
            "Epoch 66/80\n",
            "500/500 [==============================] - 3s 7ms/step - loss: 2.3925 - mean_absolute_error: 2.3925 - val_loss: 4.2995 - val_mean_absolute_error: 4.2995\n",
            "Epoch 67/80\n",
            "500/500 [==============================] - 3s 7ms/step - loss: 2.2401 - mean_absolute_error: 2.2401 - val_loss: 3.2328 - val_mean_absolute_error: 3.2328\n",
            "Epoch 68/80\n",
            "500/500 [==============================] - 4s 7ms/step - loss: 2.3271 - mean_absolute_error: 2.3271 - val_loss: 3.0417 - val_mean_absolute_error: 3.0417\n",
            "Epoch 69/80\n",
            "500/500 [==============================] - 3s 7ms/step - loss: 2.2272 - mean_absolute_error: 2.2272 - val_loss: 3.8673 - val_mean_absolute_error: 3.8673\n",
            "Epoch 70/80\n",
            "500/500 [==============================] - 3s 7ms/step - loss: 2.5279 - mean_absolute_error: 2.5279 - val_loss: 3.1390 - val_mean_absolute_error: 3.1390\n",
            "Epoch 71/80\n",
            "500/500 [==============================] - 4s 7ms/step - loss: 2.5612 - mean_absolute_error: 2.5612 - val_loss: 2.7715 - val_mean_absolute_error: 2.7715\n",
            "Epoch 72/80\n",
            "500/500 [==============================] - 3s 7ms/step - loss: 2.6386 - mean_absolute_error: 2.6386 - val_loss: 3.7678 - val_mean_absolute_error: 3.7678\n",
            "Epoch 73/80\n",
            "500/500 [==============================] - 3s 7ms/step - loss: 2.3442 - mean_absolute_error: 2.3442 - val_loss: 3.2093 - val_mean_absolute_error: 3.2093\n",
            "Epoch 74/80\n",
            "500/500 [==============================] - 3s 7ms/step - loss: 2.0658 - mean_absolute_error: 2.0658 - val_loss: 2.7133 - val_mean_absolute_error: 2.7133\n",
            "Epoch 75/80\n",
            "500/500 [==============================] - 3s 7ms/step - loss: 2.1397 - mean_absolute_error: 2.1397 - val_loss: 2.8845 - val_mean_absolute_error: 2.8845\n",
            "Epoch 76/80\n",
            "500/500 [==============================] - 3s 7ms/step - loss: 2.2275 - mean_absolute_error: 2.2275 - val_loss: 3.1239 - val_mean_absolute_error: 3.1239\n",
            "Epoch 77/80\n",
            "500/500 [==============================] - 3s 7ms/step - loss: 2.1183 - mean_absolute_error: 2.1183 - val_loss: 2.9671 - val_mean_absolute_error: 2.9671\n",
            "Epoch 78/80\n",
            "500/500 [==============================] - 4s 7ms/step - loss: 2.2887 - mean_absolute_error: 2.2887 - val_loss: 3.0722 - val_mean_absolute_error: 3.0722\n",
            "Epoch 79/80\n",
            "500/500 [==============================] - 3s 7ms/step - loss: 2.1313 - mean_absolute_error: 2.1313 - val_loss: 3.0650 - val_mean_absolute_error: 3.0650\n",
            "Epoch 80/80\n",
            "500/500 [==============================] - 3s 7ms/step - loss: 2.2873 - mean_absolute_error: 2.2873 - val_loss: 3.0915 - val_mean_absolute_error: 3.0915\n",
            "313/313 [==============================] - 1s 3ms/step - loss: 18.9281 - mean_absolute_error: 18.9281\n",
            "Test Loss After 150 Epochs: 18.928142547607422, Test MAE After 150 Epochs: 18.928142547607422\n",
            "313/313 [==============================] - 1s 2ms/step\n",
            "TCN Model - Test MAE Systolic: 25.84619122772217, Diastolic: 12.010101005935669\n"
          ]
        }
      ]
    },
    {
      "cell_type": "markdown",
      "source": [
        "### TCN Model\n",
        "- Shuffle (true)\n",
        "- Results are below"
      ],
      "metadata": {
        "id": "0xoB2GuWbHDW"
      }
    },
    {
      "cell_type": "code",
      "source": [
        "# print(f'Test Loss: {loss}, Test MAE: {mae}')\n",
        "predictions = model.predict(X_test_scaled)\n",
        "\n",
        "# Separate the Systolic and Diastolic predictions\n",
        "predictions_S = predictions[:, 0]\n",
        "predictions_D = predictions[:, 1]\n",
        "\n",
        "# Calculate MAE for both Systolic and Diastolic\n",
        "mae_S = mean_absolute_error(y_test[:, 0], predictions_S)\n",
        "mae_D = mean_absolute_error(y_test[:, 1], predictions_D)\n",
        "\n",
        "print(f\"TCN Model - Test MAE Systolic: {mae_S}, Diastolic: {mae_D}\")"
      ],
      "metadata": {
        "colab": {
          "base_uri": "https://localhost:8080/"
        },
        "id": "uhraaJtt_dHl",
        "outputId": "3c490868-2afd-4e0f-8b4a-4c3d9cb80d18"
      },
      "execution_count": null,
      "outputs": [
        {
          "output_type": "stream",
          "name": "stdout",
          "text": [
            "313/313 [==============================] - 1s 2ms/step\n",
            "TCN Model - Test MAE Systolic: 21.798146901702882, Diastolic: 9.598864441680908\n"
          ]
        }
      ]
    },
    {
      "cell_type": "markdown",
      "source": [
        "### TCN with Z-Transform Scaling"
      ],
      "metadata": {
        "id": "NRIwWfyKbg55"
      }
    },
    {
      "cell_type": "code",
      "source": [
        "import numpy as np\n",
        "import tensorflow as tf\n",
        "from tensorflow.keras.layers import Input, Dense\n",
        "from tensorflow.keras.models import Model\n",
        "from tcn import TCN\n",
        "from tensorflow.keras.losses import MeanAbsoluteError\n",
        "\n",
        "# Load data\n",
        "# train_data = np.load('simu_20000_0.1_90_140_train.npy')\n",
        "# test_data = np.load('simu_10000_0.1_141_178_test.npy')\n",
        "\n",
        "X_train = train_data[:, :1000]\n",
        "y_train_sys = train_data[:, -2]  # Only systolic BP\n",
        "X_test = test_data[:, :1000]\n",
        "y_test_sys = test_data[:, -2]  # Only systolic BP\n",
        "\n",
        "# Scale X_train_sys\n",
        "X_train_mean = np.mean(X_train, axis=1)\n",
        "X_train_mean = np.reshape(X_train_mean, (-1, 1))\n",
        "X_train_std = np.std(X_train, axis=1)\n",
        "X_train_std = np.reshape(X_train_std, (-1, 1))\n",
        "X_train_sys = (X_train - X_train_mean) / X_train_std\n",
        "\n",
        "X_test_mean = np.mean(X_test, axis=1)\n",
        "X_test_mean = np.reshape(X_test_mean, (-1, 1))\n",
        "X_test_std = np.std(X_test, axis=1)\n",
        "X_test_std = np.reshape(X_test_std, (-1, 1))\n",
        "X_test_sys = (X_test - X_test_mean) / X_test_std\n",
        "\n",
        "# Reshape for TCN\n",
        "X_train_sys = X_train_sys.reshape(X_train_sys.shape[0], X_train_sys.shape[1], 1)\n",
        "X_test_sys = X_test_sys.reshape(X_test_sys.shape[0], X_test_sys.shape[1], 1)\n",
        "\n",
        "# Build the model\n",
        "input_shape = (X_train_sys.shape[1], 1)\n",
        "inputs = Input(shape=input_shape)\n",
        "x = TCN(nb_filters=64, kernel_size=6, dilations=[1, 2, 4, 8])(inputs)\n",
        "x = Dense(128, activation='relu')(x)\n",
        "x = Dense(64, activation='relu')(x)\n",
        "outputs = Dense(1)(x)\n",
        "\n",
        "model = Model(inputs=inputs, outputs=outputs)\n",
        "\n",
        "# Compile the model\n",
        "model.compile(optimizer='adam', loss='mean_absolute_error', metrics=[MeanAbsoluteError()])\n",
        "\n",
        "# Train the model for 70 epochs\n",
        "model.fit(X_train_sys, y_train_sys, epochs=80, batch_size=32, validation_split=0.2, shuffle=False)\n",
        "\n",
        "# Evaluate the model\n",
        "loss, mae = model.evaluate(X_test_sys, y_test_sys, batch_size=32)\n",
        "print(f'Test Loss: {loss}, Test MAE: {mae}')\n",
        "\n",
        "y_pred_systolic = model.predict(X_test_sys) #.squeeze()\n",
        "# mae_systolic = MeanAbsoluteError()\n",
        "mae_value = mean_absolute_error(y_test_sys, y_pred_systolic)\n",
        "\n",
        "print(f'MAE between y_pred_systolic and y_test_systolic After 150 Epochs: {mae_value}')"
      ],
      "metadata": {
        "colab": {
          "base_uri": "https://localhost:8080/",
          "height": 425
        },
        "id": "00HxZOKuBDbh",
        "outputId": "6a14ee80-433a-4a3b-e52d-812e2f2fc9b6"
      },
      "execution_count": null,
      "outputs": [
        {
          "output_type": "stream",
          "name": "stdout",
          "text": [
            "Epoch 1/80\n",
            "499/500 [============================>.] - ETA: 0s - loss: 16.3257 - mean_absolute_error: 16.3257"
          ]
        },
        {
          "output_type": "error",
          "ename": "KeyboardInterrupt",
          "evalue": "ignored",
          "traceback": [
            "\u001b[0;31m---------------------------------------------------------------------------\u001b[0m",
            "\u001b[0;31mKeyboardInterrupt\u001b[0m                         Traceback (most recent call last)",
            "\u001b[0;32m<ipython-input-16-8f694037794e>\u001b[0m in \u001b[0;36m<cell line: 48>\u001b[0;34m()\u001b[0m\n\u001b[1;32m     46\u001b[0m \u001b[0;34m\u001b[0m\u001b[0m\n\u001b[1;32m     47\u001b[0m \u001b[0;31m# Train the model for 70 epochs\u001b[0m\u001b[0;34m\u001b[0m\u001b[0;34m\u001b[0m\u001b[0m\n\u001b[0;32m---> 48\u001b[0;31m \u001b[0mmodel\u001b[0m\u001b[0;34m.\u001b[0m\u001b[0mfit\u001b[0m\u001b[0;34m(\u001b[0m\u001b[0mX_train_sys\u001b[0m\u001b[0;34m,\u001b[0m \u001b[0my_train_sys\u001b[0m\u001b[0;34m,\u001b[0m \u001b[0mepochs\u001b[0m\u001b[0;34m=\u001b[0m\u001b[0;36m80\u001b[0m\u001b[0;34m,\u001b[0m \u001b[0mbatch_size\u001b[0m\u001b[0;34m=\u001b[0m\u001b[0;36m32\u001b[0m\u001b[0;34m,\u001b[0m \u001b[0mvalidation_split\u001b[0m\u001b[0;34m=\u001b[0m\u001b[0;36m0.2\u001b[0m\u001b[0;34m,\u001b[0m \u001b[0mshuffle\u001b[0m\u001b[0;34m=\u001b[0m\u001b[0;32mFalse\u001b[0m\u001b[0;34m)\u001b[0m\u001b[0;34m\u001b[0m\u001b[0;34m\u001b[0m\u001b[0m\n\u001b[0m\u001b[1;32m     49\u001b[0m \u001b[0;34m\u001b[0m\u001b[0m\n\u001b[1;32m     50\u001b[0m \u001b[0;31m# Evaluate the model\u001b[0m\u001b[0;34m\u001b[0m\u001b[0;34m\u001b[0m\u001b[0m\n",
            "\u001b[0;32m/usr/local/lib/python3.10/dist-packages/keras/utils/traceback_utils.py\u001b[0m in \u001b[0;36merror_handler\u001b[0;34m(*args, **kwargs)\u001b[0m\n\u001b[1;32m     63\u001b[0m         \u001b[0mfiltered_tb\u001b[0m \u001b[0;34m=\u001b[0m \u001b[0;32mNone\u001b[0m\u001b[0;34m\u001b[0m\u001b[0;34m\u001b[0m\u001b[0m\n\u001b[1;32m     64\u001b[0m         \u001b[0;32mtry\u001b[0m\u001b[0;34m:\u001b[0m\u001b[0;34m\u001b[0m\u001b[0;34m\u001b[0m\u001b[0m\n\u001b[0;32m---> 65\u001b[0;31m             \u001b[0;32mreturn\u001b[0m \u001b[0mfn\u001b[0m\u001b[0;34m(\u001b[0m\u001b[0;34m*\u001b[0m\u001b[0margs\u001b[0m\u001b[0;34m,\u001b[0m \u001b[0;34m**\u001b[0m\u001b[0mkwargs\u001b[0m\u001b[0;34m)\u001b[0m\u001b[0;34m\u001b[0m\u001b[0;34m\u001b[0m\u001b[0m\n\u001b[0m\u001b[1;32m     66\u001b[0m         \u001b[0;32mexcept\u001b[0m \u001b[0mException\u001b[0m \u001b[0;32mas\u001b[0m \u001b[0me\u001b[0m\u001b[0;34m:\u001b[0m\u001b[0;34m\u001b[0m\u001b[0;34m\u001b[0m\u001b[0m\n\u001b[1;32m     67\u001b[0m             \u001b[0mfiltered_tb\u001b[0m \u001b[0;34m=\u001b[0m \u001b[0m_process_traceback_frames\u001b[0m\u001b[0;34m(\u001b[0m\u001b[0me\u001b[0m\u001b[0;34m.\u001b[0m\u001b[0m__traceback__\u001b[0m\u001b[0;34m)\u001b[0m\u001b[0;34m\u001b[0m\u001b[0;34m\u001b[0m\u001b[0m\n",
            "\u001b[0;32m/usr/local/lib/python3.10/dist-packages/keras/engine/training.py\u001b[0m in \u001b[0;36mfit\u001b[0;34m(self, x, y, batch_size, epochs, verbose, callbacks, validation_split, validation_data, shuffle, class_weight, sample_weight, initial_epoch, steps_per_epoch, validation_steps, validation_batch_size, validation_freq, max_queue_size, workers, use_multiprocessing)\u001b[0m\n\u001b[1;32m   1713\u001b[0m                     \u001b[0;31m# Create data_handler for evaluation and cache it.\u001b[0m\u001b[0;34m\u001b[0m\u001b[0;34m\u001b[0m\u001b[0m\n\u001b[1;32m   1714\u001b[0m                     \u001b[0;32mif\u001b[0m \u001b[0mgetattr\u001b[0m\u001b[0;34m(\u001b[0m\u001b[0mself\u001b[0m\u001b[0;34m,\u001b[0m \u001b[0;34m\"_eval_data_handler\"\u001b[0m\u001b[0;34m,\u001b[0m \u001b[0;32mNone\u001b[0m\u001b[0;34m)\u001b[0m \u001b[0;32mis\u001b[0m \u001b[0;32mNone\u001b[0m\u001b[0;34m:\u001b[0m\u001b[0;34m\u001b[0m\u001b[0;34m\u001b[0m\u001b[0m\n\u001b[0;32m-> 1715\u001b[0;31m                         self._eval_data_handler = data_adapter.get_data_handler(\n\u001b[0m\u001b[1;32m   1716\u001b[0m                             \u001b[0mx\u001b[0m\u001b[0;34m=\u001b[0m\u001b[0mval_x\u001b[0m\u001b[0;34m,\u001b[0m\u001b[0;34m\u001b[0m\u001b[0;34m\u001b[0m\u001b[0m\n\u001b[1;32m   1717\u001b[0m                             \u001b[0my\u001b[0m\u001b[0;34m=\u001b[0m\u001b[0mval_y\u001b[0m\u001b[0;34m,\u001b[0m\u001b[0;34m\u001b[0m\u001b[0;34m\u001b[0m\u001b[0m\n",
            "\u001b[0;32m/usr/local/lib/python3.10/dist-packages/keras/engine/data_adapter.py\u001b[0m in \u001b[0;36mget_data_handler\u001b[0;34m(*args, **kwargs)\u001b[0m\n\u001b[1;32m   1581\u001b[0m     \u001b[0;32mif\u001b[0m \u001b[0mgetattr\u001b[0m\u001b[0;34m(\u001b[0m\u001b[0mkwargs\u001b[0m\u001b[0;34m[\u001b[0m\u001b[0;34m\"model\"\u001b[0m\u001b[0;34m]\u001b[0m\u001b[0;34m,\u001b[0m \u001b[0;34m\"_cluster_coordinator\"\u001b[0m\u001b[0;34m,\u001b[0m \u001b[0;32mNone\u001b[0m\u001b[0;34m)\u001b[0m\u001b[0;34m:\u001b[0m\u001b[0;34m\u001b[0m\u001b[0;34m\u001b[0m\u001b[0m\n\u001b[1;32m   1582\u001b[0m         \u001b[0;32mreturn\u001b[0m \u001b[0m_ClusterCoordinatorDataHandler\u001b[0m\u001b[0;34m(\u001b[0m\u001b[0;34m*\u001b[0m\u001b[0margs\u001b[0m\u001b[0;34m,\u001b[0m \u001b[0;34m**\u001b[0m\u001b[0mkwargs\u001b[0m\u001b[0;34m)\u001b[0m\u001b[0;34m\u001b[0m\u001b[0;34m\u001b[0m\u001b[0m\n\u001b[0;32m-> 1583\u001b[0;31m     \u001b[0;32mreturn\u001b[0m \u001b[0mDataHandler\u001b[0m\u001b[0;34m(\u001b[0m\u001b[0;34m*\u001b[0m\u001b[0margs\u001b[0m\u001b[0;34m,\u001b[0m \u001b[0;34m**\u001b[0m\u001b[0mkwargs\u001b[0m\u001b[0;34m)\u001b[0m\u001b[0;34m\u001b[0m\u001b[0;34m\u001b[0m\u001b[0m\n\u001b[0m\u001b[1;32m   1584\u001b[0m \u001b[0;34m\u001b[0m\u001b[0m\n\u001b[1;32m   1585\u001b[0m \u001b[0;34m\u001b[0m\u001b[0m\n",
            "\u001b[0;32m/usr/local/lib/python3.10/dist-packages/keras/engine/data_adapter.py\u001b[0m in \u001b[0;36m__init__\u001b[0;34m(self, x, y, sample_weight, batch_size, steps_per_epoch, initial_epoch, epochs, shuffle, class_weight, max_queue_size, workers, use_multiprocessing, model, steps_per_execution, distribute)\u001b[0m\n\u001b[1;32m   1258\u001b[0m \u001b[0;34m\u001b[0m\u001b[0m\n\u001b[1;32m   1259\u001b[0m         \u001b[0madapter_cls\u001b[0m \u001b[0;34m=\u001b[0m \u001b[0mselect_data_adapter\u001b[0m\u001b[0;34m(\u001b[0m\u001b[0mx\u001b[0m\u001b[0;34m,\u001b[0m \u001b[0my\u001b[0m\u001b[0;34m)\u001b[0m\u001b[0;34m\u001b[0m\u001b[0;34m\u001b[0m\u001b[0m\n\u001b[0;32m-> 1260\u001b[0;31m         self._adapter = adapter_cls(\n\u001b[0m\u001b[1;32m   1261\u001b[0m             \u001b[0mx\u001b[0m\u001b[0;34m,\u001b[0m\u001b[0;34m\u001b[0m\u001b[0;34m\u001b[0m\u001b[0m\n\u001b[1;32m   1262\u001b[0m             \u001b[0my\u001b[0m\u001b[0;34m,\u001b[0m\u001b[0;34m\u001b[0m\u001b[0;34m\u001b[0m\u001b[0m\n",
            "\u001b[0;32m/usr/local/lib/python3.10/dist-packages/keras/engine/data_adapter.py\u001b[0m in \u001b[0;36m__init__\u001b[0;34m(self, x, y, sample_weights, sample_weight_modes, batch_size, epochs, steps, shuffle, **kwargs)\u001b[0m\n\u001b[1;32m    344\u001b[0m             \u001b[0;32mreturn\u001b[0m \u001b[0mflat_dataset\u001b[0m\u001b[0;34m\u001b[0m\u001b[0;34m\u001b[0m\u001b[0m\n\u001b[1;32m    345\u001b[0m \u001b[0;34m\u001b[0m\u001b[0m\n\u001b[0;32m--> 346\u001b[0;31m         \u001b[0mindices_dataset\u001b[0m \u001b[0;34m=\u001b[0m \u001b[0mindices_dataset\u001b[0m\u001b[0;34m.\u001b[0m\u001b[0mflat_map\u001b[0m\u001b[0;34m(\u001b[0m\u001b[0mslice_batch_indices\u001b[0m\u001b[0;34m)\u001b[0m\u001b[0;34m\u001b[0m\u001b[0;34m\u001b[0m\u001b[0m\n\u001b[0m\u001b[1;32m    347\u001b[0m \u001b[0;34m\u001b[0m\u001b[0m\n\u001b[1;32m    348\u001b[0m         \u001b[0mdataset\u001b[0m \u001b[0;34m=\u001b[0m \u001b[0mself\u001b[0m\u001b[0;34m.\u001b[0m\u001b[0mslice_inputs\u001b[0m\u001b[0;34m(\u001b[0m\u001b[0mindices_dataset\u001b[0m\u001b[0;34m,\u001b[0m \u001b[0minputs\u001b[0m\u001b[0;34m)\u001b[0m\u001b[0;34m\u001b[0m\u001b[0;34m\u001b[0m\u001b[0m\n",
            "\u001b[0;32m/usr/local/lib/python3.10/dist-packages/tensorflow/python/data/ops/dataset_ops.py\u001b[0m in \u001b[0;36mflat_map\u001b[0;34m(self, map_func, name)\u001b[0m\n\u001b[1;32m   2283\u001b[0m     \u001b[0;31m# pylint: disable=g-import-not-at-top,protected-access\u001b[0m\u001b[0;34m\u001b[0m\u001b[0;34m\u001b[0m\u001b[0m\n\u001b[1;32m   2284\u001b[0m     \u001b[0;32mfrom\u001b[0m \u001b[0mtensorflow\u001b[0m\u001b[0;34m.\u001b[0m\u001b[0mpython\u001b[0m\u001b[0;34m.\u001b[0m\u001b[0mdata\u001b[0m\u001b[0;34m.\u001b[0m\u001b[0mops\u001b[0m \u001b[0;32mimport\u001b[0m \u001b[0mflat_map_op\u001b[0m\u001b[0;34m\u001b[0m\u001b[0;34m\u001b[0m\u001b[0m\n\u001b[0;32m-> 2285\u001b[0;31m     \u001b[0;32mreturn\u001b[0m \u001b[0mflat_map_op\u001b[0m\u001b[0;34m.\u001b[0m\u001b[0m_flat_map\u001b[0m\u001b[0;34m(\u001b[0m\u001b[0mself\u001b[0m\u001b[0;34m,\u001b[0m \u001b[0mmap_func\u001b[0m\u001b[0;34m,\u001b[0m \u001b[0mname\u001b[0m\u001b[0;34m=\u001b[0m\u001b[0mname\u001b[0m\u001b[0;34m)\u001b[0m\u001b[0;34m\u001b[0m\u001b[0;34m\u001b[0m\u001b[0m\n\u001b[0m\u001b[1;32m   2286\u001b[0m     \u001b[0;31m# pylint: enable=g-import-not-at-top,protected-access\u001b[0m\u001b[0;34m\u001b[0m\u001b[0;34m\u001b[0m\u001b[0m\n\u001b[1;32m   2287\u001b[0m \u001b[0;34m\u001b[0m\u001b[0m\n",
            "\u001b[0;32m/usr/local/lib/python3.10/dist-packages/tensorflow/python/data/ops/flat_map_op.py\u001b[0m in \u001b[0;36m_flat_map\u001b[0;34m(input_dataset, map_func, name)\u001b[0m\n\u001b[1;32m     22\u001b[0m \u001b[0;32mdef\u001b[0m \u001b[0m_flat_map\u001b[0m\u001b[0;34m(\u001b[0m\u001b[0minput_dataset\u001b[0m\u001b[0;34m,\u001b[0m \u001b[0mmap_func\u001b[0m\u001b[0;34m,\u001b[0m \u001b[0mname\u001b[0m\u001b[0;34m=\u001b[0m\u001b[0;32mNone\u001b[0m\u001b[0;34m)\u001b[0m\u001b[0;34m:\u001b[0m  \u001b[0;31m# pylint: disable=unused-private-name\u001b[0m\u001b[0;34m\u001b[0m\u001b[0;34m\u001b[0m\u001b[0m\n\u001b[1;32m     23\u001b[0m   \u001b[0;34m\"\"\"See `Dataset.flat_map()` for details.\"\"\"\u001b[0m\u001b[0;34m\u001b[0m\u001b[0;34m\u001b[0m\u001b[0m\n\u001b[0;32m---> 24\u001b[0;31m   \u001b[0;32mreturn\u001b[0m \u001b[0m_FlatMapDataset\u001b[0m\u001b[0;34m(\u001b[0m\u001b[0minput_dataset\u001b[0m\u001b[0;34m,\u001b[0m \u001b[0mmap_func\u001b[0m\u001b[0;34m,\u001b[0m \u001b[0mname\u001b[0m\u001b[0;34m)\u001b[0m\u001b[0;34m\u001b[0m\u001b[0;34m\u001b[0m\u001b[0m\n\u001b[0m\u001b[1;32m     25\u001b[0m \u001b[0;34m\u001b[0m\u001b[0m\n\u001b[1;32m     26\u001b[0m \u001b[0;34m\u001b[0m\u001b[0m\n",
            "\u001b[0;32m/usr/local/lib/python3.10/dist-packages/tensorflow/python/data/ops/flat_map_op.py\u001b[0m in \u001b[0;36m__init__\u001b[0;34m(self, input_dataset, map_func, name)\u001b[0m\n\u001b[1;32m     31\u001b[0m \u001b[0;34m\u001b[0m\u001b[0m\n\u001b[1;32m     32\u001b[0m     \u001b[0mself\u001b[0m\u001b[0;34m.\u001b[0m\u001b[0m_input_dataset\u001b[0m \u001b[0;34m=\u001b[0m \u001b[0minput_dataset\u001b[0m\u001b[0;34m\u001b[0m\u001b[0;34m\u001b[0m\u001b[0m\n\u001b[0;32m---> 33\u001b[0;31m     self._map_func = structured_function.StructuredFunctionWrapper(\n\u001b[0m\u001b[1;32m     34\u001b[0m         map_func, self._transformation_name(), dataset=input_dataset)\n\u001b[1;32m     35\u001b[0m     \u001b[0;32mif\u001b[0m \u001b[0;32mnot\u001b[0m \u001b[0misinstance\u001b[0m\u001b[0;34m(\u001b[0m\u001b[0mself\u001b[0m\u001b[0;34m.\u001b[0m\u001b[0m_map_func\u001b[0m\u001b[0;34m.\u001b[0m\u001b[0moutput_structure\u001b[0m\u001b[0;34m,\u001b[0m \u001b[0mdataset_ops\u001b[0m\u001b[0;34m.\u001b[0m\u001b[0mDatasetSpec\u001b[0m\u001b[0;34m)\u001b[0m\u001b[0;34m:\u001b[0m\u001b[0;34m\u001b[0m\u001b[0;34m\u001b[0m\u001b[0m\n",
            "\u001b[0;32m/usr/local/lib/python3.10/dist-packages/tensorflow/python/data/ops/structured_function.py\u001b[0m in \u001b[0;36m__init__\u001b[0;34m(self, func, transformation_name, dataset, input_classes, input_shapes, input_types, input_structure, add_to_graph, use_legacy_function, defun_kwargs)\u001b[0m\n\u001b[1;32m    259\u001b[0m         \u001b[0mfn_factory\u001b[0m \u001b[0;34m=\u001b[0m \u001b[0mtrace_tf_function\u001b[0m\u001b[0;34m(\u001b[0m\u001b[0mdefun_kwargs\u001b[0m\u001b[0;34m)\u001b[0m\u001b[0;34m\u001b[0m\u001b[0;34m\u001b[0m\u001b[0m\n\u001b[1;32m    260\u001b[0m \u001b[0;34m\u001b[0m\u001b[0m\n\u001b[0;32m--> 261\u001b[0;31m     \u001b[0mself\u001b[0m\u001b[0;34m.\u001b[0m\u001b[0m_function\u001b[0m \u001b[0;34m=\u001b[0m \u001b[0mfn_factory\u001b[0m\u001b[0;34m(\u001b[0m\u001b[0;34m)\u001b[0m\u001b[0;34m\u001b[0m\u001b[0;34m\u001b[0m\u001b[0m\n\u001b[0m\u001b[1;32m    262\u001b[0m     \u001b[0;31m# There is no graph to add in eager mode.\u001b[0m\u001b[0;34m\u001b[0m\u001b[0;34m\u001b[0m\u001b[0m\n\u001b[1;32m    263\u001b[0m     \u001b[0madd_to_graph\u001b[0m \u001b[0;34m&=\u001b[0m \u001b[0;32mnot\u001b[0m \u001b[0mcontext\u001b[0m\u001b[0;34m.\u001b[0m\u001b[0mexecuting_eagerly\u001b[0m\u001b[0;34m(\u001b[0m\u001b[0;34m)\u001b[0m\u001b[0;34m\u001b[0m\u001b[0;34m\u001b[0m\u001b[0m\n",
            "\u001b[0;32m/usr/local/lib/python3.10/dist-packages/tensorflow/python/eager/polymorphic_function/tracing_compiler.py\u001b[0m in \u001b[0;36mget_concrete_function\u001b[0;34m(self, *args, **kwargs)\u001b[0m\n\u001b[1;32m    230\u001b[0m         \u001b[0;31m`\u001b[0m\u001b[0mtf\u001b[0m\u001b[0;34m.\u001b[0m\u001b[0mTensor\u001b[0m\u001b[0;31m`\u001b[0m \u001b[0;32mor\u001b[0m\u001b[0;31m \u001b[0m\u001b[0;31m`\u001b[0m\u001b[0mtf\u001b[0m\u001b[0;34m.\u001b[0m\u001b[0mTensorSpec\u001b[0m\u001b[0;31m`\u001b[0m\u001b[0;34m.\u001b[0m\u001b[0;34m\u001b[0m\u001b[0;34m\u001b[0m\u001b[0m\n\u001b[1;32m    231\u001b[0m     \"\"\"\n\u001b[0;32m--> 232\u001b[0;31m     concrete_function = self._get_concrete_function_garbage_collected(\n\u001b[0m\u001b[1;32m    233\u001b[0m         *args, **kwargs)\n\u001b[1;32m    234\u001b[0m     \u001b[0mconcrete_function\u001b[0m\u001b[0;34m.\u001b[0m\u001b[0m_garbage_collector\u001b[0m\u001b[0;34m.\u001b[0m\u001b[0mrelease\u001b[0m\u001b[0;34m(\u001b[0m\u001b[0;34m)\u001b[0m  \u001b[0;31m# pylint: disable=protected-access\u001b[0m\u001b[0;34m\u001b[0m\u001b[0;34m\u001b[0m\u001b[0m\n",
            "\u001b[0;32m/usr/local/lib/python3.10/dist-packages/tensorflow/python/eager/polymorphic_function/tracing_compiler.py\u001b[0m in \u001b[0;36m_get_concrete_function_garbage_collected\u001b[0;34m(self, *args, **kwargs)\u001b[0m\n\u001b[1;32m    200\u001b[0m \u001b[0;34m\u001b[0m\u001b[0m\n\u001b[1;32m    201\u001b[0m     \u001b[0;32mwith\u001b[0m \u001b[0mself\u001b[0m\u001b[0;34m.\u001b[0m\u001b[0m_lock\u001b[0m\u001b[0;34m:\u001b[0m\u001b[0;34m\u001b[0m\u001b[0;34m\u001b[0m\u001b[0m\n\u001b[0;32m--> 202\u001b[0;31m       \u001b[0mconcrete_function\u001b[0m\u001b[0;34m,\u001b[0m \u001b[0m_\u001b[0m \u001b[0;34m=\u001b[0m \u001b[0mself\u001b[0m\u001b[0;34m.\u001b[0m\u001b[0m_maybe_define_concrete_function\u001b[0m\u001b[0;34m(\u001b[0m\u001b[0margs\u001b[0m\u001b[0;34m,\u001b[0m \u001b[0mkwargs\u001b[0m\u001b[0;34m)\u001b[0m\u001b[0;34m\u001b[0m\u001b[0;34m\u001b[0m\u001b[0m\n\u001b[0m\u001b[1;32m    203\u001b[0m       \u001b[0mseen_names\u001b[0m \u001b[0;34m=\u001b[0m \u001b[0mset\u001b[0m\u001b[0;34m(\u001b[0m\u001b[0;34m)\u001b[0m\u001b[0;34m\u001b[0m\u001b[0;34m\u001b[0m\u001b[0m\n\u001b[1;32m    204\u001b[0m       \u001b[0mconcrete_function\u001b[0m\u001b[0;34m.\u001b[0m\u001b[0m_arg_keywords\u001b[0m \u001b[0;34m=\u001b[0m \u001b[0;34m[\u001b[0m\u001b[0;34m]\u001b[0m  \u001b[0;31m# pylint: disable=protected-access\u001b[0m\u001b[0;34m\u001b[0m\u001b[0;34m\u001b[0m\u001b[0m\n",
            "\u001b[0;32m/usr/local/lib/python3.10/dist-packages/tensorflow/python/eager/polymorphic_function/tracing_compiler.py\u001b[0m in \u001b[0;36m_maybe_define_concrete_function\u001b[0;34m(self, args, kwargs)\u001b[0m\n\u001b[1;32m    164\u001b[0m       \u001b[0mkwargs\u001b[0m \u001b[0;34m=\u001b[0m \u001b[0;34m{\u001b[0m\u001b[0;34m}\u001b[0m\u001b[0;34m\u001b[0m\u001b[0;34m\u001b[0m\u001b[0m\n\u001b[1;32m    165\u001b[0m \u001b[0;34m\u001b[0m\u001b[0m\n\u001b[0;32m--> 166\u001b[0;31m     \u001b[0;32mreturn\u001b[0m \u001b[0mself\u001b[0m\u001b[0;34m.\u001b[0m\u001b[0m_maybe_define_function\u001b[0m\u001b[0;34m(\u001b[0m\u001b[0margs\u001b[0m\u001b[0;34m,\u001b[0m \u001b[0mkwargs\u001b[0m\u001b[0;34m)\u001b[0m\u001b[0;34m\u001b[0m\u001b[0;34m\u001b[0m\u001b[0m\n\u001b[0m\u001b[1;32m    167\u001b[0m \u001b[0;34m\u001b[0m\u001b[0m\n\u001b[1;32m    168\u001b[0m   \u001b[0;32mdef\u001b[0m \u001b[0m_get_concrete_function_internal_garbage_collected\u001b[0m\u001b[0;34m(\u001b[0m\u001b[0mself\u001b[0m\u001b[0;34m,\u001b[0m \u001b[0;34m*\u001b[0m\u001b[0margs\u001b[0m\u001b[0;34m,\u001b[0m \u001b[0;34m**\u001b[0m\u001b[0mkwargs\u001b[0m\u001b[0;34m)\u001b[0m\u001b[0;34m:\u001b[0m\u001b[0;34m\u001b[0m\u001b[0;34m\u001b[0m\u001b[0m\n",
            "\u001b[0;32m/usr/local/lib/python3.10/dist-packages/tensorflow/python/eager/polymorphic_function/tracing_compiler.py\u001b[0m in \u001b[0;36m_maybe_define_function\u001b[0;34m(self, args, kwargs)\u001b[0m\n\u001b[1;32m    394\u001b[0m           \u001b[0mkwargs\u001b[0m \u001b[0;34m=\u001b[0m \u001b[0mplaceholder_bound_args\u001b[0m\u001b[0;34m.\u001b[0m\u001b[0mkwargs\u001b[0m\u001b[0;34m\u001b[0m\u001b[0;34m\u001b[0m\u001b[0m\n\u001b[1;32m    395\u001b[0m \u001b[0;34m\u001b[0m\u001b[0m\n\u001b[0;32m--> 396\u001b[0;31m           concrete_function = self._create_concrete_function(\n\u001b[0m\u001b[1;32m    397\u001b[0m               args, kwargs, func_graph)\n\u001b[1;32m    398\u001b[0m \u001b[0;34m\u001b[0m\u001b[0m\n",
            "\u001b[0;32m/usr/local/lib/python3.10/dist-packages/tensorflow/python/eager/polymorphic_function/tracing_compiler.py\u001b[0m in \u001b[0;36m_create_concrete_function\u001b[0;34m(self, args, kwargs, func_graph)\u001b[0m\n\u001b[1;32m    298\u001b[0m \u001b[0;34m\u001b[0m\u001b[0m\n\u001b[1;32m    299\u001b[0m     concrete_function = monomorphic_function.ConcreteFunction(\n\u001b[0;32m--> 300\u001b[0;31m         func_graph_module.func_graph_from_py_func(\n\u001b[0m\u001b[1;32m    301\u001b[0m             \u001b[0mself\u001b[0m\u001b[0;34m.\u001b[0m\u001b[0m_name\u001b[0m\u001b[0;34m,\u001b[0m\u001b[0;34m\u001b[0m\u001b[0;34m\u001b[0m\u001b[0m\n\u001b[1;32m    302\u001b[0m             \u001b[0mself\u001b[0m\u001b[0;34m.\u001b[0m\u001b[0m_python_function\u001b[0m\u001b[0;34m,\u001b[0m\u001b[0;34m\u001b[0m\u001b[0;34m\u001b[0m\u001b[0m\n",
            "\u001b[0;32m/usr/local/lib/python3.10/dist-packages/tensorflow/python/framework/func_graph.py\u001b[0m in \u001b[0;36mfunc_graph_from_py_func\u001b[0;34m(name, python_func, args, kwargs, signature, func_graph, autograph, autograph_options, add_control_dependencies, arg_names, op_return_value, collections, capture_by_value, create_placeholders, acd_record_initial_resource_uses)\u001b[0m\n\u001b[1;32m   1217\u001b[0m       \u001b[0;31m# TensorArrays and `None`s.\u001b[0m\u001b[0;34m\u001b[0m\u001b[0;34m\u001b[0m\u001b[0m\n\u001b[1;32m   1218\u001b[0m       \u001b[0mfunc_outputs\u001b[0m \u001b[0;34m=\u001b[0m \u001b[0mvariable_utils\u001b[0m\u001b[0;34m.\u001b[0m\u001b[0mconvert_variables_to_tensors\u001b[0m\u001b[0;34m(\u001b[0m\u001b[0mfunc_outputs\u001b[0m\u001b[0;34m)\u001b[0m\u001b[0;34m\u001b[0m\u001b[0;34m\u001b[0m\u001b[0m\n\u001b[0;32m-> 1219\u001b[0;31m       func_outputs = nest.map_structure(\n\u001b[0m\u001b[1;32m   1220\u001b[0m           convert, func_outputs, expand_composites=True)\n\u001b[1;32m   1221\u001b[0m \u001b[0;34m\u001b[0m\u001b[0m\n",
            "\u001b[0;32m/usr/local/lib/python3.10/dist-packages/tensorflow/python/util/nest.py\u001b[0m in \u001b[0;36mmap_structure\u001b[0;34m(func, *structure, **kwargs)\u001b[0m\n\u001b[1;32m    915\u001b[0m \u001b[0;34m\u001b[0m\u001b[0m\n\u001b[1;32m    916\u001b[0m   return pack_sequence_as(\n\u001b[0;32m--> 917\u001b[0;31m       \u001b[0mstructure\u001b[0m\u001b[0;34m[\u001b[0m\u001b[0;36m0\u001b[0m\u001b[0;34m]\u001b[0m\u001b[0;34m,\u001b[0m \u001b[0;34m[\u001b[0m\u001b[0mfunc\u001b[0m\u001b[0;34m(\u001b[0m\u001b[0;34m*\u001b[0m\u001b[0mx\u001b[0m\u001b[0;34m)\u001b[0m \u001b[0;32mfor\u001b[0m \u001b[0mx\u001b[0m \u001b[0;32min\u001b[0m \u001b[0mentries\u001b[0m\u001b[0;34m]\u001b[0m\u001b[0;34m,\u001b[0m\u001b[0;34m\u001b[0m\u001b[0;34m\u001b[0m\u001b[0m\n\u001b[0m\u001b[1;32m    918\u001b[0m       expand_composites=expand_composites)\n\u001b[1;32m    919\u001b[0m \u001b[0;34m\u001b[0m\u001b[0m\n",
            "\u001b[0;32m/usr/local/lib/python3.10/dist-packages/tensorflow/python/util/nest.py\u001b[0m in \u001b[0;36m<listcomp>\u001b[0;34m(.0)\u001b[0m\n\u001b[1;32m    915\u001b[0m \u001b[0;34m\u001b[0m\u001b[0m\n\u001b[1;32m    916\u001b[0m   return pack_sequence_as(\n\u001b[0;32m--> 917\u001b[0;31m       \u001b[0mstructure\u001b[0m\u001b[0;34m[\u001b[0m\u001b[0;36m0\u001b[0m\u001b[0;34m]\u001b[0m\u001b[0;34m,\u001b[0m \u001b[0;34m[\u001b[0m\u001b[0mfunc\u001b[0m\u001b[0;34m(\u001b[0m\u001b[0;34m*\u001b[0m\u001b[0mx\u001b[0m\u001b[0;34m)\u001b[0m \u001b[0;32mfor\u001b[0m \u001b[0mx\u001b[0m \u001b[0;32min\u001b[0m \u001b[0mentries\u001b[0m\u001b[0;34m]\u001b[0m\u001b[0;34m,\u001b[0m\u001b[0;34m\u001b[0m\u001b[0;34m\u001b[0m\u001b[0m\n\u001b[0m\u001b[1;32m    918\u001b[0m       expand_composites=expand_composites)\n\u001b[1;32m    919\u001b[0m \u001b[0;34m\u001b[0m\u001b[0m\n",
            "\u001b[0;32m/usr/local/lib/python3.10/dist-packages/tensorflow/python/framework/func_graph.py\u001b[0m in \u001b[0;36mconvert\u001b[0;34m(x)\u001b[0m\n\u001b[1;32m   1175\u001b[0m               \"ExtensionType.\")\n\u001b[1;32m   1176\u001b[0m       \u001b[0;32mif\u001b[0m \u001b[0madd_control_dependencies\u001b[0m\u001b[0;34m:\u001b[0m\u001b[0;34m\u001b[0m\u001b[0;34m\u001b[0m\u001b[0m\n\u001b[0;32m-> 1177\u001b[0;31m         \u001b[0mx\u001b[0m \u001b[0;34m=\u001b[0m \u001b[0mdeps_ctx\u001b[0m\u001b[0;34m.\u001b[0m\u001b[0mmark_as_return\u001b[0m\u001b[0;34m(\u001b[0m\u001b[0mx\u001b[0m\u001b[0;34m)\u001b[0m\u001b[0;34m\u001b[0m\u001b[0;34m\u001b[0m\u001b[0m\n\u001b[0m\u001b[1;32m   1178\u001b[0m       \u001b[0;32mreturn\u001b[0m \u001b[0mx\u001b[0m\u001b[0;34m\u001b[0m\u001b[0;34m\u001b[0m\u001b[0m\n\u001b[1;32m   1179\u001b[0m \u001b[0;34m\u001b[0m\u001b[0m\n",
            "\u001b[0;32m/usr/local/lib/python3.10/dist-packages/tensorflow/python/framework/auto_control_deps.py\u001b[0m in \u001b[0;36mmark_as_return\u001b[0;34m(self, tensor)\u001b[0m\n\u001b[1;32m    248\u001b[0m     \u001b[0;31m# of a new identity operation that the stateful operations definitely don't\u001b[0m\u001b[0;34m\u001b[0m\u001b[0;34m\u001b[0m\u001b[0m\n\u001b[1;32m    249\u001b[0m     \u001b[0;31m# depend on.\u001b[0m\u001b[0;34m\u001b[0m\u001b[0;34m\u001b[0m\u001b[0m\n\u001b[0;32m--> 250\u001b[0;31m     \u001b[0mtensor\u001b[0m \u001b[0;34m=\u001b[0m \u001b[0marray_ops\u001b[0m\u001b[0;34m.\u001b[0m\u001b[0midentity\u001b[0m\u001b[0;34m(\u001b[0m\u001b[0mtensor\u001b[0m\u001b[0;34m)\u001b[0m\u001b[0;34m\u001b[0m\u001b[0;34m\u001b[0m\u001b[0m\n\u001b[0m\u001b[1;32m    251\u001b[0m     \u001b[0mself\u001b[0m\u001b[0;34m.\u001b[0m\u001b[0m_returned_tensors\u001b[0m\u001b[0;34m.\u001b[0m\u001b[0madd\u001b[0m\u001b[0;34m(\u001b[0m\u001b[0mtensor\u001b[0m\u001b[0;34m)\u001b[0m\u001b[0;34m\u001b[0m\u001b[0;34m\u001b[0m\u001b[0m\n\u001b[1;32m    252\u001b[0m     \u001b[0;32mreturn\u001b[0m \u001b[0mtensor\u001b[0m\u001b[0;34m\u001b[0m\u001b[0;34m\u001b[0m\u001b[0m\n",
            "\u001b[0;32m/usr/local/lib/python3.10/dist-packages/tensorflow/python/util/traceback_utils.py\u001b[0m in \u001b[0;36merror_handler\u001b[0;34m(*args, **kwargs)\u001b[0m\n\u001b[1;32m    148\u001b[0m     \u001b[0mfiltered_tb\u001b[0m \u001b[0;34m=\u001b[0m \u001b[0;32mNone\u001b[0m\u001b[0;34m\u001b[0m\u001b[0;34m\u001b[0m\u001b[0m\n\u001b[1;32m    149\u001b[0m     \u001b[0;32mtry\u001b[0m\u001b[0;34m:\u001b[0m\u001b[0;34m\u001b[0m\u001b[0;34m\u001b[0m\u001b[0m\n\u001b[0;32m--> 150\u001b[0;31m       \u001b[0;32mreturn\u001b[0m \u001b[0mfn\u001b[0m\u001b[0;34m(\u001b[0m\u001b[0;34m*\u001b[0m\u001b[0margs\u001b[0m\u001b[0;34m,\u001b[0m \u001b[0;34m**\u001b[0m\u001b[0mkwargs\u001b[0m\u001b[0;34m)\u001b[0m\u001b[0;34m\u001b[0m\u001b[0;34m\u001b[0m\u001b[0m\n\u001b[0m\u001b[1;32m    151\u001b[0m     \u001b[0;32mexcept\u001b[0m \u001b[0mException\u001b[0m \u001b[0;32mas\u001b[0m \u001b[0me\u001b[0m\u001b[0;34m:\u001b[0m\u001b[0;34m\u001b[0m\u001b[0;34m\u001b[0m\u001b[0m\n\u001b[1;32m    152\u001b[0m       \u001b[0mfiltered_tb\u001b[0m \u001b[0;34m=\u001b[0m \u001b[0m_process_traceback_frames\u001b[0m\u001b[0;34m(\u001b[0m\u001b[0me\u001b[0m\u001b[0;34m.\u001b[0m\u001b[0m__traceback__\u001b[0m\u001b[0;34m)\u001b[0m\u001b[0;34m\u001b[0m\u001b[0;34m\u001b[0m\u001b[0m\n",
            "\u001b[0;32m/usr/local/lib/python3.10/dist-packages/tensorflow/python/util/dispatch.py\u001b[0m in \u001b[0;36mop_dispatch_handler\u001b[0;34m(*args, **kwargs)\u001b[0m\n\u001b[1;32m   1174\u001b[0m       \u001b[0;31m# Fallback dispatch system (dispatch v1):\u001b[0m\u001b[0;34m\u001b[0m\u001b[0;34m\u001b[0m\u001b[0m\n\u001b[1;32m   1175\u001b[0m       \u001b[0;32mtry\u001b[0m\u001b[0;34m:\u001b[0m\u001b[0;34m\u001b[0m\u001b[0;34m\u001b[0m\u001b[0m\n\u001b[0;32m-> 1176\u001b[0;31m         \u001b[0;32mreturn\u001b[0m \u001b[0mdispatch_target\u001b[0m\u001b[0;34m(\u001b[0m\u001b[0;34m*\u001b[0m\u001b[0margs\u001b[0m\u001b[0;34m,\u001b[0m \u001b[0;34m**\u001b[0m\u001b[0mkwargs\u001b[0m\u001b[0;34m)\u001b[0m\u001b[0;34m\u001b[0m\u001b[0;34m\u001b[0m\u001b[0m\n\u001b[0m\u001b[1;32m   1177\u001b[0m       \u001b[0;32mexcept\u001b[0m \u001b[0;34m(\u001b[0m\u001b[0mTypeError\u001b[0m\u001b[0;34m,\u001b[0m \u001b[0mValueError\u001b[0m\u001b[0;34m)\u001b[0m\u001b[0;34m:\u001b[0m\u001b[0;34m\u001b[0m\u001b[0;34m\u001b[0m\u001b[0m\n\u001b[1;32m   1178\u001b[0m         \u001b[0;31m# Note: convert_to_eager_tensor currently raises a ValueError, not a\u001b[0m\u001b[0;34m\u001b[0m\u001b[0;34m\u001b[0m\u001b[0m\n",
            "\u001b[0;32m/usr/local/lib/python3.10/dist-packages/tensorflow/python/ops/array_ops.py\u001b[0m in \u001b[0;36midentity\u001b[0;34m(input, name)\u001b[0m\n\u001b[1;32m    300\u001b[0m     \u001b[0;31m# variables. Variables have correct handle data when graph building.\u001b[0m\u001b[0;34m\u001b[0m\u001b[0;34m\u001b[0m\u001b[0m\n\u001b[1;32m    301\u001b[0m     \u001b[0minput\u001b[0m \u001b[0;34m=\u001b[0m \u001b[0mops\u001b[0m\u001b[0;34m.\u001b[0m\u001b[0mconvert_to_tensor\u001b[0m\u001b[0;34m(\u001b[0m\u001b[0minput\u001b[0m\u001b[0;34m)\u001b[0m\u001b[0;34m\u001b[0m\u001b[0;34m\u001b[0m\u001b[0m\n\u001b[0;32m--> 302\u001b[0;31m   \u001b[0mret\u001b[0m \u001b[0;34m=\u001b[0m \u001b[0mgen_array_ops\u001b[0m\u001b[0;34m.\u001b[0m\u001b[0midentity\u001b[0m\u001b[0;34m(\u001b[0m\u001b[0minput\u001b[0m\u001b[0;34m,\u001b[0m \u001b[0mname\u001b[0m\u001b[0;34m=\u001b[0m\u001b[0mname\u001b[0m\u001b[0;34m)\u001b[0m\u001b[0;34m\u001b[0m\u001b[0;34m\u001b[0m\u001b[0m\n\u001b[0m\u001b[1;32m    303\u001b[0m   \u001b[0;31m# Propagate handle data for happier shape inference for resource variables.\u001b[0m\u001b[0;34m\u001b[0m\u001b[0;34m\u001b[0m\u001b[0m\n\u001b[1;32m    304\u001b[0m   \u001b[0;32mif\u001b[0m \u001b[0mhasattr\u001b[0m\u001b[0;34m(\u001b[0m\u001b[0minput\u001b[0m\u001b[0;34m,\u001b[0m \u001b[0;34m\"_handle_data\"\u001b[0m\u001b[0;34m)\u001b[0m\u001b[0;34m:\u001b[0m\u001b[0;34m\u001b[0m\u001b[0;34m\u001b[0m\u001b[0m\n",
            "\u001b[0;32m/usr/local/lib/python3.10/dist-packages/tensorflow/python/ops/gen_array_ops.py\u001b[0m in \u001b[0;36midentity\u001b[0;34m(input, name)\u001b[0m\n\u001b[1;32m   4104\u001b[0m       \u001b[0;32mpass\u001b[0m  \u001b[0;31m# Add nodes to the TensorFlow graph.\u001b[0m\u001b[0;34m\u001b[0m\u001b[0;34m\u001b[0m\u001b[0m\n\u001b[1;32m   4105\u001b[0m   \u001b[0;31m# Add nodes to the TensorFlow graph.\u001b[0m\u001b[0;34m\u001b[0m\u001b[0;34m\u001b[0m\u001b[0m\n\u001b[0;32m-> 4106\u001b[0;31m   _, _, _op, _outputs = _op_def_library._apply_op_helper(\n\u001b[0m\u001b[1;32m   4107\u001b[0m         \"Identity\", input=input, name=name)\n\u001b[1;32m   4108\u001b[0m   \u001b[0m_result\u001b[0m \u001b[0;34m=\u001b[0m \u001b[0m_outputs\u001b[0m\u001b[0;34m[\u001b[0m\u001b[0;34m:\u001b[0m\u001b[0;34m]\u001b[0m\u001b[0;34m\u001b[0m\u001b[0;34m\u001b[0m\u001b[0m\n",
            "\u001b[0;32m/usr/local/lib/python3.10/dist-packages/tensorflow/python/framework/op_def_library.py\u001b[0m in \u001b[0;36m_apply_op_helper\u001b[0;34m(op_type_name, name, **keywords)\u001b[0m\n\u001b[1;32m    793\u001b[0m       \u001b[0;31m# Add Op to graph\u001b[0m\u001b[0;34m\u001b[0m\u001b[0;34m\u001b[0m\u001b[0m\n\u001b[1;32m    794\u001b[0m       \u001b[0;31m# pylint: disable=protected-access\u001b[0m\u001b[0;34m\u001b[0m\u001b[0;34m\u001b[0m\u001b[0m\n\u001b[0;32m--> 795\u001b[0;31m       op = g._create_op_internal(op_type_name, inputs, dtypes=None,\n\u001b[0m\u001b[1;32m    796\u001b[0m                                  \u001b[0mname\u001b[0m\u001b[0;34m=\u001b[0m\u001b[0mscope\u001b[0m\u001b[0;34m,\u001b[0m \u001b[0minput_types\u001b[0m\u001b[0;34m=\u001b[0m\u001b[0minput_types\u001b[0m\u001b[0;34m,\u001b[0m\u001b[0;34m\u001b[0m\u001b[0;34m\u001b[0m\u001b[0m\n\u001b[1;32m    797\u001b[0m                                  attrs=attr_protos, op_def=op_def)\n",
            "\u001b[0;32m/usr/local/lib/python3.10/dist-packages/tensorflow/python/framework/func_graph.py\u001b[0m in \u001b[0;36m_create_op_internal\u001b[0;34m(self, op_type, inputs, dtypes, input_types, name, attrs, op_def, compute_device)\u001b[0m\n\u001b[1;32m    705\u001b[0m       \u001b[0minp\u001b[0m \u001b[0;34m=\u001b[0m \u001b[0mself\u001b[0m\u001b[0;34m.\u001b[0m\u001b[0mcapture\u001b[0m\u001b[0;34m(\u001b[0m\u001b[0minp\u001b[0m\u001b[0;34m)\u001b[0m\u001b[0;34m\u001b[0m\u001b[0;34m\u001b[0m\u001b[0m\n\u001b[1;32m    706\u001b[0m       \u001b[0mcaptured_inputs\u001b[0m\u001b[0;34m.\u001b[0m\u001b[0mappend\u001b[0m\u001b[0;34m(\u001b[0m\u001b[0minp\u001b[0m\u001b[0;34m)\u001b[0m\u001b[0;34m\u001b[0m\u001b[0;34m\u001b[0m\u001b[0m\n\u001b[0;32m--> 707\u001b[0;31m     return super()._create_op_internal(  # pylint: disable=protected-access\n\u001b[0m\u001b[1;32m    708\u001b[0m         \u001b[0mop_type\u001b[0m\u001b[0;34m,\u001b[0m \u001b[0mcaptured_inputs\u001b[0m\u001b[0;34m,\u001b[0m \u001b[0mdtypes\u001b[0m\u001b[0;34m,\u001b[0m \u001b[0minput_types\u001b[0m\u001b[0;34m,\u001b[0m \u001b[0mname\u001b[0m\u001b[0;34m,\u001b[0m \u001b[0mattrs\u001b[0m\u001b[0;34m,\u001b[0m \u001b[0mop_def\u001b[0m\u001b[0;34m,\u001b[0m\u001b[0;34m\u001b[0m\u001b[0;34m\u001b[0m\u001b[0m\n\u001b[1;32m    709\u001b[0m         compute_device)\n",
            "\u001b[0;32m/usr/local/lib/python3.10/dist-packages/tensorflow/python/framework/ops.py\u001b[0m in \u001b[0;36m_create_op_internal\u001b[0;34m(self, op_type, inputs, dtypes, input_types, name, attrs, op_def, compute_device)\u001b[0m\n\u001b[1;32m   3821\u001b[0m           \u001b[0moriginal_op\u001b[0m\u001b[0;34m=\u001b[0m\u001b[0mself\u001b[0m\u001b[0;34m.\u001b[0m\u001b[0m_default_original_op\u001b[0m\u001b[0;34m,\u001b[0m\u001b[0;34m\u001b[0m\u001b[0;34m\u001b[0m\u001b[0m\n\u001b[1;32m   3822\u001b[0m           op_def=op_def)\n\u001b[0;32m-> 3823\u001b[0;31m       \u001b[0mself\u001b[0m\u001b[0;34m.\u001b[0m\u001b[0m_create_op_helper\u001b[0m\u001b[0;34m(\u001b[0m\u001b[0mret\u001b[0m\u001b[0;34m,\u001b[0m \u001b[0mcompute_device\u001b[0m\u001b[0;34m=\u001b[0m\u001b[0mcompute_device\u001b[0m\u001b[0;34m)\u001b[0m\u001b[0;34m\u001b[0m\u001b[0;34m\u001b[0m\u001b[0m\n\u001b[0m\u001b[1;32m   3824\u001b[0m     \u001b[0;32mreturn\u001b[0m \u001b[0mret\u001b[0m\u001b[0;34m\u001b[0m\u001b[0;34m\u001b[0m\u001b[0m\n\u001b[1;32m   3825\u001b[0m \u001b[0;34m\u001b[0m\u001b[0m\n",
            "\u001b[0;32m/usr/local/lib/python3.10/dist-packages/tensorflow/python/framework/ops.py\u001b[0m in \u001b[0;36m_create_op_helper\u001b[0;34m(self, op, compute_device)\u001b[0m\n\u001b[1;32m   3896\u001b[0m \u001b[0;34m\u001b[0m\u001b[0m\n\u001b[1;32m   3897\u001b[0m     \u001b[0;32mif\u001b[0m \u001b[0mcompute_device\u001b[0m\u001b[0;34m:\u001b[0m\u001b[0;34m\u001b[0m\u001b[0;34m\u001b[0m\u001b[0m\n\u001b[0;32m-> 3898\u001b[0;31m       \u001b[0mself\u001b[0m\u001b[0;34m.\u001b[0m\u001b[0m_apply_device_functions\u001b[0m\u001b[0;34m(\u001b[0m\u001b[0mop\u001b[0m\u001b[0;34m)\u001b[0m\u001b[0;34m\u001b[0m\u001b[0;34m\u001b[0m\u001b[0m\n\u001b[0m\u001b[1;32m   3899\u001b[0m \u001b[0;34m\u001b[0m\u001b[0m\n\u001b[1;32m   3900\u001b[0m     \u001b[0;31m# Snapshot the colocation stack metadata before we might generate error\u001b[0m\u001b[0;34m\u001b[0m\u001b[0;34m\u001b[0m\u001b[0m\n",
            "\u001b[0;32m/usr/local/lib/python3.10/dist-packages/tensorflow/python/framework/ops.py\u001b[0m in \u001b[0;36m_apply_device_functions\u001b[0;34m(self, op)\u001b[0m\n\u001b[1;32m   4803\u001b[0m     \u001b[0;31m# pylint: disable=protected-access\u001b[0m\u001b[0;34m\u001b[0m\u001b[0;34m\u001b[0m\u001b[0m\n\u001b[1;32m   4804\u001b[0m     \u001b[0mprior_device_string\u001b[0m \u001b[0;34m=\u001b[0m \u001b[0;32mNone\u001b[0m\u001b[0;34m\u001b[0m\u001b[0;34m\u001b[0m\u001b[0m\n\u001b[0;32m-> 4805\u001b[0;31m     \u001b[0;32mfor\u001b[0m \u001b[0mdevice_spec\u001b[0m \u001b[0;32min\u001b[0m \u001b[0mself\u001b[0m\u001b[0;34m.\u001b[0m\u001b[0m_device_function_stack\u001b[0m\u001b[0;34m.\u001b[0m\u001b[0mpeek_objs\u001b[0m\u001b[0;34m(\u001b[0m\u001b[0;34m)\u001b[0m\u001b[0;34m:\u001b[0m\u001b[0;34m\u001b[0m\u001b[0;34m\u001b[0m\u001b[0m\n\u001b[0m\u001b[1;32m   4806\u001b[0m       \u001b[0;32mif\u001b[0m \u001b[0mdevice_spec\u001b[0m\u001b[0;34m.\u001b[0m\u001b[0mis_null_merge\u001b[0m\u001b[0;34m:\u001b[0m\u001b[0;34m\u001b[0m\u001b[0;34m\u001b[0m\u001b[0m\n\u001b[1;32m   4807\u001b[0m         \u001b[0;32mcontinue\u001b[0m\u001b[0;34m\u001b[0m\u001b[0;34m\u001b[0m\u001b[0m\n",
            "\u001b[0;32m/usr/local/lib/python3.10/dist-packages/tensorflow/python/framework/traceable_stack.py\u001b[0m in \u001b[0;36mpeek_objs\u001b[0;34m(self)\u001b[0m\n\u001b[1;32m    109\u001b[0m   \u001b[0;32mdef\u001b[0m \u001b[0mpeek_objs\u001b[0m\u001b[0;34m(\u001b[0m\u001b[0mself\u001b[0m\u001b[0;34m)\u001b[0m\u001b[0;34m:\u001b[0m\u001b[0;34m\u001b[0m\u001b[0;34m\u001b[0m\u001b[0m\n\u001b[1;32m    110\u001b[0m     \u001b[0;34m\"\"\"Return iterator over stored objects ordered newest to oldest.\"\"\"\u001b[0m\u001b[0;34m\u001b[0m\u001b[0;34m\u001b[0m\u001b[0m\n\u001b[0;32m--> 111\u001b[0;31m     \u001b[0;32mreturn\u001b[0m \u001b[0;34m(\u001b[0m\u001b[0mt_obj\u001b[0m\u001b[0;34m.\u001b[0m\u001b[0mobj\u001b[0m \u001b[0;32mfor\u001b[0m \u001b[0mt_obj\u001b[0m \u001b[0;32min\u001b[0m \u001b[0mreversed\u001b[0m\u001b[0;34m(\u001b[0m\u001b[0mself\u001b[0m\u001b[0;34m.\u001b[0m\u001b[0m_stack\u001b[0m\u001b[0;34m)\u001b[0m\u001b[0;34m)\u001b[0m\u001b[0;34m\u001b[0m\u001b[0;34m\u001b[0m\u001b[0m\n\u001b[0m\u001b[1;32m    112\u001b[0m \u001b[0;34m\u001b[0m\u001b[0m\n\u001b[1;32m    113\u001b[0m   \u001b[0;32mdef\u001b[0m \u001b[0mpeek_traceable_objs\u001b[0m\u001b[0;34m(\u001b[0m\u001b[0mself\u001b[0m\u001b[0;34m)\u001b[0m\u001b[0;34m:\u001b[0m\u001b[0;34m\u001b[0m\u001b[0;34m\u001b[0m\u001b[0m\n",
            "\u001b[0;31mKeyboardInterrupt\u001b[0m: "
          ]
        }
      ]
    },
    {
      "cell_type": "code",
      "source": [
        "# Calculate simple MAE between y_pred_systolic and y_test_systolic\n",
        "y_pred_systolic = model.predict(X_test_sys) #.squeeze()\n",
        "# mae_systolic = MeanAbsoluteError()\n",
        "mae_value = mean_absolute_error(y_test_sys, y_pred_systolic)\n",
        "print(f'MAE between y_pred_systolic and y_test_systolic: {mae_value}')"
      ],
      "metadata": {
        "colab": {
          "base_uri": "https://localhost:8080/"
        },
        "id": "-_ir8IbIG9o3",
        "outputId": "f5d69e7e-9924-43c1-b3e4-1c26d7972c26"
      },
      "execution_count": null,
      "outputs": [
        {
          "output_type": "stream",
          "name": "stdout",
          "text": [
            "313/313 [==============================] - 1s 2ms/step\n",
            "MAE between y_pred_systolic and y_test_systolic: 17.825097306823732\n"
          ]
        }
      ]
    },
    {
      "cell_type": "code",
      "source": [
        "# Continue training the existing model for an additional 80 epochs\n",
        "model.fit(X_train_sys, y_train, epochs=80, batch_size=32, validation_split=0.2, shuffle=False)\n",
        "\n",
        "# Evaluate the model again after the additional 80 epochs\n",
        "# loss, mae = model.evaluate(X_test, y_test, batch_size=32)\n",
        "print(f'Test Loss After 150 Epochs: {loss}, Test MAE After 150 Epochs: {mae}')\n",
        "\n",
        "# Calculate simple MAE between y_pred_systolic and y_test_systolic after the additional 80 epochs\n",
        "y_pred_systolic = model.predict(X_test_sys) #.squeeze()\n",
        "# mae_systolic = MeanAbsoluteError()\n",
        "mae_value = mean_absolute_error(y_test_sys, y_pred_systolic)\n",
        "\n",
        "print(f'MAE between y_pred_systolic and y_test_systolic After 150 Epochs: {mae_value}')\n"
      ],
      "metadata": {
        "colab": {
          "base_uri": "https://localhost:8080/",
          "height": 1000
        },
        "id": "3Cz4IduoHMFE",
        "outputId": "431d3e51-518a-410f-bd87-b51506b8a89d"
      },
      "execution_count": null,
      "outputs": [
        {
          "output_type": "stream",
          "name": "stdout",
          "text": [
            "Epoch 1/80\n",
            "500/500 [==============================] - 7s 10ms/step - loss: 17.6925 - mean_absolute_error: 17.6925 - val_loss: 17.6075 - val_mean_absolute_error: 17.6075\n",
            "Epoch 2/80\n",
            "500/500 [==============================] - 4s 9ms/step - loss: 17.6811 - mean_absolute_error: 17.6811 - val_loss: 17.6327 - val_mean_absolute_error: 17.6327\n",
            "Epoch 3/80\n",
            "500/500 [==============================] - 4s 9ms/step - loss: 17.6866 - mean_absolute_error: 17.6866 - val_loss: 17.5951 - val_mean_absolute_error: 17.5951\n",
            "Epoch 4/80\n",
            "500/500 [==============================] - 4s 8ms/step - loss: 17.6930 - mean_absolute_error: 17.6930 - val_loss: 17.5958 - val_mean_absolute_error: 17.5958\n",
            "Epoch 5/80\n",
            "500/500 [==============================] - 4s 9ms/step - loss: 17.6987 - mean_absolute_error: 17.6987 - val_loss: 17.6384 - val_mean_absolute_error: 17.6384\n",
            "Epoch 6/80\n",
            "500/500 [==============================] - 4s 9ms/step - loss: 17.7113 - mean_absolute_error: 17.7113 - val_loss: 17.7238 - val_mean_absolute_error: 17.7238\n",
            "Epoch 7/80\n",
            "500/500 [==============================] - 4s 8ms/step - loss: 17.7278 - mean_absolute_error: 17.7278 - val_loss: 17.6192 - val_mean_absolute_error: 17.6192\n",
            "Epoch 8/80\n",
            "500/500 [==============================] - 4s 8ms/step - loss: 17.7269 - mean_absolute_error: 17.7269 - val_loss: 17.6177 - val_mean_absolute_error: 17.6177\n",
            "Epoch 9/80\n",
            "500/500 [==============================] - 4s 9ms/step - loss: 17.7305 - mean_absolute_error: 17.7305 - val_loss: 17.6213 - val_mean_absolute_error: 17.6213\n",
            "Epoch 10/80\n",
            "500/500 [==============================] - 4s 8ms/step - loss: 17.7331 - mean_absolute_error: 17.7331 - val_loss: 17.6269 - val_mean_absolute_error: 17.6269\n",
            "Epoch 11/80\n",
            "500/500 [==============================] - 4s 9ms/step - loss: 17.7536 - mean_absolute_error: 17.7536 - val_loss: 17.7161 - val_mean_absolute_error: 17.7161\n",
            "Epoch 12/80\n",
            "500/500 [==============================] - 4s 9ms/step - loss: 17.7400 - mean_absolute_error: 17.7400 - val_loss: 17.6608 - val_mean_absolute_error: 17.6608\n",
            "Epoch 13/80\n",
            "500/500 [==============================] - 4s 9ms/step - loss: 17.7494 - mean_absolute_error: 17.7494 - val_loss: 17.6208 - val_mean_absolute_error: 17.6208\n",
            "Epoch 14/80\n",
            "500/500 [==============================] - 4s 9ms/step - loss: 17.7393 - mean_absolute_error: 17.7393 - val_loss: 17.6357 - val_mean_absolute_error: 17.6357\n",
            "Epoch 15/80\n",
            "500/500 [==============================] - 4s 9ms/step - loss: 17.7911 - mean_absolute_error: 17.7911 - val_loss: 17.7366 - val_mean_absolute_error: 17.7366\n",
            "Epoch 16/80\n",
            "500/500 [==============================] - 4s 9ms/step - loss: 17.7589 - mean_absolute_error: 17.7589 - val_loss: 17.6963 - val_mean_absolute_error: 17.6963\n",
            "Epoch 17/80\n",
            "500/500 [==============================] - 4s 9ms/step - loss: 17.7409 - mean_absolute_error: 17.7409 - val_loss: 17.7132 - val_mean_absolute_error: 17.7132\n",
            "Epoch 18/80\n",
            "500/500 [==============================] - 4s 9ms/step - loss: 17.7528 - mean_absolute_error: 17.7528 - val_loss: 17.6227 - val_mean_absolute_error: 17.6227\n",
            "Epoch 19/80\n",
            "500/500 [==============================] - 4s 9ms/step - loss: 17.7548 - mean_absolute_error: 17.7548 - val_loss: 17.6922 - val_mean_absolute_error: 17.6922\n",
            "Epoch 20/80\n",
            "500/500 [==============================] - 4s 9ms/step - loss: 17.7688 - mean_absolute_error: 17.7688 - val_loss: 17.6390 - val_mean_absolute_error: 17.6390\n",
            "Epoch 21/80\n",
            "500/500 [==============================] - 4s 9ms/step - loss: 17.7538 - mean_absolute_error: 17.7538 - val_loss: 17.6187 - val_mean_absolute_error: 17.6187\n",
            "Epoch 22/80\n",
            "500/500 [==============================] - 4s 8ms/step - loss: 17.7499 - mean_absolute_error: 17.7499 - val_loss: 17.6161 - val_mean_absolute_error: 17.6161\n",
            "Epoch 23/80\n",
            "500/500 [==============================] - 4s 9ms/step - loss: 17.7719 - mean_absolute_error: 17.7719 - val_loss: 17.6508 - val_mean_absolute_error: 17.6508\n",
            "Epoch 24/80\n",
            "500/500 [==============================] - 4s 9ms/step - loss: 17.7391 - mean_absolute_error: 17.7391 - val_loss: 17.6339 - val_mean_absolute_error: 17.6339\n",
            "Epoch 25/80\n",
            "500/500 [==============================] - 4s 8ms/step - loss: 17.7729 - mean_absolute_error: 17.7729 - val_loss: 17.6702 - val_mean_absolute_error: 17.6702\n",
            "Epoch 26/80\n",
            "500/500 [==============================] - 4s 9ms/step - loss: 17.7797 - mean_absolute_error: 17.7797 - val_loss: 17.6604 - val_mean_absolute_error: 17.6604\n",
            "Epoch 27/80\n",
            "500/500 [==============================] - 4s 9ms/step - loss: 17.7516 - mean_absolute_error: 17.7516 - val_loss: 17.6307 - val_mean_absolute_error: 17.6307\n",
            "Epoch 28/80\n",
            "500/500 [==============================] - 4s 9ms/step - loss: 17.7594 - mean_absolute_error: 17.7594 - val_loss: 17.6440 - val_mean_absolute_error: 17.6440\n",
            "Epoch 29/80\n",
            "500/500 [==============================] - 4s 9ms/step - loss: 17.7656 - mean_absolute_error: 17.7656 - val_loss: 17.6642 - val_mean_absolute_error: 17.6642\n",
            "Epoch 30/80\n",
            "500/500 [==============================] - 4s 9ms/step - loss: 17.7405 - mean_absolute_error: 17.7405 - val_loss: 17.6232 - val_mean_absolute_error: 17.6232\n",
            "Epoch 31/80\n",
            "500/500 [==============================] - 4s 8ms/step - loss: 17.7408 - mean_absolute_error: 17.7408 - val_loss: 17.6528 - val_mean_absolute_error: 17.6528\n",
            "Epoch 32/80\n",
            "500/500 [==============================] - 4s 9ms/step - loss: 17.7391 - mean_absolute_error: 17.7391 - val_loss: 17.6318 - val_mean_absolute_error: 17.6318\n",
            "Epoch 33/80\n",
            "500/500 [==============================] - 4s 9ms/step - loss: 17.7400 - mean_absolute_error: 17.7400 - val_loss: 17.6864 - val_mean_absolute_error: 17.6864\n",
            "Epoch 34/80\n",
            "500/500 [==============================] - 4s 9ms/step - loss: 17.7210 - mean_absolute_error: 17.7210 - val_loss: 17.6256 - val_mean_absolute_error: 17.6256\n",
            "Epoch 35/80\n",
            "500/500 [==============================] - 4s 9ms/step - loss: 17.7233 - mean_absolute_error: 17.7233 - val_loss: 17.6416 - val_mean_absolute_error: 17.6416\n",
            "Epoch 36/80\n",
            "500/500 [==============================] - 4s 9ms/step - loss: 17.7323 - mean_absolute_error: 17.7323 - val_loss: 17.6317 - val_mean_absolute_error: 17.6317\n",
            "Epoch 37/80\n",
            "500/500 [==============================] - 4s 9ms/step - loss: 17.7450 - mean_absolute_error: 17.7450 - val_loss: 17.6930 - val_mean_absolute_error: 17.6930\n",
            "Epoch 38/80\n",
            "500/500 [==============================] - 4s 9ms/step - loss: 17.7355 - mean_absolute_error: 17.7355 - val_loss: 17.6331 - val_mean_absolute_error: 17.6331\n",
            "Epoch 39/80\n",
            "500/500 [==============================] - 4s 9ms/step - loss: 17.7345 - mean_absolute_error: 17.7345 - val_loss: 17.6268 - val_mean_absolute_error: 17.6268\n",
            "Epoch 40/80\n",
            "500/500 [==============================] - 4s 9ms/step - loss: 17.7418 - mean_absolute_error: 17.7418 - val_loss: 17.7347 - val_mean_absolute_error: 17.7347\n",
            "Epoch 41/80\n",
            "500/500 [==============================] - 4s 9ms/step - loss: 17.7276 - mean_absolute_error: 17.7276 - val_loss: 17.6348 - val_mean_absolute_error: 17.6348\n",
            "Epoch 42/80\n",
            "500/500 [==============================] - 4s 9ms/step - loss: 17.7194 - mean_absolute_error: 17.7194 - val_loss: 17.6270 - val_mean_absolute_error: 17.6270\n",
            "Epoch 43/80\n",
            "500/500 [==============================] - 4s 9ms/step - loss: 17.7129 - mean_absolute_error: 17.7129 - val_loss: 17.6135 - val_mean_absolute_error: 17.6135\n",
            "Epoch 44/80\n",
            "500/500 [==============================] - 5s 9ms/step - loss: 17.7268 - mean_absolute_error: 17.7268 - val_loss: 17.6573 - val_mean_absolute_error: 17.6573\n",
            "Epoch 45/80\n",
            "500/500 [==============================] - 4s 9ms/step - loss: 17.7226 - mean_absolute_error: 17.7226 - val_loss: 17.6215 - val_mean_absolute_error: 17.6215\n",
            "Epoch 46/80\n",
            "500/500 [==============================] - 4s 9ms/step - loss: 17.7301 - mean_absolute_error: 17.7301 - val_loss: 17.6238 - val_mean_absolute_error: 17.6238\n",
            "Epoch 47/80\n",
            "500/500 [==============================] - 4s 9ms/step - loss: 17.6973 - mean_absolute_error: 17.6973 - val_loss: 17.6245 - val_mean_absolute_error: 17.6245\n",
            "Epoch 48/80\n",
            "500/500 [==============================] - 4s 9ms/step - loss: 17.7340 - mean_absolute_error: 17.7340 - val_loss: 17.6411 - val_mean_absolute_error: 17.6411\n",
            "Epoch 49/80\n",
            "500/500 [==============================] - 4s 9ms/step - loss: 17.7237 - mean_absolute_error: 17.7237 - val_loss: 17.6366 - val_mean_absolute_error: 17.6366\n",
            "Epoch 50/80\n",
            "500/500 [==============================] - 4s 9ms/step - loss: 17.7378 - mean_absolute_error: 17.7378 - val_loss: 17.8306 - val_mean_absolute_error: 17.8306\n",
            "Epoch 51/80\n",
            "500/500 [==============================] - 4s 9ms/step - loss: 17.7160 - mean_absolute_error: 17.7160 - val_loss: 17.6241 - val_mean_absolute_error: 17.6241\n",
            "Epoch 52/80\n",
            "500/500 [==============================] - 4s 9ms/step - loss: 17.7131 - mean_absolute_error: 17.7131 - val_loss: 17.6358 - val_mean_absolute_error: 17.6358\n",
            "Epoch 53/80\n",
            "500/500 [==============================] - 4s 9ms/step - loss: 17.7205 - mean_absolute_error: 17.7205 - val_loss: 17.7405 - val_mean_absolute_error: 17.7405\n",
            "Epoch 54/80\n",
            "500/500 [==============================] - 4s 9ms/step - loss: 17.7428 - mean_absolute_error: 17.7428 - val_loss: 17.6150 - val_mean_absolute_error: 17.6150\n",
            "Epoch 55/80\n",
            "500/500 [==============================] - 4s 9ms/step - loss: 17.7115 - mean_absolute_error: 17.7115 - val_loss: 17.6206 - val_mean_absolute_error: 17.6206\n",
            "Epoch 56/80\n",
            "500/500 [==============================] - 4s 9ms/step - loss: 17.7005 - mean_absolute_error: 17.7005 - val_loss: 17.6360 - val_mean_absolute_error: 17.6360\n",
            "Epoch 57/80\n",
            "500/500 [==============================] - 4s 9ms/step - loss: 17.7022 - mean_absolute_error: 17.7022 - val_loss: 17.6719 - val_mean_absolute_error: 17.6719\n",
            "Epoch 58/80\n",
            "500/500 [==============================] - 4s 9ms/step - loss: 17.7221 - mean_absolute_error: 17.7221 - val_loss: 17.6401 - val_mean_absolute_error: 17.6401\n",
            "Epoch 59/80\n",
            "500/500 [==============================] - 4s 9ms/step - loss: 17.6991 - mean_absolute_error: 17.6991 - val_loss: 17.7153 - val_mean_absolute_error: 17.7153\n",
            "Epoch 60/80\n",
            "500/500 [==============================] - 4s 9ms/step - loss: 17.7074 - mean_absolute_error: 17.7074 - val_loss: 17.6715 - val_mean_absolute_error: 17.6715\n",
            "Epoch 61/80\n",
            "500/500 [==============================] - 4s 9ms/step - loss: 17.7107 - mean_absolute_error: 17.7107 - val_loss: 17.6201 - val_mean_absolute_error: 17.6201\n",
            "Epoch 62/80\n",
            "500/500 [==============================] - 4s 9ms/step - loss: 17.7167 - mean_absolute_error: 17.7167 - val_loss: 17.6236 - val_mean_absolute_error: 17.6236\n",
            "Epoch 63/80\n",
            "500/500 [==============================] - 4s 9ms/step - loss: 17.6956 - mean_absolute_error: 17.6956 - val_loss: 17.6244 - val_mean_absolute_error: 17.6244\n",
            "Epoch 64/80\n",
            "500/500 [==============================] - 4s 9ms/step - loss: 17.7320 - mean_absolute_error: 17.7320 - val_loss: 17.6861 - val_mean_absolute_error: 17.6861\n",
            "Epoch 65/80\n",
            "500/500 [==============================] - 4s 9ms/step - loss: 17.7118 - mean_absolute_error: 17.7118 - val_loss: 17.6448 - val_mean_absolute_error: 17.6448\n",
            "Epoch 66/80\n",
            "500/500 [==============================] - 4s 9ms/step - loss: 17.7210 - mean_absolute_error: 17.7210 - val_loss: 17.6340 - val_mean_absolute_error: 17.6340\n",
            "Epoch 67/80\n",
            "500/500 [==============================] - 4s 9ms/step - loss: 17.7040 - mean_absolute_error: 17.7040 - val_loss: 17.6293 - val_mean_absolute_error: 17.6293\n",
            "Epoch 68/80\n",
            "500/500 [==============================] - 4s 9ms/step - loss: 17.6988 - mean_absolute_error: 17.6988 - val_loss: 17.6408 - val_mean_absolute_error: 17.6408\n",
            "Epoch 69/80\n",
            "500/500 [==============================] - 4s 9ms/step - loss: 17.7040 - mean_absolute_error: 17.7040 - val_loss: 17.6276 - val_mean_absolute_error: 17.6276\n",
            "Epoch 70/80\n",
            "500/500 [==============================] - 4s 9ms/step - loss: 17.7024 - mean_absolute_error: 17.7024 - val_loss: 17.6434 - val_mean_absolute_error: 17.6434\n",
            "Epoch 71/80\n",
            "500/500 [==============================] - 4s 9ms/step - loss: 17.7040 - mean_absolute_error: 17.7040 - val_loss: 17.6245 - val_mean_absolute_error: 17.6245\n",
            "Epoch 72/80\n",
            "500/500 [==============================] - 4s 9ms/step - loss: 17.6981 - mean_absolute_error: 17.6981 - val_loss: 17.6382 - val_mean_absolute_error: 17.6382\n",
            "Epoch 73/80\n",
            "500/500 [==============================] - 4s 9ms/step - loss: 17.6983 - mean_absolute_error: 17.6983 - val_loss: 17.6452 - val_mean_absolute_error: 17.6452\n",
            "Epoch 74/80\n",
            "500/500 [==============================] - 4s 9ms/step - loss: 17.7029 - mean_absolute_error: 17.7029 - val_loss: 17.6311 - val_mean_absolute_error: 17.6311\n",
            "Epoch 75/80\n",
            "500/500 [==============================] - 4s 9ms/step - loss: 17.7071 - mean_absolute_error: 17.7071 - val_loss: 17.6320 - val_mean_absolute_error: 17.6320\n",
            "Epoch 76/80\n",
            "500/500 [==============================] - 4s 9ms/step - loss: 17.7015 - mean_absolute_error: 17.7015 - val_loss: 17.6291 - val_mean_absolute_error: 17.6291\n",
            "Epoch 77/80\n",
            "500/500 [==============================] - 4s 9ms/step - loss: 17.6964 - mean_absolute_error: 17.6964 - val_loss: 17.6239 - val_mean_absolute_error: 17.6239\n",
            "Epoch 78/80\n",
            "500/500 [==============================] - 4s 9ms/step - loss: 17.6992 - mean_absolute_error: 17.6992 - val_loss: 17.6576 - val_mean_absolute_error: 17.6576\n",
            "Epoch 79/80\n",
            "500/500 [==============================] - 4s 9ms/step - loss: 17.7009 - mean_absolute_error: 17.7009 - val_loss: 17.6361 - val_mean_absolute_error: 17.6361\n",
            "Epoch 80/80\n",
            "500/500 [==============================] - 4s 9ms/step - loss: 17.7085 - mean_absolute_error: 17.7085 - val_loss: 17.6252 - val_mean_absolute_error: 17.6252\n"
          ]
        },
        {
          "output_type": "error",
          "ename": "InvalidArgumentError",
          "evalue": "ignored",
          "traceback": [
            "\u001b[0;31m---------------------------------------------------------------------------\u001b[0m",
            "\u001b[0;31mInvalidArgumentError\u001b[0m                      Traceback (most recent call last)",
            "\u001b[0;32m<ipython-input-13-141eaa85ee1c>\u001b[0m in \u001b[0;36m<cell line: 5>\u001b[0;34m()\u001b[0m\n\u001b[1;32m      3\u001b[0m \u001b[0;34m\u001b[0m\u001b[0m\n\u001b[1;32m      4\u001b[0m \u001b[0;31m# Evaluate the model again after the additional 80 epochs\u001b[0m\u001b[0;34m\u001b[0m\u001b[0;34m\u001b[0m\u001b[0m\n\u001b[0;32m----> 5\u001b[0;31m \u001b[0mloss\u001b[0m\u001b[0;34m,\u001b[0m \u001b[0mmae\u001b[0m \u001b[0;34m=\u001b[0m \u001b[0mmodel\u001b[0m\u001b[0;34m.\u001b[0m\u001b[0mevaluate\u001b[0m\u001b[0;34m(\u001b[0m\u001b[0mX_test\u001b[0m\u001b[0;34m,\u001b[0m \u001b[0my_test\u001b[0m\u001b[0;34m,\u001b[0m \u001b[0mbatch_size\u001b[0m\u001b[0;34m=\u001b[0m\u001b[0;36m32\u001b[0m\u001b[0;34m)\u001b[0m\u001b[0;34m\u001b[0m\u001b[0;34m\u001b[0m\u001b[0m\n\u001b[0m\u001b[1;32m      6\u001b[0m \u001b[0mprint\u001b[0m\u001b[0;34m(\u001b[0m\u001b[0;34mf'Test Loss After 150 Epochs: {loss}, Test MAE After 150 Epochs: {mae}'\u001b[0m\u001b[0;34m)\u001b[0m\u001b[0;34m\u001b[0m\u001b[0;34m\u001b[0m\u001b[0m\n\u001b[1;32m      7\u001b[0m \u001b[0;34m\u001b[0m\u001b[0m\n",
            "\u001b[0;32m/usr/local/lib/python3.10/dist-packages/keras/utils/traceback_utils.py\u001b[0m in \u001b[0;36merror_handler\u001b[0;34m(*args, **kwargs)\u001b[0m\n\u001b[1;32m     68\u001b[0m             \u001b[0;31m# To get the full stack trace, call:\u001b[0m\u001b[0;34m\u001b[0m\u001b[0;34m\u001b[0m\u001b[0m\n\u001b[1;32m     69\u001b[0m             \u001b[0;31m# `tf.debugging.disable_traceback_filtering()`\u001b[0m\u001b[0;34m\u001b[0m\u001b[0;34m\u001b[0m\u001b[0m\n\u001b[0;32m---> 70\u001b[0;31m             \u001b[0;32mraise\u001b[0m \u001b[0me\u001b[0m\u001b[0;34m.\u001b[0m\u001b[0mwith_traceback\u001b[0m\u001b[0;34m(\u001b[0m\u001b[0mfiltered_tb\u001b[0m\u001b[0;34m)\u001b[0m \u001b[0;32mfrom\u001b[0m \u001b[0;32mNone\u001b[0m\u001b[0;34m\u001b[0m\u001b[0;34m\u001b[0m\u001b[0m\n\u001b[0m\u001b[1;32m     71\u001b[0m         \u001b[0;32mfinally\u001b[0m\u001b[0;34m:\u001b[0m\u001b[0;34m\u001b[0m\u001b[0;34m\u001b[0m\u001b[0m\n\u001b[1;32m     72\u001b[0m             \u001b[0;32mdel\u001b[0m \u001b[0mfiltered_tb\u001b[0m\u001b[0;34m\u001b[0m\u001b[0;34m\u001b[0m\u001b[0m\n",
            "\u001b[0;32m/usr/local/lib/python3.10/dist-packages/tensorflow/python/eager/execute.py\u001b[0m in \u001b[0;36mquick_execute\u001b[0;34m(op_name, num_outputs, inputs, attrs, ctx, name)\u001b[0m\n\u001b[1;32m     50\u001b[0m   \u001b[0;32mtry\u001b[0m\u001b[0;34m:\u001b[0m\u001b[0;34m\u001b[0m\u001b[0;34m\u001b[0m\u001b[0m\n\u001b[1;32m     51\u001b[0m     \u001b[0mctx\u001b[0m\u001b[0;34m.\u001b[0m\u001b[0mensure_initialized\u001b[0m\u001b[0;34m(\u001b[0m\u001b[0;34m)\u001b[0m\u001b[0;34m\u001b[0m\u001b[0;34m\u001b[0m\u001b[0m\n\u001b[0;32m---> 52\u001b[0;31m     tensors = pywrap_tfe.TFE_Py_Execute(ctx._handle, device_name, op_name,\n\u001b[0m\u001b[1;32m     53\u001b[0m                                         inputs, attrs, num_outputs)\n\u001b[1;32m     54\u001b[0m   \u001b[0;32mexcept\u001b[0m \u001b[0mcore\u001b[0m\u001b[0;34m.\u001b[0m\u001b[0m_NotOkStatusException\u001b[0m \u001b[0;32mas\u001b[0m \u001b[0me\u001b[0m\u001b[0;34m:\u001b[0m\u001b[0;34m\u001b[0m\u001b[0;34m\u001b[0m\u001b[0m\n",
            "\u001b[0;31mInvalidArgumentError\u001b[0m: Graph execution error:\n\nDetected at node 'model_1/tcn_1/residual_block_0/conv1D_0/Pad' defined at (most recent call last):\n    File \"/usr/lib/python3.10/runpy.py\", line 196, in _run_module_as_main\n      return _run_code(code, main_globals, None,\n    File \"/usr/lib/python3.10/runpy.py\", line 86, in _run_code\n      exec(code, run_globals)\n    File \"/usr/local/lib/python3.10/dist-packages/ipykernel_launcher.py\", line 16, in <module>\n      app.launch_new_instance()\n    File \"/usr/local/lib/python3.10/dist-packages/traitlets/config/application.py\", line 992, in launch_instance\n      app.start()\n    File \"/usr/local/lib/python3.10/dist-packages/ipykernel/kernelapp.py\", line 619, in start\n      self.io_loop.start()\n    File \"/usr/local/lib/python3.10/dist-packages/tornado/platform/asyncio.py\", line 195, in start\n      self.asyncio_loop.run_forever()\n    File \"/usr/lib/python3.10/asyncio/base_events.py\", line 603, in run_forever\n      self._run_once()\n    File \"/usr/lib/python3.10/asyncio/base_events.py\", line 1909, in _run_once\n      handle._run()\n    File \"/usr/lib/python3.10/asyncio/events.py\", line 80, in _run\n      self._context.run(self._callback, *self._args)\n    File \"/usr/local/lib/python3.10/dist-packages/tornado/ioloop.py\", line 685, in <lambda>\n      lambda f: self._run_callback(functools.partial(callback, future))\n    File \"/usr/local/lib/python3.10/dist-packages/tornado/ioloop.py\", line 738, in _run_callback\n      ret = callback()\n    File \"/usr/local/lib/python3.10/dist-packages/tornado/gen.py\", line 825, in inner\n      self.ctx_run(self.run)\n    File \"/usr/local/lib/python3.10/dist-packages/tornado/gen.py\", line 786, in run\n      yielded = self.gen.send(value)\n    File \"/usr/local/lib/python3.10/dist-packages/ipykernel/kernelbase.py\", line 361, in process_one\n      yield gen.maybe_future(dispatch(*args))\n    File \"/usr/local/lib/python3.10/dist-packages/tornado/gen.py\", line 234, in wrapper\n      yielded = ctx_run(next, result)\n    File \"/usr/local/lib/python3.10/dist-packages/ipykernel/kernelbase.py\", line 261, in dispatch_shell\n      yield gen.maybe_future(handler(stream, idents, msg))\n    File \"/usr/local/lib/python3.10/dist-packages/tornado/gen.py\", line 234, in wrapper\n      yielded = ctx_run(next, result)\n    File \"/usr/local/lib/python3.10/dist-packages/ipykernel/kernelbase.py\", line 539, in execute_request\n      self.do_execute(\n    File \"/usr/local/lib/python3.10/dist-packages/tornado/gen.py\", line 234, in wrapper\n      yielded = ctx_run(next, result)\n    File \"/usr/local/lib/python3.10/dist-packages/ipykernel/ipkernel.py\", line 302, in do_execute\n      res = shell.run_cell(code, store_history=store_history, silent=silent)\n    File \"/usr/local/lib/python3.10/dist-packages/ipykernel/zmqshell.py\", line 539, in run_cell\n      return super(ZMQInteractiveShell, self).run_cell(*args, **kwargs)\n    File \"/usr/local/lib/python3.10/dist-packages/IPython/core/interactiveshell.py\", line 2975, in run_cell\n      result = self._run_cell(\n    File \"/usr/local/lib/python3.10/dist-packages/IPython/core/interactiveshell.py\", line 3030, in _run_cell\n      return runner(coro)\n    File \"/usr/local/lib/python3.10/dist-packages/IPython/core/async_helpers.py\", line 78, in _pseudo_sync_runner\n      coro.send(None)\n    File \"/usr/local/lib/python3.10/dist-packages/IPython/core/interactiveshell.py\", line 3257, in run_cell_async\n      has_raised = await self.run_ast_nodes(code_ast.body, cell_name,\n    File \"/usr/local/lib/python3.10/dist-packages/IPython/core/interactiveshell.py\", line 3473, in run_ast_nodes\n      if (await self.run_code(code, result,  async_=asy)):\n    File \"/usr/local/lib/python3.10/dist-packages/IPython/core/interactiveshell.py\", line 3553, in run_code\n      exec(code_obj, self.user_global_ns, self.user_ns)\n    File \"<ipython-input-13-141eaa85ee1c>\", line 5, in <cell line: 5>\n      loss, mae = model.evaluate(X_test, y_test, batch_size=32)\n    File \"/usr/local/lib/python3.10/dist-packages/keras/utils/traceback_utils.py\", line 65, in error_handler\n      return fn(*args, **kwargs)\n    File \"/usr/local/lib/python3.10/dist-packages/keras/engine/training.py\", line 2072, in evaluate\n      tmp_logs = self.test_function(iterator)\n    File \"/usr/local/lib/python3.10/dist-packages/keras/engine/training.py\", line 1852, in test_function\n      return step_function(self, iterator)\n    File \"/usr/local/lib/python3.10/dist-packages/keras/engine/training.py\", line 1836, in step_function\n      outputs = model.distribute_strategy.run(run_step, args=(data,))\n    File \"/usr/local/lib/python3.10/dist-packages/keras/engine/training.py\", line 1824, in run_step\n      outputs = model.test_step(data)\n    File \"/usr/local/lib/python3.10/dist-packages/keras/engine/training.py\", line 1788, in test_step\n      y_pred = self(x, training=False)\n    File \"/usr/local/lib/python3.10/dist-packages/keras/utils/traceback_utils.py\", line 65, in error_handler\n      return fn(*args, **kwargs)\n    File \"/usr/local/lib/python3.10/dist-packages/keras/engine/training.py\", line 558, in __call__\n      return super().__call__(*args, **kwargs)\n    File \"/usr/local/lib/python3.10/dist-packages/keras/utils/traceback_utils.py\", line 65, in error_handler\n      return fn(*args, **kwargs)\n    File \"/usr/local/lib/python3.10/dist-packages/keras/engine/base_layer.py\", line 1145, in __call__\n      outputs = call_fn(inputs, *args, **kwargs)\n    File \"/usr/local/lib/python3.10/dist-packages/keras/utils/traceback_utils.py\", line 96, in error_handler\n      return fn(*args, **kwargs)\n    File \"/usr/local/lib/python3.10/dist-packages/keras/engine/functional.py\", line 512, in call\n      return self._run_internal_graph(inputs, training=training, mask=mask)\n    File \"/usr/local/lib/python3.10/dist-packages/keras/engine/functional.py\", line 669, in _run_internal_graph\n      outputs = node.layer(*args, **kwargs)\n    File \"/usr/local/lib/python3.10/dist-packages/keras/utils/traceback_utils.py\", line 65, in error_handler\n      return fn(*args, **kwargs)\n    File \"/usr/local/lib/python3.10/dist-packages/keras/engine/base_layer.py\", line 1145, in __call__\n      outputs = call_fn(inputs, *args, **kwargs)\n    File \"/usr/local/lib/python3.10/dist-packages/keras/utils/traceback_utils.py\", line 96, in error_handler\n      return fn(*args, **kwargs)\n    File \"/usr/local/lib/python3.10/dist-packages/tcn/tcn.py\", line 342, in call\n      for res_block in self.residual_blocks:\n    File \"/usr/local/lib/python3.10/dist-packages/tcn/tcn.py\", line 344, in call\n      x, skip_out = res_block(x, training=training)\n    File \"/usr/local/lib/python3.10/dist-packages/keras/utils/traceback_utils.py\", line 65, in error_handler\n      return fn(*args, **kwargs)\n    File \"/usr/local/lib/python3.10/dist-packages/keras/engine/base_layer.py\", line 1145, in __call__\n      outputs = call_fn(inputs, *args, **kwargs)\n    File \"/usr/local/lib/python3.10/dist-packages/keras/utils/traceback_utils.py\", line 96, in error_handler\n      return fn(*args, **kwargs)\n    File \"/usr/local/lib/python3.10/dist-packages/tcn/tcn.py\", line 173, in call\n      for layer in self.layers:\n    File \"/usr/local/lib/python3.10/dist-packages/tcn/tcn.py\", line 175, in call\n      x1 = layer(x1, training=training) if training_flag else layer(x1)\n    File \"/usr/local/lib/python3.10/dist-packages/tcn/tcn.py\", line 175, in call\n      x1 = layer(x1, training=training) if training_flag else layer(x1)\n    File \"/usr/local/lib/python3.10/dist-packages/keras/utils/traceback_utils.py\", line 65, in error_handler\n      return fn(*args, **kwargs)\n    File \"/usr/local/lib/python3.10/dist-packages/keras/engine/base_layer.py\", line 1145, in __call__\n      outputs = call_fn(inputs, *args, **kwargs)\n    File \"/usr/local/lib/python3.10/dist-packages/keras/utils/traceback_utils.py\", line 96, in error_handler\n      return fn(*args, **kwargs)\n    File \"/usr/local/lib/python3.10/dist-packages/keras/layers/convolutional/base_conv.py\", line 283, in call\n      inputs = tf.pad(inputs, self._compute_causal_padding(inputs))\nNode: 'model_1/tcn_1/residual_block_0/conv1D_0/Pad'\nDetected at node 'model_1/tcn_1/residual_block_0/conv1D_0/Pad' defined at (most recent call last):\n    File \"/usr/lib/python3.10/runpy.py\", line 196, in _run_module_as_main\n      return _run_code(code, main_globals, None,\n    File \"/usr/lib/python3.10/runpy.py\", line 86, in _run_code\n      exec(code, run_globals)\n    File \"/usr/local/lib/python3.10/dist-packages/ipykernel_launcher.py\", line 16, in <module>\n      app.launch_new_instance()\n    File \"/usr/local/lib/python3.10/dist-packages/traitlets/config/application.py\", line 992, in launch_instance\n      app.start()\n    File \"/usr/local/lib/python3.10/dist-packages/ipykernel/kernelapp.py\", line 619, in start\n      self.io_loop.start()\n    File \"/usr/local/lib/python3.10/dist-packages/tornado/platform/asyncio.py\", line 195, in start\n      self.asyncio_loop.run_forever()\n    File \"/usr/lib/python3.10/asyncio/base_events.py\", line 603, in run_forever\n      self._run_once()\n    File \"/usr/lib/python3.10/asyncio/base_events.py\", line 1909, in _run_once\n      handle._run()\n    File \"/usr/lib/python3.10/asyncio/events.py\", line 80, in _run\n      self._context.run(self._callback, *self._args)\n    File \"/usr/local/lib/python3.10/dist-packages/tornado/ioloop.py\", line 685, in <lambda>\n      lambda f: self._run_callback(functools.partial(callback, future))\n    File \"/usr/local/lib/python3.10/dist-packages/tornado/ioloop.py\", line 738, in _run_callback\n      ret = callback()\n    File \"/usr/local/lib/python3.10/dist-packages/tornado/gen.py\", line 825, in inner\n      self.ctx_run(self.run)\n    File \"/usr/local/lib/python3.10/dist-packages/tornado/gen.py\", line 786, in run\n      yielded = self.gen.send(value)\n    File \"/usr/local/lib/python3.10/dist-packages/ipykernel/kernelbase.py\", line 361, in process_one\n      yield gen.maybe_future(dispatch(*args))\n    File \"/usr/local/lib/python3.10/dist-packages/tornado/gen.py\", line 234, in wrapper\n      yielded = ctx_run(next, result)\n    File \"/usr/local/lib/python3.10/dist-packages/ipykernel/kernelbase.py\", line 261, in dispatch_shell\n      yield gen.maybe_future(handler(stream, idents, msg))\n    File \"/usr/local/lib/python3.10/dist-packages/tornado/gen.py\", line 234, in wrapper\n      yielded = ctx_run(next, result)\n    File \"/usr/local/lib/python3.10/dist-packages/ipykernel/kernelbase.py\", line 539, in execute_request\n      self.do_execute(\n    File \"/usr/local/lib/python3.10/dist-packages/tornado/gen.py\", line 234, in wrapper\n      yielded = ctx_run(next, result)\n    File \"/usr/local/lib/python3.10/dist-packages/ipykernel/ipkernel.py\", line 302, in do_execute\n      res = shell.run_cell(code, store_history=store_history, silent=silent)\n    File \"/usr/local/lib/python3.10/dist-packages/ipykernel/zmqshell.py\", line 539, in run_cell\n      return super(ZMQInteractiveShell, self).run_cell(*args, **kwargs)\n    File \"/usr/local/lib/python3.10/dist-packages/IPython/core/interactiveshell.py\", line 2975, in run_cell\n      result = self._run_cell(\n    File \"/usr/local/lib/python3.10/dist-packages/IPython/core/interactiveshell.py\", line 3030, in _run_cell\n      return runner(coro)\n    File \"/usr/local/lib/python3.10/dist-packages/IPython/core/async_helpers.py\", line 78, in _pseudo_sync_runner\n      coro.send(None)\n    File \"/usr/local/lib/python3.10/dist-packages/IPython/core/interactiveshell.py\", line 3257, in run_cell_async\n      has_raised = await self.run_ast_nodes(code_ast.body, cell_name,\n    File \"/usr/local/lib/python3.10/dist-packages/IPython/core/interactiveshell.py\", line 3473, in run_ast_nodes\n      if (await self.run_code(code, result,  async_=asy)):\n    File \"/usr/local/lib/python3.10/dist-packages/IPython/core/interactiveshell.py\", line 3553, in run_code\n      exec(code_obj, self.user_global_ns, self.user_ns)\n    File \"<ipython-input-13-141eaa85ee1c>\", line 5, in <cell line: 5>\n      loss, mae = model.evaluate(X_test, y_test, batch_size=32)\n    File \"/usr/local/lib/python3.10/dist-packages/keras/utils/traceback_utils.py\", line 65, in error_handler\n      return fn(*args, **kwargs)\n    File \"/usr/local/lib/python3.10/dist-packages/keras/engine/training.py\", line 2072, in evaluate\n      tmp_logs = self.test_function(iterator)\n    File \"/usr/local/lib/python3.10/dist-packages/keras/engine/training.py\", line 1852, in test_function\n      return step_function(self, iterator)\n    File \"/usr/local/lib/python3.10/dist-packages/keras/engine/training.py\", line 1836, in step_function\n      outputs = model.distribute_strategy.run(run_step, args=(data,))\n    File \"/usr/local/lib/python3.10/dist-packages/keras/engine/training.py\", line 1824, in run_step\n      outputs = model.test_step(data)\n    File \"/usr/local/lib/python3.10/dist-packages/keras/engine/training.py\", line 1788, in test_step\n      y_pred = self(x, training=False)\n    File \"/usr/local/lib/python3.10/dist-packages/keras/utils/traceback_utils.py\", line 65, in error_handler\n      return fn(*args, **kwargs)\n    File \"/usr/local/lib/python3.10/dist-packages/keras/engine/training.py\", line 558, in __call__\n      return super().__call__(*args, **kwargs)\n    File \"/usr/local/lib/python3.10/dist-packages/keras/utils/traceback_utils.py\", line 65, in error_handler\n      return fn(*args, **kwargs)\n    File \"/usr/local/lib/python3.10/dist-packages/keras/engine/base_layer.py\", line 1145, in __call__\n      outputs = call_fn(inputs, *args, **kwargs)\n    File \"/usr/local/lib/python3.10/dist-packages/keras/utils/traceback_utils.py\", line 96, in error_handler\n      return fn(*args, **kwargs)\n    File \"/usr/local/lib/python3.10/dist-packages/keras/engine/functional.py\", line 512, in call\n      return self._run_internal_graph(inputs, training=training, mask=mask)\n    File \"/usr/local/lib/python3.10/dist-packages/keras/engine/functional.py\", line 669, in _run_internal_graph\n      outputs = node.layer(*args, **kwargs)\n    File \"/usr/local/lib/python3.10/dist-packages/keras/utils/traceback_utils.py\", line 65, in error_handler\n      return fn(*args, **kwargs)\n    File \"/usr/local/lib/python3.10/dist-packages/keras/engine/base_layer.py\", line 1145, in __call__\n      outputs = call_fn(inputs, *args, **kwargs)\n    File \"/usr/local/lib/python3.10/dist-packages/keras/utils/traceback_utils.py\", line 96, in error_handler\n      return fn(*args, **kwargs)\n    File \"/usr/local/lib/python3.10/dist-packages/tcn/tcn.py\", line 342, in call\n      for res_block in self.residual_blocks:\n    File \"/usr/local/lib/python3.10/dist-packages/tcn/tcn.py\", line 344, in call\n      x, skip_out = res_block(x, training=training)\n    File \"/usr/local/lib/python3.10/dist-packages/keras/utils/traceback_utils.py\", line 65, in error_handler\n      return fn(*args, **kwargs)\n    File \"/usr/local/lib/python3.10/dist-packages/keras/engine/base_layer.py\", line 1145, in __call__\n      outputs = call_fn(inputs, *args, **kwargs)\n    File \"/usr/local/lib/python3.10/dist-packages/keras/utils/traceback_utils.py\", line 96, in error_handler\n      return fn(*args, **kwargs)\n    File \"/usr/local/lib/python3.10/dist-packages/tcn/tcn.py\", line 173, in call\n      for layer in self.layers:\n    File \"/usr/local/lib/python3.10/dist-packages/tcn/tcn.py\", line 175, in call\n      x1 = layer(x1, training=training) if training_flag else layer(x1)\n    File \"/usr/local/lib/python3.10/dist-packages/tcn/tcn.py\", line 175, in call\n      x1 = layer(x1, training=training) if training_flag else layer(x1)\n    File \"/usr/local/lib/python3.10/dist-packages/keras/utils/traceback_utils.py\", line 65, in error_handler\n      return fn(*args, **kwargs)\n    File \"/usr/local/lib/python3.10/dist-packages/keras/engine/base_layer.py\", line 1145, in __call__\n      outputs = call_fn(inputs, *args, **kwargs)\n    File \"/usr/local/lib/python3.10/dist-packages/keras/utils/traceback_utils.py\", line 96, in error_handler\n      return fn(*args, **kwargs)\n    File \"/usr/local/lib/python3.10/dist-packages/keras/layers/convolutional/base_conv.py\", line 283, in call\n      inputs = tf.pad(inputs, self._compute_causal_padding(inputs))\nNode: 'model_1/tcn_1/residual_block_0/conv1D_0/Pad'\n2 root error(s) found.\n  (0) INVALID_ARGUMENT:  The first dimension of paddings must be the rank of inputs[3,2] [32,1000]\n\t [[{{node model_1/tcn_1/residual_block_0/conv1D_0/Pad}}]]\n\t [[mean_absolute_error/cond/then/_0/mean_absolute_error/cond/cond/then/_75/mean_absolute_error/cond/cond/remove_squeezable_dimensions/cond_1/pivot_f/_248/_101]]\n  (1) INVALID_ARGUMENT:  The first dimension of paddings must be the rank of inputs[3,2] [32,1000]\n\t [[{{node model_1/tcn_1/residual_block_0/conv1D_0/Pad}}]]\n0 successful operations.\n0 derived errors ignored. [Op:__inference_test_function_531435]"
          ]
        }
      ]
    },
    {
      "cell_type": "code",
      "source": [
        "y_pred_systolic = model.predict(X_test_sys) #.squeeze()\n",
        "# mae_systolic = MeanAbsoluteError()\n",
        "mae_value = mean_absolute_error(y_test_sys, y_pred_systolic)\n",
        "\n",
        "print(f'MAE between y_pred_systolic and y_test_systolic After 150 Epochs: {mae_value}')"
      ],
      "metadata": {
        "colab": {
          "base_uri": "https://localhost:8080/"
        },
        "id": "1fPh6f15KZHh",
        "outputId": "32f0b137-c6ab-4d44-e560-5fedf0c62b46"
      },
      "execution_count": null,
      "outputs": [
        {
          "output_type": "stream",
          "name": "stdout",
          "text": [
            "313/313 [==============================] - 1s 2ms/step\n",
            "MAE between y_pred_systolic and y_test_systolic After 150 Epochs: 52.40868386917114\n"
          ]
        }
      ]
    },
    {
      "cell_type": "code",
      "source": [
        "loss, mae = model.evaluate(X_test_sys, y_test_sys, batch_size=32)\n",
        "print(f'Test Loss After 150 Epochs: {loss}, Test MAE After 150 Epochs: {mae}')\n",
        "\n"
      ],
      "metadata": {
        "colab": {
          "base_uri": "https://localhost:8080/"
        },
        "id": "2GhMO2thKbN9",
        "outputId": "372782c2-c757-463c-83ea-176bad3148f7"
      },
      "execution_count": null,
      "outputs": [
        {
          "output_type": "stream",
          "name": "stdout",
          "text": [
            "313/313 [==============================] - 1s 3ms/step - loss: 52.4087 - mean_absolute_error: 52.4060\n",
            "Test Loss After 150 Epochs: 52.40868377685547, Test MAE After 150 Epochs: 52.406005859375\n"
          ]
        }
      ]
    }
  ]
}