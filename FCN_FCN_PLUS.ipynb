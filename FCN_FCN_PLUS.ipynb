{
  "nbformat": 4,
  "nbformat_minor": 0,
  "metadata": {
    "colab": {
      "provenance": [],
      "machine_shape": "hm",
      "gpuType": "V100",
      "authorship_tag": "ABX9TyMB8LMCFLPy51M8btxop7v1",
      "include_colab_link": true
    },
    "kernelspec": {
      "name": "python3",
      "display_name": "Python 3"
    },
    "language_info": {
      "name": "python"
    },
    "accelerator": "GPU"
  },
  "cells": [
    {
      "cell_type": "markdown",
      "metadata": {
        "id": "view-in-github",
        "colab_type": "text"
      },
      "source": [
        "<a href=\"https://colab.research.google.com/github/rumman-adnan/Assignment-Sensors-Data/blob/main/FCN_FCN_PLUS.ipynb\" target=\"_parent\"><img src=\"https://colab.research.google.com/assets/colab-badge.svg\" alt=\"Open In Colab\"/></a>"
      ]
    },
    {
      "cell_type": "code",
      "execution_count": 1,
      "metadata": {
        "id": "5OdV29VCCgsa",
        "colab": {
          "base_uri": "https://localhost:8080/"
        },
        "outputId": "5856ba0e-c731-4eac-da52-5b646003f873"
      },
      "outputs": [
        {
          "metadata": {
            "tags": null
          },
          "name": "stdout",
          "output_type": "stream",
          "text": [
            "Mounted at /content/drive\n"
          ]
        }
      ],
      "source": [
        "from google.colab import drive\n",
        "drive.mount('/content/drive')"
      ]
    },
    {
      "cell_type": "code",
      "source": [
        "import numpy as np\n",
        "from sklearn.preprocessing import StandardScaler\n",
        "# Load the training and test data\n",
        "train_path = '/content/drive/MyDrive/Python work/sim_data/simu_20000_0.1_90_140_train.npy'\n",
        "test_path = '/content/drive/MyDrive/Python work/sim_data/simu_10000_0.1_141_178_test.npy'\n",
        "train_data = np.load(train_path)\n",
        "test_data = np.load(test_path)\n",
        "\n",
        "# Extract the sensor data and the target variables (S and D)\n",
        "X_train = train_data[:, :1000]\n",
        "y_train = train_data[:, -2:]\n",
        "X_test = test_data[:, :1000]\n",
        "y_test = test_data[:, -2:]"
      ],
      "metadata": {
        "id": "oJ9e79F7Clxc"
      },
      "execution_count": 2,
      "outputs": []
    },
    {
      "cell_type": "code",
      "source": [
        "X_train_mean = np.mean(X_train, axis = 1)\n",
        "X_train_mean = np.reshape(X_train_mean, (-1,1))\n",
        "X_train_std = np.std(X_train, axis = 1)\n",
        "X_train_std = np.reshape(X_train_std, (-1,1))\n",
        "X_train = (X_train - X_train_mean)/X_train_std\n",
        "\n",
        "\n",
        "X_test_mean = np.mean(X_test, axis = 1)\n",
        "X_test_mean = np.reshape(X_test_mean, (-1,1))\n",
        "X_test_std = np.std(X_test, axis = 1)\n",
        "X_test_std = np.reshape(X_test_std, (-1,1))\n",
        "X_test = (X_test - X_test_mean)/X_test_std\n"
      ],
      "metadata": {
        "id": "HOj6RftgCqi4"
      },
      "execution_count": 3,
      "outputs": []
    },
    {
      "cell_type": "code",
      "source": [
        "import numpy as np\n",
        "import tensorflow as tf\n",
        "from tensorflow.keras import layers, models\n",
        "from tensorflow.keras.metrics import MeanAbsoluteError\n",
        "from sklearn.model_selection import train_test_split\n",
        "\n",
        "# # Load the complete training and testing data\n",
        "# train_data = np.load('simu_20000_0.1_90_140_train.npy')\n",
        "# test_data = np.load('simu_10000_0.1_141_178_test.npy')\n",
        "\n",
        "# Separate features and labels\n",
        "X_train_full = train_data[:, :1000]\n",
        "y_train_full = train_data[:, -2]  # Only Systolic Blood Pressure\n",
        "X_test = test_data[:, :1000]\n",
        "y_test = test_data[:, -2]  # Only Systolic Blood Pressure\n",
        "\n",
        "# Split training data into training and validation sets\n",
        "X_train, X_val, y_train, y_val = train_test_split(X_train_full, y_train_full, test_size=0.3, random_state=42, shuffle=True)\n",
        "\n",
        "# Scale the features\n",
        "X_train_mean = np.mean(X_train, axis=1)\n",
        "X_train_mean = np.reshape(X_train_mean, (-1, 1))\n",
        "X_train_std = np.std(X_train, axis=1)\n",
        "X_train_std = np.reshape(X_train_std, (-1, 1))\n",
        "X_train = (X_train - X_train_mean) / X_train_std\n",
        "\n",
        "X_val_mean = np.mean(X_val, axis=1)\n",
        "X_val_mean = np.reshape(X_val_mean, (-1, 1))\n",
        "X_val_std = np.std(X_val, axis=1)\n",
        "X_val_std = np.reshape(X_val_std, (-1, 1))\n",
        "X_val = (X_val - X_val_mean) / X_val_std\n",
        "\n",
        "X_test_mean = np.mean(X_test, axis=1)\n",
        "X_test_mean = np.reshape(X_test_mean, (-1, 1))\n",
        "X_test_std = np.std(X_test, axis=1)\n",
        "X_test_std = np.reshape(X_test_std, (-1, 1))\n",
        "X_test = (X_test - X_test_mean) / X_test_std\n",
        "\n",
        "# Reshape data for FCN_PLUS\n",
        "X_train = X_train[:, :, np.newaxis]\n",
        "X_val = X_val[:, :, np.newaxis]\n",
        "X_test = X_test[:, :, np.newaxis]\n",
        "\n",
        "# Build the FCN_PLUS model\n",
        "model = models.Sequential([\n",
        "    layers.Input(shape=(X_train.shape[1], 1)),\n",
        "    layers.Conv1D(filters=128, kernel_size=8, padding='same'),\n",
        "    layers.BatchNormalization(),\n",
        "    layers.Activation('relu'),\n",
        "    layers.Conv1D(filters=256, kernel_size=5, padding='same'),\n",
        "    layers.BatchNormalization(),\n",
        "    layers.Activation('relu'),\n",
        "    layers.Conv1D(filters=128, kernel_size=3, padding='same'),\n",
        "    layers.BatchNormalization(),\n",
        "    layers.Activation('relu'),\n",
        "    layers.GlobalAveragePooling1D(),\n",
        "    layers.Dense(1)  # Single output node for Systolic Blood Pressure\n",
        "])\n",
        "\n",
        "# Compile the model\n",
        "model.compile(optimizer='adam', loss='mse', metrics=[MeanAbsoluteError()])\n",
        "\n",
        "# Train the model for 70 epochs and capture loss after each epoch\n",
        "for epoch in range(50):\n",
        "    history = model.fit(X_train, y_train, epochs=1, batch_size=32, validation_data=(X_val, y_val), shuffle=False, verbose=1)\n",
        "\n",
        "    train_loss = history.history['loss'][0]\n",
        "    train_mae = history.history['mean_absolute_error'][0]\n",
        "\n",
        "    val_loss = history.history['val_loss'][0]\n",
        "    val_mae = history.history['val_mean_absolute_error'][0]\n",
        "\n",
        "    # Evaluate the model on the test set\n",
        "    test_loss, test_mae = model.evaluate(X_test, y_test, verbose=0)\n",
        "\n",
        "    print(f\"Epoch {epoch+1}, Train Loss: {train_loss}, Train MAE: {train_mae}, Val Loss: {val_loss}, Val MAE: {val_mae}, Test Loss: {test_loss}, Test MAE: {test_mae}\")\n",
        "    prediction = model.predict(X_test)\n",
        "    mae_systolic = MeanAbsoluteError()\n",
        "    mae_systolic.update_state(y_test, prediction)\n",
        "    print(\"Mean absolute error for systolic is: \",mae_systolic.result().numpy())\n"
      ],
      "metadata": {
        "id": "yJrPxfDRDhfG",
        "colab": {
          "base_uri": "https://localhost:8080/",
          "height": 1000
        },
        "outputId": "4cc58984-c170-47b0-d61a-ea48da6c605f"
      },
      "execution_count": 4,
      "outputs": [
        {
          "output_type": "stream",
          "name": "stdout",
          "text": [
            "438/438 [==============================] - 20s 14ms/step - loss: 8768.6826 - mean_absolute_error: 91.0489 - val_loss: 3204.9282 - val_mean_absolute_error: 54.8738\n",
            "Epoch 1, Train Loss: 8768.6826171875, Train MAE: 91.04888916015625, Val Loss: 3204.92822265625, Val MAE: 54.873802185058594, Test Loss: 9582.33203125, Test MAE: 97.27973175048828\n",
            "313/313 [==============================] - 1s 3ms/step\n",
            "Mean absolute error for systolic is:  97.27976\n",
            "438/438 [==============================] - 6s 13ms/step - loss: 991.3674 - mean_absolute_error: 25.4867 - val_loss: 2494.3137 - val_mean_absolute_error: 47.2188\n",
            "Epoch 2, Train Loss: 991.367431640625, Train MAE: 25.486677169799805, Val Loss: 2494.313720703125, Val MAE: 47.21881103515625, Test Loss: 298.0421142578125, Test MAE: 14.16926097869873\n",
            "313/313 [==============================] - 1s 3ms/step\n",
            "Mean absolute error for systolic is:  14.169259\n",
            "438/438 [==============================] - 6s 13ms/step - loss: 84.4829 - mean_absolute_error: 7.5677 - val_loss: 935.3979 - val_mean_absolute_error: 29.5588\n",
            "Epoch 3, Train Loss: 84.48292541503906, Train MAE: 7.567677021026611, Val Loss: 935.3978881835938, Val MAE: 29.558788299560547, Test Loss: 2457.685302734375, Test MAE: 49.02923583984375\n",
            "313/313 [==============================] - 1s 3ms/step\n",
            "Mean absolute error for systolic is:  49.029236\n",
            "438/438 [==============================] - 6s 13ms/step - loss: 47.6380 - mean_absolute_error: 5.4893 - val_loss: 94.9871 - val_mean_absolute_error: 8.1786\n",
            "Epoch 4, Train Loss: 47.63798141479492, Train MAE: 5.4892964363098145, Val Loss: 94.98714447021484, Val MAE: 8.178579330444336, Test Loss: 79.90528869628906, Test MAE: 6.532534599304199\n",
            "313/313 [==============================] - 1s 3ms/step\n",
            "Mean absolute error for systolic is:  6.5325327\n",
            "438/438 [==============================] - 6s 13ms/step - loss: 40.9171 - mean_absolute_error: 5.0602 - val_loss: 34.4147 - val_mean_absolute_error: 4.5344\n",
            "Epoch 5, Train Loss: 40.917137145996094, Train MAE: 5.060162544250488, Val Loss: 34.4146728515625, Val MAE: 4.5344133377075195, Test Loss: 121.93875122070312, Test MAE: 8.750858306884766\n",
            "313/313 [==============================] - 1s 3ms/step\n",
            "Mean absolute error for systolic is:  8.750857\n",
            "438/438 [==============================] - 6s 13ms/step - loss: 37.3537 - mean_absolute_error: 4.8286 - val_loss: 75.5159 - val_mean_absolute_error: 7.3393\n",
            "Epoch 6, Train Loss: 37.35366439819336, Train MAE: 4.828627586364746, Val Loss: 75.51594543457031, Val MAE: 7.339254379272461, Test Loss: 328.5245056152344, Test MAE: 16.792688369750977\n",
            "313/313 [==============================] - 1s 3ms/step\n",
            "Mean absolute error for systolic is:  16.792688\n",
            "438/438 [==============================] - 6s 13ms/step - loss: 35.1689 - mean_absolute_error: 4.6805 - val_loss: 196.6527 - val_mean_absolute_error: 12.8366\n",
            "Epoch 7, Train Loss: 35.168880462646484, Train MAE: 4.680495738983154, Val Loss: 196.6526641845703, Val MAE: 12.836560249328613, Test Loss: 569.8206787109375, Test MAE: 22.83725357055664\n",
            "313/313 [==============================] - 1s 3ms/step\n",
            "Mean absolute error for systolic is:  22.837254\n",
            "438/438 [==============================] - 6s 13ms/step - loss: 33.3679 - mean_absolute_error: 4.5450 - val_loss: 440.0265 - val_mean_absolute_error: 20.0927\n",
            "Epoch 8, Train Loss: 33.367889404296875, Train MAE: 4.545016288757324, Val Loss: 440.0264892578125, Val MAE: 20.09273910522461, Test Loss: 932.0590209960938, Test MAE: 29.747282028198242\n",
            "313/313 [==============================] - 1s 3ms/step\n",
            "Mean absolute error for systolic is:  29.747288\n",
            "438/438 [==============================] - 6s 13ms/step - loss: 31.3492 - mean_absolute_error: 4.3895 - val_loss: 129.0123 - val_mean_absolute_error: 10.2133\n",
            "Epoch 9, Train Loss: 31.349239349365234, Train MAE: 4.389534950256348, Val Loss: 129.01229858398438, Val MAE: 10.213329315185547, Test Loss: 380.72491455078125, Test MAE: 18.402006149291992\n",
            "313/313 [==============================] - 1s 3ms/step\n",
            "Mean absolute error for systolic is:  18.402004\n",
            "438/438 [==============================] - 6s 13ms/step - loss: 29.1996 - mean_absolute_error: 4.2182 - val_loss: 115.0014 - val_mean_absolute_error: 9.6536\n",
            "Epoch 10, Train Loss: 29.19955062866211, Train MAE: 4.218164443969727, Val Loss: 115.0013656616211, Val MAE: 9.653554916381836, Test Loss: 319.3686828613281, Test MAE: 16.661788940429688\n",
            "313/313 [==============================] - 1s 3ms/step\n",
            "Mean absolute error for systolic is:  16.661797\n",
            "438/438 [==============================] - 6s 13ms/step - loss: 27.4396 - mean_absolute_error: 4.0608 - val_loss: 33.7991 - val_mean_absolute_error: 4.5498\n",
            "Epoch 11, Train Loss: 27.439626693725586, Train MAE: 4.0607686042785645, Val Loss: 33.79913330078125, Val MAE: 4.549760818481445, Test Loss: 54.26441192626953, Test MAE: 5.359423637390137\n",
            "313/313 [==============================] - 1s 3ms/step\n",
            "Mean absolute error for systolic is:  5.3594246\n",
            "438/438 [==============================] - 6s 13ms/step - loss: 25.7271 - mean_absolute_error: 3.9119 - val_loss: 101.2230 - val_mean_absolute_error: 9.0371\n",
            "Epoch 12, Train Loss: 25.727148056030273, Train MAE: 3.911878824234009, Val Loss: 101.22303009033203, Val MAE: 9.037145614624023, Test Loss: 258.67864990234375, Test MAE: 14.76742935180664\n",
            "313/313 [==============================] - 1s 3ms/step\n",
            "Mean absolute error for systolic is:  14.767434\n",
            "438/438 [==============================] - 6s 13ms/step - loss: 24.5122 - mean_absolute_error: 3.7984 - val_loss: 92.5378 - val_mean_absolute_error: 8.6110\n",
            "Epoch 13, Train Loss: 24.512168884277344, Train MAE: 3.7983992099761963, Val Loss: 92.53775024414062, Val MAE: 8.610963821411133, Test Loss: 235.66604614257812, Test MAE: 13.927800178527832\n",
            "313/313 [==============================] - 1s 3ms/step\n",
            "Mean absolute error for systolic is:  13.927803\n",
            "438/438 [==============================] - 6s 13ms/step - loss: 22.9800 - mean_absolute_error: 3.6668 - val_loss: 38.4177 - val_mean_absolute_error: 5.1337\n",
            "Epoch 14, Train Loss: 22.98004913330078, Train MAE: 3.6667706966400146, Val Loss: 38.41767883300781, Val MAE: 5.133693218231201, Test Loss: 118.38860321044922, Test MAE: 9.075371742248535\n",
            "313/313 [==============================] - 1s 3ms/step\n",
            "Mean absolute error for systolic is:  9.075371\n",
            "438/438 [==============================] - 6s 13ms/step - loss: 21.9497 - mean_absolute_error: 3.5722 - val_loss: 73.0650 - val_mean_absolute_error: 7.6990\n",
            "Epoch 15, Train Loss: 21.949678421020508, Train MAE: 3.5721538066864014, Val Loss: 73.06498718261719, Val MAE: 7.698970794677734, Test Loss: 142.6647186279297, Test MAE: 10.20959758758545\n",
            "313/313 [==============================] - 1s 3ms/step\n",
            "Mean absolute error for systolic is:  10.209592\n",
            "438/438 [==============================] - 6s 13ms/step - loss: 20.9330 - mean_absolute_error: 3.4845 - val_loss: 375.5547 - val_mean_absolute_error: 18.7110\n",
            "Epoch 16, Train Loss: 20.933006286621094, Train MAE: 3.4844584465026855, Val Loss: 375.5547180175781, Val MAE: 18.71100425720215, Test Loss: 243.09912109375, Test MAE: 14.266371726989746\n",
            "313/313 [==============================] - 1s 3ms/step\n",
            "Mean absolute error for systolic is:  14.266369\n",
            "438/438 [==============================] - 6s 13ms/step - loss: 20.0458 - mean_absolute_error: 3.4114 - val_loss: 111.5057 - val_mean_absolute_error: 9.7756\n",
            "Epoch 17, Train Loss: 20.045822143554688, Train MAE: 3.4113922119140625, Val Loss: 111.50572204589844, Val MAE: 9.775572776794434, Test Loss: 189.70474243164062, Test MAE: 12.324820518493652\n",
            "313/313 [==============================] - 1s 3ms/step\n",
            "Mean absolute error for systolic is:  12.324821\n",
            "438/438 [==============================] - 6s 13ms/step - loss: 19.3634 - mean_absolute_error: 3.3541 - val_loss: 247.0497 - val_mean_absolute_error: 15.2022\n",
            "Epoch 18, Train Loss: 19.363439559936523, Train MAE: 3.354095220565796, Val Loss: 247.04965209960938, Val MAE: 15.202237129211426, Test Loss: 356.74871826171875, Test MAE: 17.719297409057617\n",
            "313/313 [==============================] - 1s 3ms/step\n",
            "Mean absolute error for systolic is:  17.719296\n",
            "438/438 [==============================] - 6s 13ms/step - loss: 18.6805 - mean_absolute_error: 3.2992 - val_loss: 163.7364 - val_mean_absolute_error: 12.0693\n",
            "Epoch 19, Train Loss: 18.680513381958008, Train MAE: 3.2991654872894287, Val Loss: 163.7364044189453, Val MAE: 12.06926441192627, Test Loss: 141.7283172607422, Test MAE: 10.527894973754883\n",
            "313/313 [==============================] - 1s 3ms/step\n",
            "Mean absolute error for systolic is:  10.527892\n",
            "438/438 [==============================] - 6s 13ms/step - loss: 18.1310 - mean_absolute_error: 3.2485 - val_loss: 39.1926 - val_mean_absolute_error: 5.3986\n",
            "Epoch 20, Train Loss: 18.131006240844727, Train MAE: 3.2484958171844482, Val Loss: 39.19264221191406, Val MAE: 5.398576259613037, Test Loss: 72.8426284790039, Test MAE: 6.681442737579346\n",
            "313/313 [==============================] - 1s 3ms/step\n",
            "Mean absolute error for systolic is:  6.6814427\n",
            "438/438 [==============================] - 6s 13ms/step - loss: 17.7912 - mean_absolute_error: 3.2176 - val_loss: 18.1421 - val_mean_absolute_error: 3.3429\n",
            "Epoch 21, Train Loss: 17.791189193725586, Train MAE: 3.2176475524902344, Val Loss: 18.142108917236328, Val MAE: 3.3428702354431152, Test Loss: 47.0449104309082, Test MAE: 5.123547077178955\n",
            "313/313 [==============================] - 1s 3ms/step\n",
            "Mean absolute error for systolic is:  5.123547\n",
            "438/438 [==============================] - 6s 13ms/step - loss: 17.2357 - mean_absolute_error: 3.1745 - val_loss: 135.9786 - val_mean_absolute_error: 10.9316\n",
            "Epoch 22, Train Loss: 17.235719680786133, Train MAE: 3.1745238304138184, Val Loss: 135.97862243652344, Val MAE: 10.931647300720215, Test Loss: 127.943603515625, Test MAE: 9.945060729980469\n",
            "313/313 [==============================] - 1s 3ms/step\n",
            "Mean absolute error for systolic is:  9.945063\n",
            "438/438 [==============================] - 6s 13ms/step - loss: 16.8127 - mean_absolute_error: 3.1335 - val_loss: 13.2737 - val_mean_absolute_error: 2.7951\n",
            "Epoch 23, Train Loss: 16.812732696533203, Train MAE: 3.1334846019744873, Val Loss: 13.27365493774414, Val MAE: 2.7950503826141357, Test Loss: 39.08573913574219, Test MAE: 4.690829753875732\n",
            "313/313 [==============================] - 1s 3ms/step\n",
            "Mean absolute error for systolic is:  4.69083\n",
            " 91/438 [=====>........................] - ETA: 3s - loss: 17.1992 - mean_absolute_error: 3.2394"
          ]
        },
        {
          "output_type": "error",
          "ename": "KeyboardInterrupt",
          "evalue": "ignored",
          "traceback": [
            "\u001b[0;31m---------------------------------------------------------------------------\u001b[0m",
            "\u001b[0;31mKeyboardInterrupt\u001b[0m                         Traceback (most recent call last)",
            "\u001b[0;32m<ipython-input-4-94cb30a690d5>\u001b[0m in \u001b[0;36m<cell line: 64>\u001b[0;34m()\u001b[0m\n\u001b[1;32m     63\u001b[0m \u001b[0;31m# Train the model for 70 epochs and capture loss after each epoch\u001b[0m\u001b[0;34m\u001b[0m\u001b[0;34m\u001b[0m\u001b[0m\n\u001b[1;32m     64\u001b[0m \u001b[0;32mfor\u001b[0m \u001b[0mepoch\u001b[0m \u001b[0;32min\u001b[0m \u001b[0mrange\u001b[0m\u001b[0;34m(\u001b[0m\u001b[0;36m50\u001b[0m\u001b[0;34m)\u001b[0m\u001b[0;34m:\u001b[0m\u001b[0;34m\u001b[0m\u001b[0;34m\u001b[0m\u001b[0m\n\u001b[0;32m---> 65\u001b[0;31m     \u001b[0mhistory\u001b[0m \u001b[0;34m=\u001b[0m \u001b[0mmodel\u001b[0m\u001b[0;34m.\u001b[0m\u001b[0mfit\u001b[0m\u001b[0;34m(\u001b[0m\u001b[0mX_train\u001b[0m\u001b[0;34m,\u001b[0m \u001b[0my_train\u001b[0m\u001b[0;34m,\u001b[0m \u001b[0mepochs\u001b[0m\u001b[0;34m=\u001b[0m\u001b[0;36m1\u001b[0m\u001b[0;34m,\u001b[0m \u001b[0mbatch_size\u001b[0m\u001b[0;34m=\u001b[0m\u001b[0;36m32\u001b[0m\u001b[0;34m,\u001b[0m \u001b[0mvalidation_data\u001b[0m\u001b[0;34m=\u001b[0m\u001b[0;34m(\u001b[0m\u001b[0mX_val\u001b[0m\u001b[0;34m,\u001b[0m \u001b[0my_val\u001b[0m\u001b[0;34m)\u001b[0m\u001b[0;34m,\u001b[0m \u001b[0mshuffle\u001b[0m\u001b[0;34m=\u001b[0m\u001b[0;32mFalse\u001b[0m\u001b[0;34m,\u001b[0m \u001b[0mverbose\u001b[0m\u001b[0;34m=\u001b[0m\u001b[0;36m1\u001b[0m\u001b[0;34m)\u001b[0m\u001b[0;34m\u001b[0m\u001b[0;34m\u001b[0m\u001b[0m\n\u001b[0m\u001b[1;32m     66\u001b[0m \u001b[0;34m\u001b[0m\u001b[0m\n\u001b[1;32m     67\u001b[0m     \u001b[0mtrain_loss\u001b[0m \u001b[0;34m=\u001b[0m \u001b[0mhistory\u001b[0m\u001b[0;34m.\u001b[0m\u001b[0mhistory\u001b[0m\u001b[0;34m[\u001b[0m\u001b[0;34m'loss'\u001b[0m\u001b[0;34m]\u001b[0m\u001b[0;34m[\u001b[0m\u001b[0;36m0\u001b[0m\u001b[0;34m]\u001b[0m\u001b[0;34m\u001b[0m\u001b[0;34m\u001b[0m\u001b[0m\n",
            "\u001b[0;32m/usr/local/lib/python3.10/dist-packages/keras/utils/traceback_utils.py\u001b[0m in \u001b[0;36merror_handler\u001b[0;34m(*args, **kwargs)\u001b[0m\n\u001b[1;32m     63\u001b[0m         \u001b[0mfiltered_tb\u001b[0m \u001b[0;34m=\u001b[0m \u001b[0;32mNone\u001b[0m\u001b[0;34m\u001b[0m\u001b[0;34m\u001b[0m\u001b[0m\n\u001b[1;32m     64\u001b[0m         \u001b[0;32mtry\u001b[0m\u001b[0;34m:\u001b[0m\u001b[0;34m\u001b[0m\u001b[0;34m\u001b[0m\u001b[0m\n\u001b[0;32m---> 65\u001b[0;31m             \u001b[0;32mreturn\u001b[0m \u001b[0mfn\u001b[0m\u001b[0;34m(\u001b[0m\u001b[0;34m*\u001b[0m\u001b[0margs\u001b[0m\u001b[0;34m,\u001b[0m \u001b[0;34m**\u001b[0m\u001b[0mkwargs\u001b[0m\u001b[0;34m)\u001b[0m\u001b[0;34m\u001b[0m\u001b[0;34m\u001b[0m\u001b[0m\n\u001b[0m\u001b[1;32m     66\u001b[0m         \u001b[0;32mexcept\u001b[0m \u001b[0mException\u001b[0m \u001b[0;32mas\u001b[0m \u001b[0me\u001b[0m\u001b[0;34m:\u001b[0m\u001b[0;34m\u001b[0m\u001b[0;34m\u001b[0m\u001b[0m\n\u001b[1;32m     67\u001b[0m             \u001b[0mfiltered_tb\u001b[0m \u001b[0;34m=\u001b[0m \u001b[0m_process_traceback_frames\u001b[0m\u001b[0;34m(\u001b[0m\u001b[0me\u001b[0m\u001b[0;34m.\u001b[0m\u001b[0m__traceback__\u001b[0m\u001b[0;34m)\u001b[0m\u001b[0;34m\u001b[0m\u001b[0;34m\u001b[0m\u001b[0m\n",
            "\u001b[0;32m/usr/local/lib/python3.10/dist-packages/keras/engine/training.py\u001b[0m in \u001b[0;36mfit\u001b[0;34m(self, x, y, batch_size, epochs, verbose, callbacks, validation_split, validation_data, shuffle, class_weight, sample_weight, initial_epoch, steps_per_epoch, validation_steps, validation_batch_size, validation_freq, max_queue_size, workers, use_multiprocessing)\u001b[0m\n\u001b[1;32m   1689\u001b[0m                             \u001b[0mlogs\u001b[0m \u001b[0;34m=\u001b[0m \u001b[0mtmp_logs\u001b[0m\u001b[0;34m\u001b[0m\u001b[0;34m\u001b[0m\u001b[0m\n\u001b[1;32m   1690\u001b[0m                             \u001b[0mend_step\u001b[0m \u001b[0;34m=\u001b[0m \u001b[0mstep\u001b[0m \u001b[0;34m+\u001b[0m \u001b[0mdata_handler\u001b[0m\u001b[0;34m.\u001b[0m\u001b[0mstep_increment\u001b[0m\u001b[0;34m\u001b[0m\u001b[0;34m\u001b[0m\u001b[0m\n\u001b[0;32m-> 1691\u001b[0;31m                             \u001b[0mcallbacks\u001b[0m\u001b[0;34m.\u001b[0m\u001b[0mon_train_batch_end\u001b[0m\u001b[0;34m(\u001b[0m\u001b[0mend_step\u001b[0m\u001b[0;34m,\u001b[0m \u001b[0mlogs\u001b[0m\u001b[0;34m)\u001b[0m\u001b[0;34m\u001b[0m\u001b[0;34m\u001b[0m\u001b[0m\n\u001b[0m\u001b[1;32m   1692\u001b[0m                             \u001b[0;32mif\u001b[0m \u001b[0mself\u001b[0m\u001b[0;34m.\u001b[0m\u001b[0mstop_training\u001b[0m\u001b[0;34m:\u001b[0m\u001b[0;34m\u001b[0m\u001b[0;34m\u001b[0m\u001b[0m\n\u001b[1;32m   1693\u001b[0m                                 \u001b[0;32mbreak\u001b[0m\u001b[0;34m\u001b[0m\u001b[0;34m\u001b[0m\u001b[0m\n",
            "\u001b[0;32m/usr/local/lib/python3.10/dist-packages/keras/callbacks.py\u001b[0m in \u001b[0;36mon_train_batch_end\u001b[0;34m(self, batch, logs)\u001b[0m\n\u001b[1;32m    473\u001b[0m         \"\"\"\n\u001b[1;32m    474\u001b[0m         \u001b[0;32mif\u001b[0m \u001b[0mself\u001b[0m\u001b[0;34m.\u001b[0m\u001b[0m_should_call_train_batch_hooks\u001b[0m\u001b[0;34m:\u001b[0m\u001b[0;34m\u001b[0m\u001b[0;34m\u001b[0m\u001b[0m\n\u001b[0;32m--> 475\u001b[0;31m             \u001b[0mself\u001b[0m\u001b[0;34m.\u001b[0m\u001b[0m_call_batch_hook\u001b[0m\u001b[0;34m(\u001b[0m\u001b[0mModeKeys\u001b[0m\u001b[0;34m.\u001b[0m\u001b[0mTRAIN\u001b[0m\u001b[0;34m,\u001b[0m \u001b[0;34m\"end\"\u001b[0m\u001b[0;34m,\u001b[0m \u001b[0mbatch\u001b[0m\u001b[0;34m,\u001b[0m \u001b[0mlogs\u001b[0m\u001b[0;34m=\u001b[0m\u001b[0mlogs\u001b[0m\u001b[0;34m)\u001b[0m\u001b[0;34m\u001b[0m\u001b[0;34m\u001b[0m\u001b[0m\n\u001b[0m\u001b[1;32m    476\u001b[0m \u001b[0;34m\u001b[0m\u001b[0m\n\u001b[1;32m    477\u001b[0m     \u001b[0;32mdef\u001b[0m \u001b[0mon_test_batch_begin\u001b[0m\u001b[0;34m(\u001b[0m\u001b[0mself\u001b[0m\u001b[0;34m,\u001b[0m \u001b[0mbatch\u001b[0m\u001b[0;34m,\u001b[0m \u001b[0mlogs\u001b[0m\u001b[0;34m=\u001b[0m\u001b[0;32mNone\u001b[0m\u001b[0;34m)\u001b[0m\u001b[0;34m:\u001b[0m\u001b[0;34m\u001b[0m\u001b[0;34m\u001b[0m\u001b[0m\n",
            "\u001b[0;32m/usr/local/lib/python3.10/dist-packages/keras/callbacks.py\u001b[0m in \u001b[0;36m_call_batch_hook\u001b[0;34m(self, mode, hook, batch, logs)\u001b[0m\n\u001b[1;32m    320\u001b[0m             \u001b[0mself\u001b[0m\u001b[0;34m.\u001b[0m\u001b[0m_call_batch_begin_hook\u001b[0m\u001b[0;34m(\u001b[0m\u001b[0mmode\u001b[0m\u001b[0;34m,\u001b[0m \u001b[0mbatch\u001b[0m\u001b[0;34m,\u001b[0m \u001b[0mlogs\u001b[0m\u001b[0;34m)\u001b[0m\u001b[0;34m\u001b[0m\u001b[0;34m\u001b[0m\u001b[0m\n\u001b[1;32m    321\u001b[0m         \u001b[0;32melif\u001b[0m \u001b[0mhook\u001b[0m \u001b[0;34m==\u001b[0m \u001b[0;34m\"end\"\u001b[0m\u001b[0;34m:\u001b[0m\u001b[0;34m\u001b[0m\u001b[0;34m\u001b[0m\u001b[0m\n\u001b[0;32m--> 322\u001b[0;31m             \u001b[0mself\u001b[0m\u001b[0;34m.\u001b[0m\u001b[0m_call_batch_end_hook\u001b[0m\u001b[0;34m(\u001b[0m\u001b[0mmode\u001b[0m\u001b[0;34m,\u001b[0m \u001b[0mbatch\u001b[0m\u001b[0;34m,\u001b[0m \u001b[0mlogs\u001b[0m\u001b[0;34m)\u001b[0m\u001b[0;34m\u001b[0m\u001b[0;34m\u001b[0m\u001b[0m\n\u001b[0m\u001b[1;32m    323\u001b[0m         \u001b[0;32melse\u001b[0m\u001b[0;34m:\u001b[0m\u001b[0;34m\u001b[0m\u001b[0;34m\u001b[0m\u001b[0m\n\u001b[1;32m    324\u001b[0m             raise ValueError(\n",
            "\u001b[0;32m/usr/local/lib/python3.10/dist-packages/keras/callbacks.py\u001b[0m in \u001b[0;36m_call_batch_end_hook\u001b[0;34m(self, mode, batch, logs)\u001b[0m\n\u001b[1;32m    343\u001b[0m             \u001b[0mself\u001b[0m\u001b[0;34m.\u001b[0m\u001b[0m_batch_times\u001b[0m\u001b[0;34m.\u001b[0m\u001b[0mappend\u001b[0m\u001b[0;34m(\u001b[0m\u001b[0mbatch_time\u001b[0m\u001b[0;34m)\u001b[0m\u001b[0;34m\u001b[0m\u001b[0;34m\u001b[0m\u001b[0m\n\u001b[1;32m    344\u001b[0m \u001b[0;34m\u001b[0m\u001b[0m\n\u001b[0;32m--> 345\u001b[0;31m         \u001b[0mself\u001b[0m\u001b[0;34m.\u001b[0m\u001b[0m_call_batch_hook_helper\u001b[0m\u001b[0;34m(\u001b[0m\u001b[0mhook_name\u001b[0m\u001b[0;34m,\u001b[0m \u001b[0mbatch\u001b[0m\u001b[0;34m,\u001b[0m \u001b[0mlogs\u001b[0m\u001b[0;34m)\u001b[0m\u001b[0;34m\u001b[0m\u001b[0;34m\u001b[0m\u001b[0m\n\u001b[0m\u001b[1;32m    346\u001b[0m \u001b[0;34m\u001b[0m\u001b[0m\n\u001b[1;32m    347\u001b[0m         \u001b[0;32mif\u001b[0m \u001b[0mlen\u001b[0m\u001b[0;34m(\u001b[0m\u001b[0mself\u001b[0m\u001b[0;34m.\u001b[0m\u001b[0m_batch_times\u001b[0m\u001b[0;34m)\u001b[0m \u001b[0;34m>=\u001b[0m \u001b[0mself\u001b[0m\u001b[0;34m.\u001b[0m\u001b[0m_num_batches_for_timing_check\u001b[0m\u001b[0;34m:\u001b[0m\u001b[0;34m\u001b[0m\u001b[0;34m\u001b[0m\u001b[0m\n",
            "\u001b[0;32m/usr/local/lib/python3.10/dist-packages/keras/callbacks.py\u001b[0m in \u001b[0;36m_call_batch_hook_helper\u001b[0;34m(self, hook_name, batch, logs)\u001b[0m\n\u001b[1;32m    391\u001b[0m         \u001b[0;32mfor\u001b[0m \u001b[0mcallback\u001b[0m \u001b[0;32min\u001b[0m \u001b[0mself\u001b[0m\u001b[0;34m.\u001b[0m\u001b[0mcallbacks\u001b[0m\u001b[0;34m:\u001b[0m\u001b[0;34m\u001b[0m\u001b[0;34m\u001b[0m\u001b[0m\n\u001b[1;32m    392\u001b[0m             \u001b[0mhook\u001b[0m \u001b[0;34m=\u001b[0m \u001b[0mgetattr\u001b[0m\u001b[0;34m(\u001b[0m\u001b[0mcallback\u001b[0m\u001b[0;34m,\u001b[0m \u001b[0mhook_name\u001b[0m\u001b[0;34m)\u001b[0m\u001b[0;34m\u001b[0m\u001b[0;34m\u001b[0m\u001b[0m\n\u001b[0;32m--> 393\u001b[0;31m             \u001b[0mhook\u001b[0m\u001b[0;34m(\u001b[0m\u001b[0mbatch\u001b[0m\u001b[0;34m,\u001b[0m \u001b[0mlogs\u001b[0m\u001b[0;34m)\u001b[0m\u001b[0;34m\u001b[0m\u001b[0;34m\u001b[0m\u001b[0m\n\u001b[0m\u001b[1;32m    394\u001b[0m \u001b[0;34m\u001b[0m\u001b[0m\n\u001b[1;32m    395\u001b[0m         \u001b[0;32mif\u001b[0m \u001b[0mself\u001b[0m\u001b[0;34m.\u001b[0m\u001b[0m_check_timing\u001b[0m\u001b[0;34m:\u001b[0m\u001b[0;34m\u001b[0m\u001b[0;34m\u001b[0m\u001b[0m\n",
            "\u001b[0;32m/usr/local/lib/python3.10/dist-packages/keras/callbacks.py\u001b[0m in \u001b[0;36mon_train_batch_end\u001b[0;34m(self, batch, logs)\u001b[0m\n\u001b[1;32m   1091\u001b[0m \u001b[0;34m\u001b[0m\u001b[0m\n\u001b[1;32m   1092\u001b[0m     \u001b[0;32mdef\u001b[0m \u001b[0mon_train_batch_end\u001b[0m\u001b[0;34m(\u001b[0m\u001b[0mself\u001b[0m\u001b[0;34m,\u001b[0m \u001b[0mbatch\u001b[0m\u001b[0;34m,\u001b[0m \u001b[0mlogs\u001b[0m\u001b[0;34m=\u001b[0m\u001b[0;32mNone\u001b[0m\u001b[0;34m)\u001b[0m\u001b[0;34m:\u001b[0m\u001b[0;34m\u001b[0m\u001b[0;34m\u001b[0m\u001b[0m\n\u001b[0;32m-> 1093\u001b[0;31m         \u001b[0mself\u001b[0m\u001b[0;34m.\u001b[0m\u001b[0m_batch_update_progbar\u001b[0m\u001b[0;34m(\u001b[0m\u001b[0mbatch\u001b[0m\u001b[0;34m,\u001b[0m \u001b[0mlogs\u001b[0m\u001b[0;34m)\u001b[0m\u001b[0;34m\u001b[0m\u001b[0;34m\u001b[0m\u001b[0m\n\u001b[0m\u001b[1;32m   1094\u001b[0m \u001b[0;34m\u001b[0m\u001b[0m\n\u001b[1;32m   1095\u001b[0m     \u001b[0;32mdef\u001b[0m \u001b[0mon_test_batch_end\u001b[0m\u001b[0;34m(\u001b[0m\u001b[0mself\u001b[0m\u001b[0;34m,\u001b[0m \u001b[0mbatch\u001b[0m\u001b[0;34m,\u001b[0m \u001b[0mlogs\u001b[0m\u001b[0;34m=\u001b[0m\u001b[0;32mNone\u001b[0m\u001b[0;34m)\u001b[0m\u001b[0;34m:\u001b[0m\u001b[0;34m\u001b[0m\u001b[0;34m\u001b[0m\u001b[0m\n",
            "\u001b[0;32m/usr/local/lib/python3.10/dist-packages/keras/callbacks.py\u001b[0m in \u001b[0;36m_batch_update_progbar\u001b[0;34m(self, batch, logs)\u001b[0m\n\u001b[1;32m   1167\u001b[0m         \u001b[0;32mif\u001b[0m \u001b[0mself\u001b[0m\u001b[0;34m.\u001b[0m\u001b[0mverbose\u001b[0m \u001b[0;34m==\u001b[0m \u001b[0;36m1\u001b[0m\u001b[0;34m:\u001b[0m\u001b[0;34m\u001b[0m\u001b[0;34m\u001b[0m\u001b[0m\n\u001b[1;32m   1168\u001b[0m             \u001b[0;31m# Only block async when verbose = 1.\u001b[0m\u001b[0;34m\u001b[0m\u001b[0;34m\u001b[0m\u001b[0m\n\u001b[0;32m-> 1169\u001b[0;31m             \u001b[0mlogs\u001b[0m \u001b[0;34m=\u001b[0m \u001b[0mtf_utils\u001b[0m\u001b[0;34m.\u001b[0m\u001b[0msync_to_numpy_or_python_type\u001b[0m\u001b[0;34m(\u001b[0m\u001b[0mlogs\u001b[0m\u001b[0;34m)\u001b[0m\u001b[0;34m\u001b[0m\u001b[0;34m\u001b[0m\u001b[0m\n\u001b[0m\u001b[1;32m   1170\u001b[0m             \u001b[0mself\u001b[0m\u001b[0;34m.\u001b[0m\u001b[0mprogbar\u001b[0m\u001b[0;34m.\u001b[0m\u001b[0mupdate\u001b[0m\u001b[0;34m(\u001b[0m\u001b[0mself\u001b[0m\u001b[0;34m.\u001b[0m\u001b[0mseen\u001b[0m\u001b[0;34m,\u001b[0m \u001b[0mlist\u001b[0m\u001b[0;34m(\u001b[0m\u001b[0mlogs\u001b[0m\u001b[0;34m.\u001b[0m\u001b[0mitems\u001b[0m\u001b[0;34m(\u001b[0m\u001b[0;34m)\u001b[0m\u001b[0;34m)\u001b[0m\u001b[0;34m,\u001b[0m \u001b[0mfinalize\u001b[0m\u001b[0;34m=\u001b[0m\u001b[0;32mFalse\u001b[0m\u001b[0;34m)\u001b[0m\u001b[0;34m\u001b[0m\u001b[0;34m\u001b[0m\u001b[0m\n\u001b[1;32m   1171\u001b[0m \u001b[0;34m\u001b[0m\u001b[0m\n",
            "\u001b[0;32m/usr/local/lib/python3.10/dist-packages/keras/utils/tf_utils.py\u001b[0m in \u001b[0;36msync_to_numpy_or_python_type\u001b[0;34m(tensors)\u001b[0m\n\u001b[1;32m    678\u001b[0m         \u001b[0;32mreturn\u001b[0m \u001b[0mt\u001b[0m\u001b[0;34m.\u001b[0m\u001b[0mitem\u001b[0m\u001b[0;34m(\u001b[0m\u001b[0;34m)\u001b[0m \u001b[0;32mif\u001b[0m \u001b[0mnp\u001b[0m\u001b[0;34m.\u001b[0m\u001b[0mndim\u001b[0m\u001b[0;34m(\u001b[0m\u001b[0mt\u001b[0m\u001b[0;34m)\u001b[0m \u001b[0;34m==\u001b[0m \u001b[0;36m0\u001b[0m \u001b[0;32melse\u001b[0m \u001b[0mt\u001b[0m\u001b[0;34m\u001b[0m\u001b[0;34m\u001b[0m\u001b[0m\n\u001b[1;32m    679\u001b[0m \u001b[0;34m\u001b[0m\u001b[0m\n\u001b[0;32m--> 680\u001b[0;31m     \u001b[0;32mreturn\u001b[0m \u001b[0mtf\u001b[0m\u001b[0;34m.\u001b[0m\u001b[0mnest\u001b[0m\u001b[0;34m.\u001b[0m\u001b[0mmap_structure\u001b[0m\u001b[0;34m(\u001b[0m\u001b[0m_to_single_numpy_or_python_type\u001b[0m\u001b[0;34m,\u001b[0m \u001b[0mtensors\u001b[0m\u001b[0;34m)\u001b[0m\u001b[0;34m\u001b[0m\u001b[0;34m\u001b[0m\u001b[0m\n\u001b[0m\u001b[1;32m    681\u001b[0m \u001b[0;34m\u001b[0m\u001b[0m\n\u001b[1;32m    682\u001b[0m \u001b[0;34m\u001b[0m\u001b[0m\n",
            "\u001b[0;32m/usr/local/lib/python3.10/dist-packages/tensorflow/python/util/nest.py\u001b[0m in \u001b[0;36mmap_structure\u001b[0;34m(func, *structure, **kwargs)\u001b[0m\n\u001b[1;32m    915\u001b[0m \u001b[0;34m\u001b[0m\u001b[0m\n\u001b[1;32m    916\u001b[0m   return pack_sequence_as(\n\u001b[0;32m--> 917\u001b[0;31m       \u001b[0mstructure\u001b[0m\u001b[0;34m[\u001b[0m\u001b[0;36m0\u001b[0m\u001b[0;34m]\u001b[0m\u001b[0;34m,\u001b[0m \u001b[0;34m[\u001b[0m\u001b[0mfunc\u001b[0m\u001b[0;34m(\u001b[0m\u001b[0;34m*\u001b[0m\u001b[0mx\u001b[0m\u001b[0;34m)\u001b[0m \u001b[0;32mfor\u001b[0m \u001b[0mx\u001b[0m \u001b[0;32min\u001b[0m \u001b[0mentries\u001b[0m\u001b[0;34m]\u001b[0m\u001b[0;34m,\u001b[0m\u001b[0;34m\u001b[0m\u001b[0;34m\u001b[0m\u001b[0m\n\u001b[0m\u001b[1;32m    918\u001b[0m       expand_composites=expand_composites)\n\u001b[1;32m    919\u001b[0m \u001b[0;34m\u001b[0m\u001b[0m\n",
            "\u001b[0;32m/usr/local/lib/python3.10/dist-packages/tensorflow/python/util/nest.py\u001b[0m in \u001b[0;36m<listcomp>\u001b[0;34m(.0)\u001b[0m\n\u001b[1;32m    915\u001b[0m \u001b[0;34m\u001b[0m\u001b[0m\n\u001b[1;32m    916\u001b[0m   return pack_sequence_as(\n\u001b[0;32m--> 917\u001b[0;31m       \u001b[0mstructure\u001b[0m\u001b[0;34m[\u001b[0m\u001b[0;36m0\u001b[0m\u001b[0;34m]\u001b[0m\u001b[0;34m,\u001b[0m \u001b[0;34m[\u001b[0m\u001b[0mfunc\u001b[0m\u001b[0;34m(\u001b[0m\u001b[0;34m*\u001b[0m\u001b[0mx\u001b[0m\u001b[0;34m)\u001b[0m \u001b[0;32mfor\u001b[0m \u001b[0mx\u001b[0m \u001b[0;32min\u001b[0m \u001b[0mentries\u001b[0m\u001b[0;34m]\u001b[0m\u001b[0;34m,\u001b[0m\u001b[0;34m\u001b[0m\u001b[0;34m\u001b[0m\u001b[0m\n\u001b[0m\u001b[1;32m    918\u001b[0m       expand_composites=expand_composites)\n\u001b[1;32m    919\u001b[0m \u001b[0;34m\u001b[0m\u001b[0m\n",
            "\u001b[0;32m/usr/local/lib/python3.10/dist-packages/keras/utils/tf_utils.py\u001b[0m in \u001b[0;36m_to_single_numpy_or_python_type\u001b[0;34m(t)\u001b[0m\n\u001b[1;32m    671\u001b[0m         \u001b[0;31m# Don't turn ragged or sparse tensors to NumPy.\u001b[0m\u001b[0;34m\u001b[0m\u001b[0;34m\u001b[0m\u001b[0m\n\u001b[1;32m    672\u001b[0m         \u001b[0;32mif\u001b[0m \u001b[0misinstance\u001b[0m\u001b[0;34m(\u001b[0m\u001b[0mt\u001b[0m\u001b[0;34m,\u001b[0m \u001b[0mtf\u001b[0m\u001b[0;34m.\u001b[0m\u001b[0mTensor\u001b[0m\u001b[0;34m)\u001b[0m\u001b[0;34m:\u001b[0m\u001b[0;34m\u001b[0m\u001b[0;34m\u001b[0m\u001b[0m\n\u001b[0;32m--> 673\u001b[0;31m             \u001b[0mt\u001b[0m \u001b[0;34m=\u001b[0m \u001b[0mt\u001b[0m\u001b[0;34m.\u001b[0m\u001b[0mnumpy\u001b[0m\u001b[0;34m(\u001b[0m\u001b[0;34m)\u001b[0m\u001b[0;34m\u001b[0m\u001b[0;34m\u001b[0m\u001b[0m\n\u001b[0m\u001b[1;32m    674\u001b[0m         \u001b[0;31m# Strings, ragged and sparse tensors don't have .item(). Return them\u001b[0m\u001b[0;34m\u001b[0m\u001b[0;34m\u001b[0m\u001b[0m\n\u001b[1;32m    675\u001b[0m         \u001b[0;31m# as-is.\u001b[0m\u001b[0;34m\u001b[0m\u001b[0;34m\u001b[0m\u001b[0m\n",
            "\u001b[0;32m/usr/local/lib/python3.10/dist-packages/tensorflow/python/framework/ops.py\u001b[0m in \u001b[0;36mnumpy\u001b[0;34m(self)\u001b[0m\n\u001b[1;32m   1158\u001b[0m     \"\"\"\n\u001b[1;32m   1159\u001b[0m     \u001b[0;31m# TODO(slebedev): Consider avoiding a copy for non-CPU or remote tensors.\u001b[0m\u001b[0;34m\u001b[0m\u001b[0;34m\u001b[0m\u001b[0m\n\u001b[0;32m-> 1160\u001b[0;31m     \u001b[0mmaybe_arr\u001b[0m \u001b[0;34m=\u001b[0m \u001b[0mself\u001b[0m\u001b[0;34m.\u001b[0m\u001b[0m_numpy\u001b[0m\u001b[0;34m(\u001b[0m\u001b[0;34m)\u001b[0m  \u001b[0;31m# pylint: disable=protected-access\u001b[0m\u001b[0;34m\u001b[0m\u001b[0;34m\u001b[0m\u001b[0m\n\u001b[0m\u001b[1;32m   1161\u001b[0m     \u001b[0;32mreturn\u001b[0m \u001b[0mmaybe_arr\u001b[0m\u001b[0;34m.\u001b[0m\u001b[0mcopy\u001b[0m\u001b[0;34m(\u001b[0m\u001b[0;34m)\u001b[0m \u001b[0;32mif\u001b[0m \u001b[0misinstance\u001b[0m\u001b[0;34m(\u001b[0m\u001b[0mmaybe_arr\u001b[0m\u001b[0;34m,\u001b[0m \u001b[0mnp\u001b[0m\u001b[0;34m.\u001b[0m\u001b[0mndarray\u001b[0m\u001b[0;34m)\u001b[0m \u001b[0;32melse\u001b[0m \u001b[0mmaybe_arr\u001b[0m\u001b[0;34m\u001b[0m\u001b[0;34m\u001b[0m\u001b[0m\n\u001b[1;32m   1162\u001b[0m \u001b[0;34m\u001b[0m\u001b[0m\n",
            "\u001b[0;32m/usr/local/lib/python3.10/dist-packages/tensorflow/python/framework/ops.py\u001b[0m in \u001b[0;36m_numpy\u001b[0;34m(self)\u001b[0m\n\u001b[1;32m   1124\u001b[0m   \u001b[0;32mdef\u001b[0m \u001b[0m_numpy\u001b[0m\u001b[0;34m(\u001b[0m\u001b[0mself\u001b[0m\u001b[0;34m)\u001b[0m\u001b[0;34m:\u001b[0m\u001b[0;34m\u001b[0m\u001b[0;34m\u001b[0m\u001b[0m\n\u001b[1;32m   1125\u001b[0m     \u001b[0;32mtry\u001b[0m\u001b[0;34m:\u001b[0m\u001b[0;34m\u001b[0m\u001b[0;34m\u001b[0m\u001b[0m\n\u001b[0;32m-> 1126\u001b[0;31m       \u001b[0;32mreturn\u001b[0m \u001b[0mself\u001b[0m\u001b[0;34m.\u001b[0m\u001b[0m_numpy_internal\u001b[0m\u001b[0;34m(\u001b[0m\u001b[0;34m)\u001b[0m\u001b[0;34m\u001b[0m\u001b[0;34m\u001b[0m\u001b[0m\n\u001b[0m\u001b[1;32m   1127\u001b[0m     \u001b[0;32mexcept\u001b[0m \u001b[0mcore\u001b[0m\u001b[0;34m.\u001b[0m\u001b[0m_NotOkStatusException\u001b[0m \u001b[0;32mas\u001b[0m \u001b[0me\u001b[0m\u001b[0;34m:\u001b[0m  \u001b[0;31m# pylint: disable=protected-access\u001b[0m\u001b[0;34m\u001b[0m\u001b[0;34m\u001b[0m\u001b[0m\n\u001b[1;32m   1128\u001b[0m       \u001b[0;32mraise\u001b[0m \u001b[0mcore\u001b[0m\u001b[0;34m.\u001b[0m\u001b[0m_status_to_exception\u001b[0m\u001b[0;34m(\u001b[0m\u001b[0me\u001b[0m\u001b[0;34m)\u001b[0m \u001b[0;32mfrom\u001b[0m \u001b[0;32mNone\u001b[0m  \u001b[0;31m# pylint: disable=protected-access\u001b[0m\u001b[0;34m\u001b[0m\u001b[0;34m\u001b[0m\u001b[0m\n",
            "\u001b[0;31mKeyboardInterrupt\u001b[0m: "
          ]
        }
      ]
    },
    {
      "cell_type": "code",
      "source": [
        "y_pred_s = model.predict(X_test)\n"
      ],
      "metadata": {
        "colab": {
          "base_uri": "https://localhost:8080/"
        },
        "id": "uB1_3_HwBqNb",
        "outputId": "670f7940-53bf-4d27-8918-db7c73341830"
      },
      "execution_count": 5,
      "outputs": [
        {
          "output_type": "stream",
          "name": "stdout",
          "text": [
            "313/313 [==============================] - 1s 3ms/step\n"
          ]
        }
      ]
    },
    {
      "cell_type": "code",
      "source": [
        "from tensorflow.keras.metrics import mean_absolute_error"
      ],
      "metadata": {
        "id": "XjHIMPMsCApz"
      },
      "execution_count": 6,
      "outputs": []
    },
    {
      "cell_type": "code",
      "source": [
        "def calc_mae(gt, pred):\n",
        "    return mean_absolute_error(gt,pred)\n",
        "\n",
        "# list1: label; list2: prediction\n",
        "def plot_2vectors(label, pred, name):\n",
        "    list1 = label\n",
        "    list2 = pred\n",
        "    if len(list2.shape) == 2:\n",
        "        mae = calc_mae(list1[:,0], list2[:,0])\n",
        "    else:\n",
        "        mae = calc_mae(list1, list2)\n",
        "\n",
        "    # zipped_lists = zip(list1, list2)\n",
        "    # sorted_pairs = sorted(zipped_lists)\n",
        "\n",
        "    # tuples = zip(*sorted_pairs)\n",
        "    # list1, list2 = np.array([ list(tuple) for tuple in  tuples])\n",
        "\n",
        "    # print(list1.shape)\n",
        "    # print(list2.shape)\n",
        "\n",
        "    sorted_id = sorted(range(len(list1)), key=lambda k: list1[k])\n",
        "\n",
        "    plt.clf()\n",
        "    plt.text(0,np.min(list2),f'MAE={mae}')\n",
        "\n",
        "    # plt.plot(range(num_rows), list2, label=name + ' prediction')\n",
        "    plt.scatter(np.arange(list2.shape[0]),list2[sorted_id],s = 1, alpha=0.5,label=f'{name} prediction', color='blue')\n",
        "\n",
        "    plt.scatter(np.arange(list1.shape[0]),list1[sorted_id],s = 1, alpha=0.5,label=f'{name} label', color='red')\n",
        "\n",
        "    # plt.plot(range(num_rows), list1, 'r.', label=name + ' label')\n",
        "    plt.title('Prediction Results')\n",
        "    plt.xlabel('Number of Sample')\n",
        "    plt.ylabel('Value')\n",
        "    plt.legend()\n",
        "    plt.savefig(f'{name}.png')\n",
        "    print(f'Saved plot to {name}.png')\n",
        "    plt.show()"
      ],
      "metadata": {
        "id": "PUvKkuQnB7Ib"
      },
      "execution_count": 7,
      "outputs": []
    },
    {
      "cell_type": "code",
      "source": [
        "model.save('model.h5')"
      ],
      "metadata": {
        "id": "Rh4Ija3_Dfxn"
      },
      "execution_count": 17,
      "outputs": []
    },
    {
      "cell_type": "code",
      "source": [
        "systolic_model = model\n",
        "model.save('systolic_model.h5')"
      ],
      "metadata": {
        "id": "MsiSzV56Dm7u"
      },
      "execution_count": 18,
      "outputs": []
    },
    {
      "cell_type": "code",
      "source": [
        "plot_2vectors(y_test,y_pred_s,'plot1')"
      ],
      "metadata": {
        "colab": {
          "base_uri": "https://localhost:8080/",
          "height": 297
        },
        "id": "QFNfZMIGCOGV",
        "outputId": "ccadd7a2-656d-40e0-ee57-df36467d149a"
      },
      "execution_count": 9,
      "outputs": [
        {
          "output_type": "error",
          "ename": "IndexError",
          "evalue": "ignored",
          "traceback": [
            "\u001b[0;31m---------------------------------------------------------------------------\u001b[0m",
            "\u001b[0;31mIndexError\u001b[0m                                Traceback (most recent call last)",
            "\u001b[0;32m<ipython-input-9-e21a46603f2f>\u001b[0m in \u001b[0;36m<cell line: 1>\u001b[0;34m()\u001b[0m\n\u001b[0;32m----> 1\u001b[0;31m \u001b[0mplot_2vectors\u001b[0m\u001b[0;34m(\u001b[0m\u001b[0my_test\u001b[0m\u001b[0;34m,\u001b[0m\u001b[0my_pred_s\u001b[0m\u001b[0;34m,\u001b[0m\u001b[0;34m'plot1'\u001b[0m\u001b[0;34m)\u001b[0m\u001b[0;34m\u001b[0m\u001b[0;34m\u001b[0m\u001b[0m\n\u001b[0m",
            "\u001b[0;32m<ipython-input-7-f2831feb79a0>\u001b[0m in \u001b[0;36mplot_2vectors\u001b[0;34m(label, pred, name)\u001b[0m\n\u001b[1;32m      7\u001b[0m     \u001b[0mlist2\u001b[0m \u001b[0;34m=\u001b[0m \u001b[0mpred\u001b[0m\u001b[0;34m\u001b[0m\u001b[0;34m\u001b[0m\u001b[0m\n\u001b[1;32m      8\u001b[0m     \u001b[0;32mif\u001b[0m \u001b[0mlen\u001b[0m\u001b[0;34m(\u001b[0m\u001b[0mlist2\u001b[0m\u001b[0;34m.\u001b[0m\u001b[0mshape\u001b[0m\u001b[0;34m)\u001b[0m \u001b[0;34m==\u001b[0m \u001b[0;36m2\u001b[0m\u001b[0;34m:\u001b[0m\u001b[0;34m\u001b[0m\u001b[0;34m\u001b[0m\u001b[0m\n\u001b[0;32m----> 9\u001b[0;31m         \u001b[0mmae\u001b[0m \u001b[0;34m=\u001b[0m \u001b[0mcalc_mae\u001b[0m\u001b[0;34m(\u001b[0m\u001b[0mlist1\u001b[0m\u001b[0;34m[\u001b[0m\u001b[0;34m:\u001b[0m\u001b[0;34m,\u001b[0m\u001b[0;36m0\u001b[0m\u001b[0;34m]\u001b[0m\u001b[0;34m,\u001b[0m \u001b[0mlist2\u001b[0m\u001b[0;34m[\u001b[0m\u001b[0;34m:\u001b[0m\u001b[0;34m,\u001b[0m\u001b[0;36m0\u001b[0m\u001b[0;34m]\u001b[0m\u001b[0;34m)\u001b[0m\u001b[0;34m\u001b[0m\u001b[0;34m\u001b[0m\u001b[0m\n\u001b[0m\u001b[1;32m     10\u001b[0m     \u001b[0;32melse\u001b[0m\u001b[0;34m:\u001b[0m\u001b[0;34m\u001b[0m\u001b[0;34m\u001b[0m\u001b[0m\n\u001b[1;32m     11\u001b[0m         \u001b[0mmae\u001b[0m \u001b[0;34m=\u001b[0m \u001b[0mcalc_mae\u001b[0m\u001b[0;34m(\u001b[0m\u001b[0mlist1\u001b[0m\u001b[0;34m,\u001b[0m \u001b[0mlist2\u001b[0m\u001b[0;34m)\u001b[0m\u001b[0;34m\u001b[0m\u001b[0;34m\u001b[0m\u001b[0m\n",
            "\u001b[0;31mIndexError\u001b[0m: too many indices for array: array is 1-dimensional, but 2 were indexed"
          ]
        }
      ]
    },
    {
      "cell_type": "code",
      "source": [
        "y1=y_pred_s\n",
        "print(y1)"
      ],
      "metadata": {
        "colab": {
          "base_uri": "https://localhost:8080/"
        },
        "id": "FOr9GIutCcw3",
        "outputId": "ba0c804a-9d7f-4ce9-8210-9b1a147b3108"
      },
      "execution_count": 10,
      "outputs": [
        {
          "output_type": "stream",
          "name": "stdout",
          "text": [
            "[[183.70036]\n",
            " [177.63573]\n",
            " [155.28947]\n",
            " ...\n",
            " [163.15134]\n",
            " [163.63686]\n",
            " [161.78532]]\n"
          ]
        }
      ]
    },
    {
      "cell_type": "code",
      "source": [
        "y1.shape[1]"
      ],
      "metadata": {
        "colab": {
          "base_uri": "https://localhost:8080/"
        },
        "id": "lESQkwSGCq9y",
        "outputId": "c42b934c-f658-4386-f21b-dbf7ea339410"
      },
      "execution_count": 15,
      "outputs": [
        {
          "output_type": "execute_result",
          "data": {
            "text/plain": [
              "1"
            ]
          },
          "metadata": {},
          "execution_count": 15
        }
      ]
    },
    {
      "cell_type": "code",
      "source": [
        "y_test.shape[1]"
      ],
      "metadata": {
        "colab": {
          "base_uri": "https://localhost:8080/",
          "height": 176
        },
        "id": "WRbi_ufsCzdG",
        "outputId": "be6998fb-836d-4dee-bf0b-8cb32769c391"
      },
      "execution_count": 16,
      "outputs": [
        {
          "output_type": "error",
          "ename": "IndexError",
          "evalue": "ignored",
          "traceback": [
            "\u001b[0;31m---------------------------------------------------------------------------\u001b[0m",
            "\u001b[0;31mIndexError\u001b[0m                                Traceback (most recent call last)",
            "\u001b[0;32m<ipython-input-16-668c1e6a4073>\u001b[0m in \u001b[0;36m<cell line: 1>\u001b[0;34m()\u001b[0m\n\u001b[0;32m----> 1\u001b[0;31m \u001b[0my_test\u001b[0m\u001b[0;34m.\u001b[0m\u001b[0mshape\u001b[0m\u001b[0;34m[\u001b[0m\u001b[0;36m1\u001b[0m\u001b[0;34m]\u001b[0m\u001b[0;34m\u001b[0m\u001b[0;34m\u001b[0m\u001b[0m\n\u001b[0m",
            "\u001b[0;31mIndexError\u001b[0m: tuple index out of range"
          ]
        }
      ]
    },
    {
      "cell_type": "code",
      "source": [
        "# prompt: scatter plot between y_test and y_pred_s\n",
        "\n",
        "plot_2vectors(y_test[1],y_pred_s,'plot1')\n"
      ],
      "metadata": {
        "colab": {
          "base_uri": "https://localhost:8080/",
          "height": 332
        },
        "id": "ohu4OnNwC3be",
        "outputId": "573ed87d-8b5d-44fc-cd66-2ea56782cefb"
      },
      "execution_count": 23,
      "outputs": [
        {
          "output_type": "error",
          "ename": "IndexError",
          "evalue": "ignored",
          "traceback": [
            "\u001b[0;31m---------------------------------------------------------------------------\u001b[0m",
            "\u001b[0;31mIndexError\u001b[0m                                Traceback (most recent call last)",
            "\u001b[0;32m<ipython-input-23-d7bf08a8ecec>\u001b[0m in \u001b[0;36m<cell line: 3>\u001b[0;34m()\u001b[0m\n\u001b[1;32m      1\u001b[0m \u001b[0;31m# prompt: scatter plot between y_test and y_pred_s\u001b[0m\u001b[0;34m\u001b[0m\u001b[0;34m\u001b[0m\u001b[0m\n\u001b[1;32m      2\u001b[0m \u001b[0;34m\u001b[0m\u001b[0m\n\u001b[0;32m----> 3\u001b[0;31m \u001b[0mplot_2vectors\u001b[0m\u001b[0;34m(\u001b[0m\u001b[0my_test\u001b[0m\u001b[0;34m[\u001b[0m\u001b[0;36m1\u001b[0m\u001b[0;34m]\u001b[0m\u001b[0;34m,\u001b[0m\u001b[0my_pred_s\u001b[0m\u001b[0;34m,\u001b[0m\u001b[0;34m'plot1'\u001b[0m\u001b[0;34m)\u001b[0m\u001b[0;34m\u001b[0m\u001b[0;34m\u001b[0m\u001b[0m\n\u001b[0m",
            "\u001b[0;32m<ipython-input-7-f2831feb79a0>\u001b[0m in \u001b[0;36mplot_2vectors\u001b[0;34m(label, pred, name)\u001b[0m\n\u001b[1;32m      7\u001b[0m     \u001b[0mlist2\u001b[0m \u001b[0;34m=\u001b[0m \u001b[0mpred\u001b[0m\u001b[0;34m\u001b[0m\u001b[0;34m\u001b[0m\u001b[0m\n\u001b[1;32m      8\u001b[0m     \u001b[0;32mif\u001b[0m \u001b[0mlen\u001b[0m\u001b[0;34m(\u001b[0m\u001b[0mlist2\u001b[0m\u001b[0;34m.\u001b[0m\u001b[0mshape\u001b[0m\u001b[0;34m)\u001b[0m \u001b[0;34m==\u001b[0m \u001b[0;36m2\u001b[0m\u001b[0;34m:\u001b[0m\u001b[0;34m\u001b[0m\u001b[0;34m\u001b[0m\u001b[0m\n\u001b[0;32m----> 9\u001b[0;31m         \u001b[0mmae\u001b[0m \u001b[0;34m=\u001b[0m \u001b[0mcalc_mae\u001b[0m\u001b[0;34m(\u001b[0m\u001b[0mlist1\u001b[0m\u001b[0;34m[\u001b[0m\u001b[0;34m:\u001b[0m\u001b[0;34m,\u001b[0m\u001b[0;36m0\u001b[0m\u001b[0;34m]\u001b[0m\u001b[0;34m,\u001b[0m \u001b[0mlist2\u001b[0m\u001b[0;34m[\u001b[0m\u001b[0;34m:\u001b[0m\u001b[0;34m,\u001b[0m\u001b[0;36m0\u001b[0m\u001b[0;34m]\u001b[0m\u001b[0;34m)\u001b[0m\u001b[0;34m\u001b[0m\u001b[0;34m\u001b[0m\u001b[0m\n\u001b[0m\u001b[1;32m     10\u001b[0m     \u001b[0;32melse\u001b[0m\u001b[0;34m:\u001b[0m\u001b[0;34m\u001b[0m\u001b[0;34m\u001b[0m\u001b[0m\n\u001b[1;32m     11\u001b[0m         \u001b[0mmae\u001b[0m \u001b[0;34m=\u001b[0m \u001b[0mcalc_mae\u001b[0m\u001b[0;34m(\u001b[0m\u001b[0mlist1\u001b[0m\u001b[0;34m,\u001b[0m \u001b[0mlist2\u001b[0m\u001b[0;34m)\u001b[0m\u001b[0;34m\u001b[0m\u001b[0;34m\u001b[0m\u001b[0m\n",
            "\u001b[0;31mIndexError\u001b[0m: invalid index to scalar variable."
          ]
        }
      ]
    },
    {
      "cell_type": "code",
      "source": [],
      "metadata": {
        "id": "xYcxwSm7ERmr"
      },
      "execution_count": null,
      "outputs": []
    }
  ]
}