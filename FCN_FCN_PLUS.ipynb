{
  "nbformat": 4,
  "nbformat_minor": 0,
  "metadata": {
    "colab": {
      "provenance": [],
      "authorship_tag": "ABX9TyPhKJ7xKInKjAi1v8bIYF6S",
      "include_colab_link": true
    },
    "kernelspec": {
      "name": "python3",
      "display_name": "Python 3"
    },
    "language_info": {
      "name": "python"
    }
  },
  "cells": [
    {
      "cell_type": "markdown",
      "metadata": {
        "id": "view-in-github",
        "colab_type": "text"
      },
      "source": [
        "<a href=\"https://colab.research.google.com/github/rumman-adnan/Assignment-Sensors-Data/blob/main/FCN_FCN_PLUS.ipynb\" target=\"_parent\"><img src=\"https://colab.research.google.com/assets/colab-badge.svg\" alt=\"Open In Colab\"/></a>"
      ]
    },
    {
      "cell_type": "code",
      "execution_count": 1,
      "metadata": {
        "colab": {
          "base_uri": "https://localhost:8080/",
          "height": 356
        },
        "id": "5OdV29VCCgsa",
        "outputId": "c3bc19c1-bc52-406e-e3a7-03f06a278540"
      },
      "outputs": [
        {
          "output_type": "error",
          "ename": "MessageError",
          "evalue": "ignored",
          "traceback": [
            "\u001b[0;31m---------------------------------------------------------------------------\u001b[0m",
            "\u001b[0;31mMessageError\u001b[0m                              Traceback (most recent call last)",
            "\u001b[0;32m<ipython-input-1-d5df0069828e>\u001b[0m in \u001b[0;36m<cell line: 2>\u001b[0;34m()\u001b[0m\n\u001b[1;32m      1\u001b[0m \u001b[0;32mfrom\u001b[0m \u001b[0mgoogle\u001b[0m\u001b[0;34m.\u001b[0m\u001b[0mcolab\u001b[0m \u001b[0;32mimport\u001b[0m \u001b[0mdrive\u001b[0m\u001b[0;34m\u001b[0m\u001b[0;34m\u001b[0m\u001b[0m\n\u001b[0;32m----> 2\u001b[0;31m \u001b[0mdrive\u001b[0m\u001b[0;34m.\u001b[0m\u001b[0mmount\u001b[0m\u001b[0;34m(\u001b[0m\u001b[0;34m'/content/drive'\u001b[0m\u001b[0;34m)\u001b[0m\u001b[0;34m\u001b[0m\u001b[0;34m\u001b[0m\u001b[0m\n\u001b[0m",
            "\u001b[0;32m/usr/local/lib/python3.10/dist-packages/google/colab/drive.py\u001b[0m in \u001b[0;36mmount\u001b[0;34m(mountpoint, force_remount, timeout_ms, readonly)\u001b[0m\n\u001b[1;32m    101\u001b[0m \u001b[0;32mdef\u001b[0m \u001b[0mmount\u001b[0m\u001b[0;34m(\u001b[0m\u001b[0mmountpoint\u001b[0m\u001b[0;34m,\u001b[0m \u001b[0mforce_remount\u001b[0m\u001b[0;34m=\u001b[0m\u001b[0;32mFalse\u001b[0m\u001b[0;34m,\u001b[0m \u001b[0mtimeout_ms\u001b[0m\u001b[0;34m=\u001b[0m\u001b[0;36m120000\u001b[0m\u001b[0;34m,\u001b[0m \u001b[0mreadonly\u001b[0m\u001b[0;34m=\u001b[0m\u001b[0;32mFalse\u001b[0m\u001b[0;34m)\u001b[0m\u001b[0;34m:\u001b[0m\u001b[0;34m\u001b[0m\u001b[0;34m\u001b[0m\u001b[0m\n\u001b[1;32m    102\u001b[0m   \u001b[0;34m\"\"\"Mount your Google Drive at the specified mountpoint path.\"\"\"\u001b[0m\u001b[0;34m\u001b[0m\u001b[0;34m\u001b[0m\u001b[0m\n\u001b[0;32m--> 103\u001b[0;31m   return _mount(\n\u001b[0m\u001b[1;32m    104\u001b[0m       \u001b[0mmountpoint\u001b[0m\u001b[0;34m,\u001b[0m\u001b[0;34m\u001b[0m\u001b[0;34m\u001b[0m\u001b[0m\n\u001b[1;32m    105\u001b[0m       \u001b[0mforce_remount\u001b[0m\u001b[0;34m=\u001b[0m\u001b[0mforce_remount\u001b[0m\u001b[0;34m,\u001b[0m\u001b[0;34m\u001b[0m\u001b[0;34m\u001b[0m\u001b[0m\n",
            "\u001b[0;32m/usr/local/lib/python3.10/dist-packages/google/colab/drive.py\u001b[0m in \u001b[0;36m_mount\u001b[0;34m(mountpoint, force_remount, timeout_ms, ephemeral, readonly)\u001b[0m\n\u001b[1;32m    130\u001b[0m   )\n\u001b[1;32m    131\u001b[0m   \u001b[0;32mif\u001b[0m \u001b[0mephemeral\u001b[0m\u001b[0;34m:\u001b[0m\u001b[0;34m\u001b[0m\u001b[0;34m\u001b[0m\u001b[0m\n\u001b[0;32m--> 132\u001b[0;31m     _message.blocking_request(\n\u001b[0m\u001b[1;32m    133\u001b[0m         \u001b[0;34m'request_auth'\u001b[0m\u001b[0;34m,\u001b[0m \u001b[0mrequest\u001b[0m\u001b[0;34m=\u001b[0m\u001b[0;34m{\u001b[0m\u001b[0;34m'authType'\u001b[0m\u001b[0;34m:\u001b[0m \u001b[0;34m'dfs_ephemeral'\u001b[0m\u001b[0;34m}\u001b[0m\u001b[0;34m,\u001b[0m \u001b[0mtimeout_sec\u001b[0m\u001b[0;34m=\u001b[0m\u001b[0;32mNone\u001b[0m\u001b[0;34m\u001b[0m\u001b[0;34m\u001b[0m\u001b[0m\n\u001b[1;32m    134\u001b[0m     )\n",
            "\u001b[0;32m/usr/local/lib/python3.10/dist-packages/google/colab/_message.py\u001b[0m in \u001b[0;36mblocking_request\u001b[0;34m(request_type, request, timeout_sec, parent)\u001b[0m\n\u001b[1;32m    174\u001b[0m       \u001b[0mrequest_type\u001b[0m\u001b[0;34m,\u001b[0m \u001b[0mrequest\u001b[0m\u001b[0;34m,\u001b[0m \u001b[0mparent\u001b[0m\u001b[0;34m=\u001b[0m\u001b[0mparent\u001b[0m\u001b[0;34m,\u001b[0m \u001b[0mexpect_reply\u001b[0m\u001b[0;34m=\u001b[0m\u001b[0;32mTrue\u001b[0m\u001b[0;34m\u001b[0m\u001b[0;34m\u001b[0m\u001b[0m\n\u001b[1;32m    175\u001b[0m   )\n\u001b[0;32m--> 176\u001b[0;31m   \u001b[0;32mreturn\u001b[0m \u001b[0mread_reply_from_input\u001b[0m\u001b[0;34m(\u001b[0m\u001b[0mrequest_id\u001b[0m\u001b[0;34m,\u001b[0m \u001b[0mtimeout_sec\u001b[0m\u001b[0;34m)\u001b[0m\u001b[0;34m\u001b[0m\u001b[0;34m\u001b[0m\u001b[0m\n\u001b[0m",
            "\u001b[0;32m/usr/local/lib/python3.10/dist-packages/google/colab/_message.py\u001b[0m in \u001b[0;36mread_reply_from_input\u001b[0;34m(message_id, timeout_sec)\u001b[0m\n\u001b[1;32m    101\u001b[0m     ):\n\u001b[1;32m    102\u001b[0m       \u001b[0;32mif\u001b[0m \u001b[0;34m'error'\u001b[0m \u001b[0;32min\u001b[0m \u001b[0mreply\u001b[0m\u001b[0;34m:\u001b[0m\u001b[0;34m\u001b[0m\u001b[0;34m\u001b[0m\u001b[0m\n\u001b[0;32m--> 103\u001b[0;31m         \u001b[0;32mraise\u001b[0m \u001b[0mMessageError\u001b[0m\u001b[0;34m(\u001b[0m\u001b[0mreply\u001b[0m\u001b[0;34m[\u001b[0m\u001b[0;34m'error'\u001b[0m\u001b[0;34m]\u001b[0m\u001b[0;34m)\u001b[0m\u001b[0;34m\u001b[0m\u001b[0;34m\u001b[0m\u001b[0m\n\u001b[0m\u001b[1;32m    104\u001b[0m       \u001b[0;32mreturn\u001b[0m \u001b[0mreply\u001b[0m\u001b[0;34m.\u001b[0m\u001b[0mget\u001b[0m\u001b[0;34m(\u001b[0m\u001b[0;34m'data'\u001b[0m\u001b[0;34m,\u001b[0m \u001b[0;32mNone\u001b[0m\u001b[0;34m)\u001b[0m\u001b[0;34m\u001b[0m\u001b[0;34m\u001b[0m\u001b[0m\n\u001b[1;32m    105\u001b[0m \u001b[0;34m\u001b[0m\u001b[0m\n",
            "\u001b[0;31mMessageError\u001b[0m: Error: credential propagation was unsuccessful"
          ]
        }
      ],
      "source": [
        "from google.colab import drive\n",
        "drive.mount('/content/drive')"
      ]
    },
    {
      "cell_type": "code",
      "source": [
        "import numpy as np\n",
        "from sklearn.preprocessing import StandardScaler\n",
        "# Load the training and test data\n",
        "train_path = '/content/drive/MyDrive/Python work/sim_data/simu_20000_0.1_90_140_train.npy'\n",
        "test_path = '/content/drive/MyDrive/Python work/sim_data/simu_10000_0.1_141_178_test.npy'\n",
        "train_data = np.load(train_path)\n",
        "test_data = np.load(test_path)\n",
        "\n",
        "# Extract the sensor data and the target variables (S and D)\n",
        "X_train = train_data[:, :1000]\n",
        "y_train = train_data[:, -2:]\n",
        "X_test = test_data[:, :1000]\n",
        "y_test = test_data[:, -2:]"
      ],
      "metadata": {
        "id": "oJ9e79F7Clxc"
      },
      "execution_count": null,
      "outputs": []
    },
    {
      "cell_type": "code",
      "source": [
        "X_train_mean = np.mean(X_train, axis = 1)\n",
        "X_train_mean = np.reshape(X_train_mean, (-1,1))\n",
        "X_train_std = np.std(X_train, axis = 1)\n",
        "X_train_std = np.reshape(X_train_std, (-1,1))\n",
        "X_train = (X_train - X_train_mean)/X_train_std\n",
        "\n",
        "\n",
        "X_test_mean = np.mean(X_test, axis = 1)\n",
        "X_test_mean = np.reshape(X_test_mean, (-1,1))\n",
        "X_test_std = np.std(X_test, axis = 1)\n",
        "X_test_std = np.reshape(X_test_std, (-1,1))\n",
        "X_test = (X_test - X_test_mean)/X_test_std\n",
        ""
      ],
      "metadata": {
        "id": "HOj6RftgCqi4"
      },
      "execution_count": null,
      "outputs": []
    },
    {
      "cell_type": "code",
      "source": [
        "import numpy as np\n",
        "import tensorflow as tf\n",
        "from tensorflow.keras import layers, models\n",
        "from tensorflow.keras.metrics import MeanAbsoluteError\n",
        "from sklearn.model_selection import train_test_split\n",
        "\n",
        "# # Load the complete training and testing data\n",
        "# train_data = np.load('simu_20000_0.1_90_140_train.npy')\n",
        "# test_data = np.load('simu_10000_0.1_141_178_test.npy')\n",
        "\n",
        "# Separate features and labels\n",
        "X_train_full = train_data[:, :1000]\n",
        "y_train_full = train_data[:, -2]  # Only Systolic Blood Pressure\n",
        "X_test = test_data[:, :1000]\n",
        "y_test = test_data[:, -2]  # Only Systolic Blood Pressure\n",
        "\n",
        "# Split training data into training and validation sets\n",
        "X_train, X_val, y_train, y_val = train_test_split(X_train_full, y_train_full, test_size=0.3, random_state=42, shuffle=True)\n",
        "\n",
        "# Scale the features\n",
        "X_train_mean = np.mean(X_train, axis=1)\n",
        "X_train_mean = np.reshape(X_train_mean, (-1, 1))\n",
        "X_train_std = np.std(X_train, axis=1)\n",
        "X_train_std = np.reshape(X_train_std, (-1, 1))\n",
        "X_train = (X_train - X_train_mean) / X_train_std\n",
        "\n",
        "X_val_mean = np.mean(X_val, axis=1)\n",
        "X_val_mean = np.reshape(X_val_mean, (-1, 1))\n",
        "X_val_std = np.std(X_val, axis=1)\n",
        "X_val_std = np.reshape(X_val_std, (-1, 1))\n",
        "X_val = (X_val - X_val_mean) / X_val_std\n",
        "\n",
        "X_test_mean = np.mean(X_test, axis=1)\n",
        "X_test_mean = np.reshape(X_test_mean, (-1, 1))\n",
        "X_test_std = np.std(X_test, axis=1)\n",
        "X_test_std = np.reshape(X_test_std, (-1, 1))\n",
        "X_test = (X_test - X_test_mean) / X_test_std\n",
        "\n",
        "# Reshape data for FCN_PLUS\n",
        "X_train = X_train[:, :, np.newaxis]\n",
        "X_val = X_val[:, :, np.newaxis]\n",
        "X_test = X_test[:, :, np.newaxis]\n",
        "\n",
        "# Build the FCN_PLUS model\n",
        "model = models.Sequential([\n",
        "    layers.Input(shape=(X_train.shape[1], 1)),\n",
        "    layers.Conv1D(filters=128, kernel_size=8, padding='same'),\n",
        "    layers.BatchNormalization(),\n",
        "    layers.Activation('relu'),\n",
        "    layers.Conv1D(filters=256, kernel_size=5, padding='same'),\n",
        "    layers.BatchNormalization(),\n",
        "    layers.Activation('relu'),\n",
        "    layers.Conv1D(filters=128, kernel_size=3, padding='same'),\n",
        "    layers.BatchNormalization(),\n",
        "    layers.Activation('relu'),\n",
        "    layers.GlobalAveragePooling1D(),\n",
        "    layers.Dense(1)  # Single output node for Systolic Blood Pressure\n",
        "])\n",
        "\n",
        "# Compile the model\n",
        "model.compile(optimizer='adam', loss='mse', metrics=[MeanAbsoluteError()])\n",
        "\n",
        "# Train the model for 70 epochs and capture loss after each epoch\n",
        "for epoch in range(50):\n",
        "    history = model.fit(X_train, y_train, epochs=1, batch_size=32, validation_data=(X_val, y_val), shuffle=False, verbose=1)\n",
        "\n",
        "    train_loss = history.history['loss'][0]\n",
        "    train_mae = history.history['mean_absolute_error'][0]\n",
        "\n",
        "    val_loss = history.history['val_loss'][0]\n",
        "    val_mae = history.history['val_mean_absolute_error'][0]\n",
        "\n",
        "    # Evaluate the model on the test set\n",
        "    test_loss, test_mae = model.evaluate(X_test, y_test, verbose=0)\n",
        "\n",
        "    print(f\"Epoch {epoch+1}, Train Loss: {train_loss}, Train MAE: {train_mae}, Val Loss: {val_loss}, Val MAE: {val_mae}, Test Loss: {test_loss}, Test MAE: {test_mae}\")\n",
        "    prediction = model.predict(X_test)\n",
        "    mae_systolic = MeanAbsoluteError()\n",
        "    mae_systolic.update_state(y_test, prediction)\n",
        "    print(\"Mean absolute error for systolic is: \",mae_systolic.result().numpy())\n"
      ],
      "metadata": {
        "id": "yJrPxfDRDhfG"
      },
      "execution_count": null,
      "outputs": []
    }
  ]
}