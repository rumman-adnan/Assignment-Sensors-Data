{
 "cells": [
  {
   "cell_type": "code",
   "execution_count": 4,
   "metadata": {},
   "outputs": [
    {
     "data": {
      "image/png": "[encoded data removed]",
      "text/plain": [
       "<Figure size 432x288 with 1 Axes>"
      ]
     },
     "metadata": {
      "needs_background": "light"
     },
     "output_type": "display_data"
    }
   ],
   "source": [
    "import numpy as np\n",
    "import matplotlib.pyplot as plt\n",
    "\n",
    "x = [ 12, 26, 37, 49, 59, 60, 74, 85, 98, 10 ]\n",
    "y = [ 13, 33, 20, 51, 79, 82, 83, 94, 16, 12 ]\n",
    "\n",
    "# We have to decrease residual error. We can do it by using least squares method. Linear pattern with curve\n",
    "mymodel = np.poly1d(np.polyfit(x, y, 3))\n",
    "myline = np.linspace(2, 95, 100)\n",
    "\n",
    "plt.scatter(x,y)\n",
    "plt.plot(myline, mymodel(myline))\n",
    "plt.show()\n"
   ]
  },
  {
   "cell_type": "code",
   "execution_count": 6,
   "metadata": {},
   "outputs": [
    {
     "name": "stdout",
     "output_type": "stream",
     "text": [
      "0.4838468349075298\n"
     ]
    }
   ],
   "source": [
    "# R squared value\n",
    "from sklearn.metrics import r2_score\n",
    "\n",
    "x = [89, 9, 91, 42, 93, 9, 95, 6, 97, 98, 99, 100]\n",
    "Y = [90, 91, 92, 3, 94, 15, 96, 7, 98, 9, 10, 1]\n",
    "\n",
    "model = np.poly1d(np.polyfit(x, Y, 3))\n",
    "\n",
    "myline - np.linspace(2, 95, 100)\n",
    "\n",
    "# plt.scatter\n",
    "print(r2_score(Y, model(x)))\n"
   ]
  },
  {
   "cell_type": "code",
   "execution_count": 10,
   "metadata": {},
   "outputs": [
    {
     "name": "stdout",
     "output_type": "stream",
     "text": [
      "32.87811929469961\n"
     ]
    }
   ],
   "source": [
    "# Prediction\n",
    "\n",
    "from sklearn.metrics import r2_score\n",
    "\n",
    "x = [1,2,3,4,5,6,7,8,9,10,11,22,33,44,55,66,77,88,99,100]\n",
    "y = [6,2,10,8,14,12,18,16,22,20,26,28,32,36,40,44,48,52,56,60]\n",
    "\n",
    "mymodel = np.poly1d(np.polyfit(x, y, 3))\n",
    "speed = mymodel(28)\n",
    "print(speed)"
   ]
  },
  {
   "cell_type": "code",
   "execution_count": null,
   "metadata": {},
   "outputs": [],
   "source": []
  }
 ],
 "metadata": {
  "kernelspec": {
   "display_name": "Python 3.10.5 64-bit",
   "language": "python",
   "name": "python3"
  },
  "language_info": {
   "codemirror_mode": {
    "name": "ipython",
    "version": 3
   },
   "file_extension": ".py",
   "mimetype": "text/x-python",
   "name": "python",
   "nbconvert_exporter": "python",
   "pygments_lexer": "ipython3",
   "version": "3.10.5"
  },
  "orig_nbformat": 4,
  "vscode": {
   "interpreter": {
    "hash": "63963b3f4c440940f0b94a3100916033a226cb4f45979123153792d60aa56d6a"
   }
  }
 },
 "nbformat": 4,
 "nbformat_minor": 2
}
